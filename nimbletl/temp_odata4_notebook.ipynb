{
 "metadata": {
  "language_info": {
   "codemirror_mode": {
    "name": "ipython",
    "version": 3
   },
   "file_extension": ".py",
   "mimetype": "text/x-python",
   "name": "python",
   "nbconvert_exporter": "python",
   "pygments_lexer": "ipython3",
   "version": "3.8.5-final"
  },
  "orig_nbformat": 2,
  "kernelspec": {
   "name": "python3",
   "display_name": "Python 3"
  }
 },
 "nbformat": 4,
 "nbformat_minor": 2,
 "cells": [
  {
   "cell_type": "code",
   "execution_count": 93,
   "metadata": {},
   "outputs": [
    {
     "output_type": "stream",
     "name": "stdout",
     "text": [
      "Using version \u001b[1m^2.0.0\u001b[0m for \u001b[36mpyarrow\u001b[0m\n",
      "\n",
      "\u001b[34mUpdating dependencies\u001b[0m\n",
      "\u001b[2K\u001b[34mResolving dependencies...\u001b[0m \u001b[39;2m(1.9s)\u001b[0m\n",
      "\n",
      "\u001b[34mWriting lock file\u001b[0m\n",
      "\n",
      "\u001b[1mPackage operations\u001b[0m: \u001b[34m1\u001b[0m install, \u001b[34m0\u001b[0m updates, \u001b[34m0\u001b[0m removals\n",
      "\n",
      "  \u001b[34;1m•\u001b[0m \u001b[39mInstalling \u001b[0m\u001b[36mpyarrow\u001b[0m\u001b[39m (\u001b[0m\u001b[39;1m2.0.0\u001b[0m\u001b[39m)\u001b[0m: \u001b[34mPending...\u001b[0m\n",
      "\u001b[1A\u001b[0J  \u001b[34;1m•\u001b[0m \u001b[39mInstalling \u001b[0m\u001b[36mpyarrow\u001b[0m\u001b[39m (\u001b[0m\u001b[39;1m2.0.0\u001b[0m\u001b[39m)\u001b[0m: \u001b[34mDownloading...\u001b[0m \u001b[1m0%\u001b[0m\n",
      "\u001b[1A\u001b[0J  \u001b[34;1m•\u001b[0m \u001b[39mInstalling \u001b[0m\u001b[36mpyarrow\u001b[0m\u001b[39m (\u001b[0m\u001b[39;1m2.0.0\u001b[0m\u001b[39m)\u001b[0m: \u001b[34mDownloading...\u001b[0m \u001b[1m10%\u001b[0m\n",
      "\u001b[1A\u001b[0J  \u001b[34;1m•\u001b[0m \u001b[39mInstalling \u001b[0m\u001b[36mpyarrow\u001b[0m\u001b[39m (\u001b[0m\u001b[39;1m2.0.0\u001b[0m\u001b[39m)\u001b[0m: \u001b[34mDownloading...\u001b[0m \u001b[1m20%\u001b[0m\n",
      "\u001b[1A\u001b[0J  \u001b[34;1m•\u001b[0m \u001b[39mInstalling \u001b[0m\u001b[36mpyarrow\u001b[0m\u001b[39m (\u001b[0m\u001b[39;1m2.0.0\u001b[0m\u001b[39m)\u001b[0m: \u001b[34mDownloading...\u001b[0m \u001b[1m30%\u001b[0m\n",
      "\u001b[1A\u001b[0J  \u001b[34;1m•\u001b[0m \u001b[39mInstalling \u001b[0m\u001b[36mpyarrow\u001b[0m\u001b[39m (\u001b[0m\u001b[39;1m2.0.0\u001b[0m\u001b[39m)\u001b[0m: \u001b[34mDownloading...\u001b[0m \u001b[1m40%\u001b[0m\n",
      "\u001b[1A\u001b[0J  \u001b[34;1m•\u001b[0m \u001b[39mInstalling \u001b[0m\u001b[36mpyarrow\u001b[0m\u001b[39m (\u001b[0m\u001b[39;1m2.0.0\u001b[0m\u001b[39m)\u001b[0m: \u001b[34mDownloading...\u001b[0m \u001b[1m50%\u001b[0m\n",
      "\u001b[1A\u001b[0J  \u001b[34;1m•\u001b[0m \u001b[39mInstalling \u001b[0m\u001b[36mpyarrow\u001b[0m\u001b[39m (\u001b[0m\u001b[39;1m2.0.0\u001b[0m\u001b[39m)\u001b[0m: \u001b[34mDownloading...\u001b[0m \u001b[1m60%\u001b[0m\n",
      "\u001b[1A\u001b[0J  \u001b[34;1m•\u001b[0m \u001b[39mInstalling \u001b[0m\u001b[36mpyarrow\u001b[0m\u001b[39m (\u001b[0m\u001b[39;1m2.0.0\u001b[0m\u001b[39m)\u001b[0m: \u001b[34mDownloading...\u001b[0m \u001b[1m70%\u001b[0m\n",
      "\u001b[1A\u001b[0J  \u001b[34;1m•\u001b[0m \u001b[39mInstalling \u001b[0m\u001b[36mpyarrow\u001b[0m\u001b[39m (\u001b[0m\u001b[39;1m2.0.0\u001b[0m\u001b[39m)\u001b[0m: \u001b[34mDownloading...\u001b[0m \u001b[1m80%\u001b[0m\n",
      "\u001b[1A\u001b[0J  \u001b[34;1m•\u001b[0m \u001b[39mInstalling \u001b[0m\u001b[36mpyarrow\u001b[0m\u001b[39m (\u001b[0m\u001b[39;1m2.0.0\u001b[0m\u001b[39m)\u001b[0m: \u001b[34mDownloading...\u001b[0m \u001b[1m90%\u001b[0m\n",
      "\u001b[1A\u001b[0J  \u001b[34;1m•\u001b[0m \u001b[39mInstalling \u001b[0m\u001b[36mpyarrow\u001b[0m\u001b[39m (\u001b[0m\u001b[39;1m2.0.0\u001b[0m\u001b[39m)\u001b[0m: \u001b[34mDownloading...\u001b[0m \u001b[1m100%\u001b[0m\n",
      "\u001b[1A\u001b[0J  \u001b[34;1m•\u001b[0m \u001b[39mInstalling \u001b[0m\u001b[36mpyarrow\u001b[0m\u001b[39m (\u001b[0m\u001b[39;1m2.0.0\u001b[0m\u001b[39m)\u001b[0m: \u001b[34mDownloading...\u001b[0m \u001b[1m100%\u001b[0m\n",
      "\u001b[1A\u001b[0J  \u001b[34;1m•\u001b[0m \u001b[39mInstalling \u001b[0m\u001b[36mpyarrow\u001b[0m\u001b[39m (\u001b[0m\u001b[39;1m2.0.0\u001b[0m\u001b[39m)\u001b[0m: \u001b[34mInstalling...\u001b[0m\n",
      "\u001b[1A\u001b[0J  \u001b[32;1m•\u001b[0m \u001b[39mInstalling \u001b[0m\u001b[36mpyarrow\u001b[0m\u001b[39m (\u001b[0m\u001b[32m2.0.0\u001b[0m\u001b[39m)\u001b[0m\n"
     ]
    }
   ],
   "source": [
    "!poetry add pyarrow --dev"
   ]
  },
  {
   "cell_type": "code",
   "execution_count": 1,
   "metadata": {},
   "outputs": [],
   "source": [
    "import requests\n",
    "\n",
    "from pathlib import Path\n",
    "import json\n",
    "import time\n",
    "\n",
    "import pyarrow.json\n",
    "import pyarrow.parquet\n",
    "import pandas as pd"
   ]
  },
  {
   "cell_type": "code",
   "execution_count": 73,
   "metadata": {},
   "outputs": [],
   "source": [
    "def get_table_properties(table_url):\n",
    "    r = requests.get(table_url +\"/Properties\").json()\n",
    "    return r"
   ]
  },
  {
   "cell_type": "code",
   "execution_count": 2,
   "metadata": {},
   "outputs": [],
   "source": [
    "def get_odata_pd(target_url):\n",
    "    data = pd.DataFrame()\n",
    "    while target_url:\n",
    "        r = requests.get(target_url).json()\n",
    "        data = data.append(pd.DataFrame(r['value']))\n",
    "        \n",
    "        if '@odata.nextLink' in r:\n",
    "            target_url = r['@odata.nextLink']\n",
    "        else:\n",
    "            target_url = None\n",
    "            \n",
    "    return data"
   ]
  },
  {
   "cell_type": "code",
   "execution_count": 3,
   "metadata": {},
   "outputs": [],
   "source": [
    "def get_odata_list(target_url):\n",
    "    data = []\n",
    "    while target_url:\n",
    "        r = requests.get(target_url).json()\n",
    "        data.extend(r['value'])\n",
    "        \n",
    "        if '@odata.nextLink' in r:\n",
    "            target_url = r['@odata.nextLink']\n",
    "        else:\n",
    "            target_url = None\n",
    "            \n",
    "    return data"
   ]
  },
  {
   "cell_type": "code",
   "execution_count": 21,
   "metadata": {},
   "outputs": [],
   "source": [
    "TEMP = \"test-cbs-v4-to-parquet\"\n",
    "TEMP_JSON = Path(TEMP + \".json\")\n",
    "TEMP_NDJSON = Path(TEMP + \".ndjson\")\n",
    "TEMP_PARQUET = Path(TEMP + \".parquet\")\n",
    "\n",
    "TESTDATA = \"82807NED\""
   ]
  },
  {
   "cell_type": "code",
   "execution_count": 22,
   "metadata": {},
   "outputs": [],
   "source": [
    "table_url = f\"https://odata4.cbs.nl/CBS/{TESTDATA}\"\n",
    "target_url = table_url + \"/Observations\"\n",
    "# data_82931 = get_odata(target_url)"
   ]
  },
  {
   "cell_type": "code",
   "execution_count": 62,
   "metadata": {},
   "outputs": [
    {
     "output_type": "execute_result",
     "data": {
      "text/plain": [
       "                                   name       kind  \\\n",
       "0                          MeasureCodes  EntitySet   \n",
       "1                            Dimensions  EntitySet   \n",
       "2                        PeriodenGroups  EntitySet   \n",
       "3                         PeriodenCodes  EntitySet   \n",
       "4   BedrijfstakkenBranchesSBI2008Groups  EntitySet   \n",
       "5    BedrijfstakkenBranchesSBI2008Codes  EntitySet   \n",
       "6               PersoonskenmerkenGroups  EntitySet   \n",
       "7                PersoonskenmerkenCodes  EntitySet   \n",
       "8                         GeslachtCodes  EntitySet   \n",
       "9                          Observations  EntitySet   \n",
       "10                           Properties  Singleton   \n",
       "\n",
       "                                    url  \n",
       "0                          MeasureCodes  \n",
       "1                            Dimensions  \n",
       "2                        PeriodenGroups  \n",
       "3                         PeriodenCodes  \n",
       "4   BedrijfstakkenBranchesSBI2008Groups  \n",
       "5    BedrijfstakkenBranchesSBI2008Codes  \n",
       "6               PersoonskenmerkenGroups  \n",
       "7                PersoonskenmerkenCodes  \n",
       "8                         GeslachtCodes  \n",
       "9                          Observations  \n",
       "10                           Properties  "
      ],
      "text/html": "<div>\n<style scoped>\n    .dataframe tbody tr th:only-of-type {\n        vertical-align: middle;\n    }\n\n    .dataframe tbody tr th {\n        vertical-align: top;\n    }\n\n    .dataframe thead th {\n        text-align: right;\n    }\n</style>\n<table border=\"1\" class=\"dataframe\">\n  <thead>\n    <tr style=\"text-align: right;\">\n      <th></th>\n      <th>name</th>\n      <th>kind</th>\n      <th>url</th>\n    </tr>\n  </thead>\n  <tbody>\n    <tr>\n      <th>0</th>\n      <td>MeasureCodes</td>\n      <td>EntitySet</td>\n      <td>MeasureCodes</td>\n    </tr>\n    <tr>\n      <th>1</th>\n      <td>Dimensions</td>\n      <td>EntitySet</td>\n      <td>Dimensions</td>\n    </tr>\n    <tr>\n      <th>2</th>\n      <td>PeriodenGroups</td>\n      <td>EntitySet</td>\n      <td>PeriodenGroups</td>\n    </tr>\n    <tr>\n      <th>3</th>\n      <td>PeriodenCodes</td>\n      <td>EntitySet</td>\n      <td>PeriodenCodes</td>\n    </tr>\n    <tr>\n      <th>4</th>\n      <td>BedrijfstakkenBranchesSBI2008Groups</td>\n      <td>EntitySet</td>\n      <td>BedrijfstakkenBranchesSBI2008Groups</td>\n    </tr>\n    <tr>\n      <th>5</th>\n      <td>BedrijfstakkenBranchesSBI2008Codes</td>\n      <td>EntitySet</td>\n      <td>BedrijfstakkenBranchesSBI2008Codes</td>\n    </tr>\n    <tr>\n      <th>6</th>\n      <td>PersoonskenmerkenGroups</td>\n      <td>EntitySet</td>\n      <td>PersoonskenmerkenGroups</td>\n    </tr>\n    <tr>\n      <th>7</th>\n      <td>PersoonskenmerkenCodes</td>\n      <td>EntitySet</td>\n      <td>PersoonskenmerkenCodes</td>\n    </tr>\n    <tr>\n      <th>8</th>\n      <td>GeslachtCodes</td>\n      <td>EntitySet</td>\n      <td>GeslachtCodes</td>\n    </tr>\n    <tr>\n      <th>9</th>\n      <td>Observations</td>\n      <td>EntitySet</td>\n      <td>Observations</td>\n    </tr>\n    <tr>\n      <th>10</th>\n      <td>Properties</td>\n      <td>Singleton</td>\n      <td>Properties</td>\n    </tr>\n  </tbody>\n</table>\n</div>"
     },
     "metadata": {},
     "execution_count": 62
    }
   ],
   "source": [
    "# List all tables under a dataset ID\n",
    "meta = get_odata_pd(table_url)\n",
    "meta"
   ]
  },
  {
   "cell_type": "code",
   "execution_count": 47,
   "metadata": {},
   "outputs": [
    {
     "output_type": "execute_result",
     "data": {
      "text/plain": [
       "['MeasureCodes',\n",
       " 'Dimensions',\n",
       " 'PeriodenGroups',\n",
       " 'PeriodenCodes',\n",
       " 'BedrijfstakkenBranchesSBI2008Groups',\n",
       " 'BedrijfstakkenBranchesSBI2008Codes',\n",
       " 'PersoonskenmerkenGroups',\n",
       " 'PersoonskenmerkenCodes',\n",
       " 'GeslachtCodes']"
      ]
     },
     "metadata": {},
     "execution_count": 47
    }
   ],
   "source": [
    "# Get all metadata table names (=url extensions).\n",
    "# Exclude Observations as it is the actual data and retrieved separately\n",
    "# Also include Properties as it is not relevant\n",
    "meta_names = [url for url in meta.url.tolist() if url not in ['Observations', 'Properties']]\n",
    "meta_names"
   ]
  },
  {
   "cell_type": "code",
   "execution_count": 50,
   "metadata": {},
   "outputs": [
    {
     "output_type": "execute_result",
     "data": {
      "text/plain": [
       "['https://odata4.cbs.nl/CBS/82807NED/MeasureCodes',\n",
       " 'https://odata4.cbs.nl/CBS/82807NED/Dimensions',\n",
       " 'https://odata4.cbs.nl/CBS/82807NED/PeriodenGroups',\n",
       " 'https://odata4.cbs.nl/CBS/82807NED/PeriodenCodes',\n",
       " 'https://odata4.cbs.nl/CBS/82807NED/BedrijfstakkenBranchesSBI2008Groups',\n",
       " 'https://odata4.cbs.nl/CBS/82807NED/BedrijfstakkenBranchesSBI2008Codes',\n",
       " 'https://odata4.cbs.nl/CBS/82807NED/PersoonskenmerkenGroups',\n",
       " 'https://odata4.cbs.nl/CBS/82807NED/PersoonskenmerkenCodes',\n",
       " 'https://odata4.cbs.nl/CBS/82807NED/GeslachtCodes']"
      ]
     },
     "metadata": {},
     "execution_count": 50
    }
   ],
   "source": [
    "# Convert all metadata names to actual urls for table retrieval\n",
    "meta_urls = [table_url + \"/\" + name for name in meta_names]\n",
    "meta_urls"
   ]
  },
  {
   "cell_type": "code",
   "execution_count": 51,
   "metadata": {},
   "outputs": [
    {
     "output_type": "execute_result",
     "data": {
      "text/plain": [
       "           Id    Measure ValueAttribute   Value  Perioden  \\\n",
       "0           0  3000795_1           None  7771.0  2003KW01   \n",
       "1           1  3000795_1           None  7782.0  2003KW02   \n",
       "2           2  3000795_1           None  7809.0  2003KW03   \n",
       "3           3  3000795_1           None  7770.0  2003KW04   \n",
       "4           4  3000795_1           None  7783.0  2003JJ00   \n",
       "...       ...        ...            ...     ...       ...   \n",
       "81765  496075  3000795_1           None     0.0  2018KW01   \n",
       "81766  496076  3000795_1           None     0.0  2018KW02   \n",
       "81767  496077  3000795_1           None     0.0  2018KW03   \n",
       "81768  496078  3000795_1           None     0.0  2018KW04   \n",
       "81769  496079  3000795_1           None     0.0  2018JJ00   \n",
       "\n",
       "      BedrijfstakkenBranchesSBI2008 Persoonskenmerken Geslacht  \n",
       "0                           T001081           T009002  T001038  \n",
       "1                           T001081           T009002  T001038  \n",
       "2                           T001081           T009002  T001038  \n",
       "3                           T001081           T009002  T001038  \n",
       "4                           T001081           T009002  T001038  \n",
       "...                             ...               ...      ...  \n",
       "81765                        999999           2021440     4000  \n",
       "81766                        999999           2021440     4000  \n",
       "81767                        999999           2021440     4000  \n",
       "81768                        999999           2021440     4000  \n",
       "81769                        999999           2021440     4000  \n",
       "\n",
       "[481770 rows x 8 columns]"
      ],
      "text/html": "<div>\n<style scoped>\n    .dataframe tbody tr th:only-of-type {\n        vertical-align: middle;\n    }\n\n    .dataframe tbody tr th {\n        vertical-align: top;\n    }\n\n    .dataframe thead th {\n        text-align: right;\n    }\n</style>\n<table border=\"1\" class=\"dataframe\">\n  <thead>\n    <tr style=\"text-align: right;\">\n      <th></th>\n      <th>Id</th>\n      <th>Measure</th>\n      <th>ValueAttribute</th>\n      <th>Value</th>\n      <th>Perioden</th>\n      <th>BedrijfstakkenBranchesSBI2008</th>\n      <th>Persoonskenmerken</th>\n      <th>Geslacht</th>\n    </tr>\n  </thead>\n  <tbody>\n    <tr>\n      <th>0</th>\n      <td>0</td>\n      <td>3000795_1</td>\n      <td>None</td>\n      <td>7771.0</td>\n      <td>2003KW01</td>\n      <td>T001081</td>\n      <td>T009002</td>\n      <td>T001038</td>\n    </tr>\n    <tr>\n      <th>1</th>\n      <td>1</td>\n      <td>3000795_1</td>\n      <td>None</td>\n      <td>7782.0</td>\n      <td>2003KW02</td>\n      <td>T001081</td>\n      <td>T009002</td>\n      <td>T001038</td>\n    </tr>\n    <tr>\n      <th>2</th>\n      <td>2</td>\n      <td>3000795_1</td>\n      <td>None</td>\n      <td>7809.0</td>\n      <td>2003KW03</td>\n      <td>T001081</td>\n      <td>T009002</td>\n      <td>T001038</td>\n    </tr>\n    <tr>\n      <th>3</th>\n      <td>3</td>\n      <td>3000795_1</td>\n      <td>None</td>\n      <td>7770.0</td>\n      <td>2003KW04</td>\n      <td>T001081</td>\n      <td>T009002</td>\n      <td>T001038</td>\n    </tr>\n    <tr>\n      <th>4</th>\n      <td>4</td>\n      <td>3000795_1</td>\n      <td>None</td>\n      <td>7783.0</td>\n      <td>2003JJ00</td>\n      <td>T001081</td>\n      <td>T009002</td>\n      <td>T001038</td>\n    </tr>\n    <tr>\n      <th>...</th>\n      <td>...</td>\n      <td>...</td>\n      <td>...</td>\n      <td>...</td>\n      <td>...</td>\n      <td>...</td>\n      <td>...</td>\n      <td>...</td>\n    </tr>\n    <tr>\n      <th>81765</th>\n      <td>496075</td>\n      <td>3000795_1</td>\n      <td>None</td>\n      <td>0.0</td>\n      <td>2018KW01</td>\n      <td>999999</td>\n      <td>2021440</td>\n      <td>4000</td>\n    </tr>\n    <tr>\n      <th>81766</th>\n      <td>496076</td>\n      <td>3000795_1</td>\n      <td>None</td>\n      <td>0.0</td>\n      <td>2018KW02</td>\n      <td>999999</td>\n      <td>2021440</td>\n      <td>4000</td>\n    </tr>\n    <tr>\n      <th>81767</th>\n      <td>496077</td>\n      <td>3000795_1</td>\n      <td>None</td>\n      <td>0.0</td>\n      <td>2018KW03</td>\n      <td>999999</td>\n      <td>2021440</td>\n      <td>4000</td>\n    </tr>\n    <tr>\n      <th>81768</th>\n      <td>496078</td>\n      <td>3000795_1</td>\n      <td>None</td>\n      <td>0.0</td>\n      <td>2018KW04</td>\n      <td>999999</td>\n      <td>2021440</td>\n      <td>4000</td>\n    </tr>\n    <tr>\n      <th>81769</th>\n      <td>496079</td>\n      <td>3000795_1</td>\n      <td>None</td>\n      <td>0.0</td>\n      <td>2018JJ00</td>\n      <td>999999</td>\n      <td>2021440</td>\n      <td>4000</td>\n    </tr>\n  </tbody>\n</table>\n<p>481770 rows × 8 columns</p>\n</div>"
     },
     "metadata": {},
     "execution_count": 51
    }
   ],
   "source": [
    "# Get observations data, meaning the actual values of the dataset\n",
    "observations = get_odata_pd(target_url)\n",
    "observations"
   ]
  },
  {
   "cell_type": "code",
   "execution_count": 53,
   "metadata": {},
   "outputs": [],
   "source": [
    "meta_tables = [get_odata_pd(url) for url in meta_urls]"
   ]
  },
  {
   "cell_type": "code",
   "execution_count": 59,
   "metadata": {},
   "outputs": [
    {
     "output_type": "execute_result",
     "data": {
      "text/plain": [
       "   Identifier  Index             Title Description DimensionGroupId  \\\n",
       "0    2003KW01      1  2003 1e kwartaal                            0   \n",
       "1    2003KW02      2  2003 2e kwartaal                            0   \n",
       "2    2003KW03      3  2003 3e kwartaal                            0   \n",
       "3    2003KW04      4  2003 4e kwartaal                            0   \n",
       "4    2003JJ00      5              2003                            1   \n",
       "..        ...    ...               ...         ...              ...   \n",
       "75   2018KW01     76  2018 1e kwartaal                            0   \n",
       "76   2018KW02     77  2018 2e kwartaal                            0   \n",
       "77   2018KW03     78  2018 3e kwartaal                            0   \n",
       "78   2018KW04     79  2018 4e kwartaal                            0   \n",
       "79   2018JJ00     80              2018                            1   \n",
       "\n",
       "        Status  \n",
       "0   Definitief  \n",
       "1   Definitief  \n",
       "2   Definitief  \n",
       "3   Definitief  \n",
       "4   Definitief  \n",
       "..         ...  \n",
       "75  Definitief  \n",
       "76  Definitief  \n",
       "77  Definitief  \n",
       "78  Definitief  \n",
       "79  Definitief  \n",
       "\n",
       "[80 rows x 6 columns]"
      ],
      "text/html": "<div>\n<style scoped>\n    .dataframe tbody tr th:only-of-type {\n        vertical-align: middle;\n    }\n\n    .dataframe tbody tr th {\n        vertical-align: top;\n    }\n\n    .dataframe thead th {\n        text-align: right;\n    }\n</style>\n<table border=\"1\" class=\"dataframe\">\n  <thead>\n    <tr style=\"text-align: right;\">\n      <th></th>\n      <th>Identifier</th>\n      <th>Index</th>\n      <th>Title</th>\n      <th>Description</th>\n      <th>DimensionGroupId</th>\n      <th>Status</th>\n    </tr>\n  </thead>\n  <tbody>\n    <tr>\n      <th>0</th>\n      <td>2003KW01</td>\n      <td>1</td>\n      <td>2003 1e kwartaal</td>\n      <td></td>\n      <td>0</td>\n      <td>Definitief</td>\n    </tr>\n    <tr>\n      <th>1</th>\n      <td>2003KW02</td>\n      <td>2</td>\n      <td>2003 2e kwartaal</td>\n      <td></td>\n      <td>0</td>\n      <td>Definitief</td>\n    </tr>\n    <tr>\n      <th>2</th>\n      <td>2003KW03</td>\n      <td>3</td>\n      <td>2003 3e kwartaal</td>\n      <td></td>\n      <td>0</td>\n      <td>Definitief</td>\n    </tr>\n    <tr>\n      <th>3</th>\n      <td>2003KW04</td>\n      <td>4</td>\n      <td>2003 4e kwartaal</td>\n      <td></td>\n      <td>0</td>\n      <td>Definitief</td>\n    </tr>\n    <tr>\n      <th>4</th>\n      <td>2003JJ00</td>\n      <td>5</td>\n      <td>2003</td>\n      <td></td>\n      <td>1</td>\n      <td>Definitief</td>\n    </tr>\n    <tr>\n      <th>...</th>\n      <td>...</td>\n      <td>...</td>\n      <td>...</td>\n      <td>...</td>\n      <td>...</td>\n      <td>...</td>\n    </tr>\n    <tr>\n      <th>75</th>\n      <td>2018KW01</td>\n      <td>76</td>\n      <td>2018 1e kwartaal</td>\n      <td></td>\n      <td>0</td>\n      <td>Definitief</td>\n    </tr>\n    <tr>\n      <th>76</th>\n      <td>2018KW02</td>\n      <td>77</td>\n      <td>2018 2e kwartaal</td>\n      <td></td>\n      <td>0</td>\n      <td>Definitief</td>\n    </tr>\n    <tr>\n      <th>77</th>\n      <td>2018KW03</td>\n      <td>78</td>\n      <td>2018 3e kwartaal</td>\n      <td></td>\n      <td>0</td>\n      <td>Definitief</td>\n    </tr>\n    <tr>\n      <th>78</th>\n      <td>2018KW04</td>\n      <td>79</td>\n      <td>2018 4e kwartaal</td>\n      <td></td>\n      <td>0</td>\n      <td>Definitief</td>\n    </tr>\n    <tr>\n      <th>79</th>\n      <td>2018JJ00</td>\n      <td>80</td>\n      <td>2018</td>\n      <td></td>\n      <td>1</td>\n      <td>Definitief</td>\n    </tr>\n  </tbody>\n</table>\n<p>80 rows × 6 columns</p>\n</div>"
     },
     "metadata": {},
     "execution_count": 59
    }
   ],
   "source": [
    "meta_tables[3]"
   ]
  },
  {
   "cell_type": "code",
   "execution_count": 58,
   "metadata": {},
   "outputs": [
    {
     "output_type": "execute_result",
     "data": {
      "text/plain": [
       "  Id  Index      Title Description ParentId\n",
       "0  1      0      Jaren        None     None\n",
       "1  0      2  Kwartalen        None     None"
      ],
      "text/html": "<div>\n<style scoped>\n    .dataframe tbody tr th:only-of-type {\n        vertical-align: middle;\n    }\n\n    .dataframe tbody tr th {\n        vertical-align: top;\n    }\n\n    .dataframe thead th {\n        text-align: right;\n    }\n</style>\n<table border=\"1\" class=\"dataframe\">\n  <thead>\n    <tr style=\"text-align: right;\">\n      <th></th>\n      <th>Id</th>\n      <th>Index</th>\n      <th>Title</th>\n      <th>Description</th>\n      <th>ParentId</th>\n    </tr>\n  </thead>\n  <tbody>\n    <tr>\n      <th>0</th>\n      <td>1</td>\n      <td>0</td>\n      <td>Jaren</td>\n      <td>None</td>\n      <td>None</td>\n    </tr>\n    <tr>\n      <th>1</th>\n      <td>0</td>\n      <td>2</td>\n      <td>Kwartalen</td>\n      <td>None</td>\n      <td>None</td>\n    </tr>\n  </tbody>\n</table>\n</div>"
     },
     "metadata": {},
     "execution_count": 58
    }
   ],
   "source": [
    "meta_tables[2]"
   ]
  },
  {
   "cell_type": "code",
   "execution_count": null,
   "metadata": {},
   "outputs": [],
   "source": []
  },
  {
   "cell_type": "code",
   "execution_count": 26,
   "metadata": {},
   "outputs": [
    {
     "output_type": "execute_result",
     "data": {
      "text/plain": [
       "                      Identifier                             Title  \\\n",
       "0                       Perioden                          Perioden   \n",
       "1  BedrijfstakkenBranchesSBI2008  Bedrijfstakken/branches SBI 2008   \n",
       "2              Persoonskenmerken                 Persoonskenmerken   \n",
       "3                       Geslacht                          Geslacht   \n",
       "\n",
       "  Description           Kind MapYear ReleasePolicy  \n",
       "0              TimeDimension    None          True  \n",
       "1                  Dimension    None          None  \n",
       "2                  Dimension    None          None  \n",
       "3                  Dimension    None          None  "
      ],
      "text/html": "<div>\n<style scoped>\n    .dataframe tbody tr th:only-of-type {\n        vertical-align: middle;\n    }\n\n    .dataframe tbody tr th {\n        vertical-align: top;\n    }\n\n    .dataframe thead th {\n        text-align: right;\n    }\n</style>\n<table border=\"1\" class=\"dataframe\">\n  <thead>\n    <tr style=\"text-align: right;\">\n      <th></th>\n      <th>Identifier</th>\n      <th>Title</th>\n      <th>Description</th>\n      <th>Kind</th>\n      <th>MapYear</th>\n      <th>ReleasePolicy</th>\n    </tr>\n  </thead>\n  <tbody>\n    <tr>\n      <th>0</th>\n      <td>Perioden</td>\n      <td>Perioden</td>\n      <td></td>\n      <td>TimeDimension</td>\n      <td>None</td>\n      <td>True</td>\n    </tr>\n    <tr>\n      <th>1</th>\n      <td>BedrijfstakkenBranchesSBI2008</td>\n      <td>Bedrijfstakken/branches SBI 2008</td>\n      <td></td>\n      <td>Dimension</td>\n      <td>None</td>\n      <td>None</td>\n    </tr>\n    <tr>\n      <th>2</th>\n      <td>Persoonskenmerken</td>\n      <td>Persoonskenmerken</td>\n      <td></td>\n      <td>Dimension</td>\n      <td>None</td>\n      <td>None</td>\n    </tr>\n    <tr>\n      <th>3</th>\n      <td>Geslacht</td>\n      <td>Geslacht</td>\n      <td></td>\n      <td>Dimension</td>\n      <td>None</td>\n      <td>None</td>\n    </tr>\n  </tbody>\n</table>\n</div>"
     },
     "metadata": {},
     "execution_count": 26
    }
   ],
   "source": [
    "# list all dataset dimensions\n",
    "dimensions = get_odata_pd(table_url + \"/Dimensions\")\n",
    "dimensions"
   ]
  },
  {
   "cell_type": "code",
   "execution_count": null,
   "metadata": {},
   "outputs": [],
   "source": [
    "[for dim in dimensions]"
   ]
  },
  {
   "cell_type": "code",
   "execution_count": 30,
   "metadata": {},
   "outputs": [
    {
     "output_type": "execute_result",
     "data": {
      "text/plain": [
       "  Identifier  Index                      Title  \\\n",
       "0  3000795_1      4  Werkzame beroepsbevolking   \n",
       "\n",
       "                                         Description MeasureGroupId DataType  \\\n",
       "0  Personen die betaald werk hebben.\\r\\n\\r\\nDeze ...           None  Integer   \n",
       "\n",
       "      Unit Format  Decimals PresentationType  \n",
       "0  x 1 000   None         0             None  "
      ],
      "text/html": "<div>\n<style scoped>\n    .dataframe tbody tr th:only-of-type {\n        vertical-align: middle;\n    }\n\n    .dataframe tbody tr th {\n        vertical-align: top;\n    }\n\n    .dataframe thead th {\n        text-align: right;\n    }\n</style>\n<table border=\"1\" class=\"dataframe\">\n  <thead>\n    <tr style=\"text-align: right;\">\n      <th></th>\n      <th>Identifier</th>\n      <th>Index</th>\n      <th>Title</th>\n      <th>Description</th>\n      <th>MeasureGroupId</th>\n      <th>DataType</th>\n      <th>Unit</th>\n      <th>Format</th>\n      <th>Decimals</th>\n      <th>PresentationType</th>\n    </tr>\n  </thead>\n  <tbody>\n    <tr>\n      <th>0</th>\n      <td>3000795_1</td>\n      <td>4</td>\n      <td>Werkzame beroepsbevolking</td>\n      <td>Personen die betaald werk hebben.\\r\\n\\r\\nDeze ...</td>\n      <td>None</td>\n      <td>Integer</td>\n      <td>x 1 000</td>\n      <td>None</td>\n      <td>0</td>\n      <td>None</td>\n    </tr>\n  </tbody>\n</table>\n</div>"
     },
     "metadata": {},
     "execution_count": 30
    }
   ],
   "source": [
    "# get Measure Codes\n",
    "codes = get_odata_pd(table_url + \"/MeasureCodes\")\n",
    "codes"
   ]
  },
  {
   "cell_type": "code",
   "execution_count": 35,
   "metadata": {},
   "outputs": [
    {
     "output_type": "execute_result",
     "data": {
      "text/plain": [
       "0    Personen die betaald werk hebben.\\r\\n\\r\\nDeze ...\n",
       "Name: Description, dtype: object"
      ]
     },
     "metadata": {},
     "execution_count": 35
    }
   ],
   "source": [
    "codes.Description"
   ]
  },
  {
   "cell_type": "code",
   "execution_count": null,
   "metadata": {},
   "outputs": [],
   "source": []
  },
  {
   "cell_type": "code",
   "execution_count": null,
   "metadata": {},
   "outputs": [],
   "source": []
  },
  {
   "cell_type": "code",
   "execution_count": null,
   "metadata": {},
   "outputs": [],
   "source": []
  },
  {
   "cell_type": "code",
   "execution_count": 17,
   "metadata": {},
   "outputs": [],
   "source": [
    "cbs_catalogs = get_odata_pd(\"https://odata4.cbs.nl/CBS/Catalogs\")\n",
    "cbs_datasets = get_odata_pd(\"https://odata4.cbs.nl/CBS/Datasets\")"
   ]
  },
  {
   "cell_type": "code",
   "execution_count": 20,
   "metadata": {},
   "outputs": [
    {
     "output_type": "execute_result",
     "data": {
      "text/plain": [
       "   Identifier                                        Description Language  \\\n",
       "0    80784ned  \\nDeze tabel bevat gegevens op regioniveau ove...       nl   \n",
       "1    81075ned  \\nDeze tabel gaat over de werkloosheidsduur va...       nl   \n",
       "2    81575NED  \\nDeze tabel bevat gegevens over het aantal ve...       nl   \n",
       "3    82245NED  \\nDeze tabel bevat cijfers over de Nederlandse...       nl   \n",
       "4    82807NED  \\nDeze tabel bevat kwartaal- en jaarcijfers ov...       nl   \n",
       "5    82931NED  \\nOverzicht van statistische gegevens van geme...       nl   \n",
       "6    83220NED  \\nOverzicht van statistische gegevens van geme...       nl   \n",
       "7    83433NED  \\nDeze tabel bevat cijfers over het prijsverlo...       nl   \n",
       "8    83435NED  \\nDeze tabel bevat cijfers over het aantal pas...       nl   \n",
       "9    83487NED  \\nOverzicht van statistische gegevens van geme...       nl   \n",
       "10   83488NED  \\nDeze tabel bevat cijfers over het aantal per...       nl   \n",
       "11   83749NED  \\nDeze tabel bevat cijfers over gemiddelde rei...       nl   \n",
       "12   83822NED  \\nDeze tabel bevat gegevens over vestigingen v...       nl   \n",
       "13   83878NED  \\nDeze tabel bevat cijfers over het gemiddelde...       nl   \n",
       "14   84093NED  \\nDeze tabel bevat gedetailleerde gegevens ove...       nl   \n",
       "15   84312NED  Deze tabel beschrijft voor Caribisch Nederland...       nl   \n",
       "16   84334NED  \\nDeze tabel bevat cijfers over gemiddelde rei...       nl   \n",
       "17   84440NED  \\nDeze tabel geeft een overzicht van de bruto ...       nl   \n",
       "18   84463NED  \\nDeze tabel bevat cijfers over gemiddelde rei...       nl   \n",
       "19   84486NED  \\nDeze tabel bevat cijfers over het aantal rij...       nl   \n",
       "20   84498NED  \\nIn deze tabel wordt een overzicht gegeven va...       nl   \n",
       "21   84614NED  \\nHet CBS verzamelt, binnen het kader van de m...       nl   \n",
       "22   82675NED  Het Ondernemersvertrouwen is een stemmingsindi...       nl   \n",
       "23   84303NED  Deze tabel bevat cijfers over het ondernemersv...       nl   \n",
       "24   80857ned  Deze tabel bevat het aantal openstaande, ontst...       nl   \n",
       "25   84553NED  Deze tabel bevat gegevens van de door- en uits...       nl   \n",
       "26   82242NED  Deze tabel bevat de aantallen door rechters in...       nl   \n",
       "27   80072ned  Deze tabel geeft inzicht in het ziekteverzuimp...       nl   \n",
       "28   82243NED  Deze tabel bevat de aantallen door rechters in...       nl   \n",
       "29   84120NED  Deze tabel bevat gegevens over de belastingopb...       nl   \n",
       "30   82522NED  Deze tabel bevat de aantallen door rechters in...       nl   \n",
       "31   81302ned  Deze tabel bevat gegevens op nationaal niveau ...       nl   \n",
       "32   84122NED  Deze tabel bevat gegevens over de uitgaven en ...       nl   \n",
       "33   84287NED  De vacature-indicator is een rekenkundig gewog...       nl   \n",
       "34   83719NED  Deze tabel bevat de aantallen door rechters in...       nl   \n",
       "35   7425zuiv  Melkveehouders in Nederland leveren circa 96% ...       nl   \n",
       "36   81589NED  Deze tabel bevat gegevens over het aantal bedr...       nl   \n",
       "37      60006  Deze tabel geeft per kwartaal inzicht in de on...       nl   \n",
       "38   37230ned  Deze tabel bevat cijfers over de veranderingen...       nl   \n",
       "39   70072ned  In deze tabel zijn voor een groot aantal onder...       nl   \n",
       "40   7100oogs  Deze tabel geeft per akkerbouwgewas informatie...       nl   \n",
       "41   84137NED  Deze tabel beschrijft de verschillende vormen ...       nl   \n",
       "42   84296NED  Deze tabel bevat cijfers  over de beteelde en ...       nl   \n",
       "43   84478NED  Deze tabel bevat jaarcijfers over zelfstandige...       nl   \n",
       "44   80416ned  Deze tabel bevat pompprijzen van motorbrandsto...       nl   \n",
       "45   81298ned  In deze tabel \"In- en uitvoer van goederensoor...       nl   \n",
       "46   82838NED  De tabel bevat gegevens over indexcijfers van ...       nl   \n",
       "47   83131NED  Deze tabel bevat cijfers over het prijsverloop...       nl   \n",
       "48   83132NED  Deze tabel bevat de jaar-op-jaar ontwikkeling ...       nl   \n",
       "49   83135NED  Deze tabel bevat cijfers over het prijsverloop...       nl   \n",
       "50   83136NED  Deze tabel bevat cijfers over het prijsverloop...       nl   \n",
       "51   84407NED  Deze tabel bevat een historische tijdreeks met...       nl   \n",
       "52   83765NED  Overzicht van statistische gegevens van gemeen...       nl   \n",
       "\n",
       "                                                Title  \\\n",
       "0                Landbouw; arbeidskrachten naar regio   \n",
       "1   Werkloze beroepsbevolking; werkloosheidsduur e...   \n",
       "2    Vestigingen van bedrijven; bedrijfstak, gemeente   \n",
       "3   Bevolking en huishoudens; viercijferige postco...   \n",
       "4                  Werkzame beroepsbevolking; bedrijf   \n",
       "5                  Kerncijfers wijken en buurten 2014   \n",
       "6                  Kerncijfers wijken en buurten 2015   \n",
       "7   Consumentenprijzen; werknemers laag, alle basi...   \n",
       "8   Amsterdam Airport Schiphol; passagiersvervoer,...   \n",
       "9                  Kerncijfers wijken en buurten 2016   \n",
       "10  Personen met een rijbewijs; rijbewijscategorie...   \n",
       "11  Nabijheid voorzieningen; afstand locatie, wijk...   \n",
       "12  Fitnesscentra; klanten, abonnementsprijzen en ...   \n",
       "13  Aardgaslevering vanuit het openbare net; wonin...   \n",
       "14  Consumptie; goederen- en dienstencategorieën, ...   \n",
       "15  Caribisch NL; deelnemers mbo, niveau, sector, ...   \n",
       "16  Nabijheid voorzieningen; afstand locatie, wijk...   \n",
       "17  Investeringen in vaste activa naar bedrijfstak...   \n",
       "18  Nabijheid voorzieningen; afstand locatie, wijk...   \n",
       "19             Rijksmonumenten; regio (indeling 2018)   \n",
       "20                Trend van broedvogels: indexcijfers   \n",
       "21  Chemische bestrijding door overheidsinstelling...   \n",
       "22   Ondernemersvertrouwen; bedrijfstakken (SBI 2008)   \n",
       "23                       Ondernemersvertrouwen; regio   \n",
       "24  Vacatures (openstaande, ontstane en vervulde);...   \n",
       "25  Mbo; doorstroom en uitstroom, achtergrondkenme...   \n",
       "26                       Faillissementen; kerncijfers   \n",
       "27  Ziekteverzuimpercentage; bedrijfstakken (SBI 2...   \n",
       "28       Faillissementen; natuurlijke personen, regio   \n",
       "29  Overheid; ontvangen belastingen en wettelijke ...   \n",
       "30  Faillissementen; bedrijven en instellingen, regio   \n",
       "31  Landbouw; gewassen, dieren, grondgebruik en ar...   \n",
       "32  Overheidsuitgaven en bestedingen; functies, tr...   \n",
       "33                                 Vacature-indicator   \n",
       "34    Faillissementen; natuurlijke personen, leeftijd   \n",
       "35  Melkaanvoer en zuivelproductie door zuivelfabr...   \n",
       "36                             Bedrijven; bedrijfstak   \n",
       "37  Bouwnijverheid; productieve uren in de burgerl...   \n",
       "38            Bevolkingsontwikkeling; regio per maand   \n",
       "39                    Regionale kerncijfers Nederland   \n",
       "40            Akkerbouwgewassen; productie naar regio   \n",
       "41  Jongeren met één of meerdere vormen van jeugdz...   \n",
       "42  Akkerbouwgewassen; voorlopige en definitieve o...   \n",
       "43  Zelfstandigen; persoonskenmerken en bedrijfsta...   \n",
       "44  Pompprijzen motorbrandstoffen; brandstofsoort,...   \n",
       "45  In- en uitvoer van goederensoorten naar EU, ni...   \n",
       "46  Cao-lonen, contractuele loonkosten en arbeidsd...   \n",
       "47            Consumentenprijzen; prijsindex 2015=100   \n",
       "48  Consumentenprijzen; bijdrage en impact, CPI 20...   \n",
       "49  Jaarmutatie HICP; Nederland, eurozone en Europ...   \n",
       "50          Consumentenprijzen; basisjaren vanaf 1969   \n",
       "51  Internationale handel; in- en uitvoerwaarde, S...   \n",
       "52                 Kerncijfers wijken en buurten 2017   \n",
       "\n",
       "                     Modified Catalog       Version  \\\n",
       "0   2020-03-03T02:00:00+01:00     CBS  202003030200   \n",
       "1   2020-01-23T02:00:00+01:00     CBS  202001230200   \n",
       "2   2020-04-08T02:00:00+02:00     CBS  202004080200   \n",
       "3   2019-08-23T02:00:00+02:00     CBS  201908230200   \n",
       "4   2019-11-29T02:00:00+01:00     CBS  201911290200   \n",
       "5   2018-07-27T02:00:00+02:00     CBS  201807270200   \n",
       "6   2018-07-27T02:00:00+02:00     CBS  201807270200   \n",
       "7   2016-04-12T02:00:00+02:00     CBS  201604120200   \n",
       "8   2020-02-14T02:00:00+01:00     CBS  202002140200   \n",
       "9   2019-02-01T02:00:00+01:00     CBS  201902010200   \n",
       "10  2020-02-20T02:00:00+01:00     CBS  202002200200   \n",
       "11  2018-09-14T02:00:00+02:00     CBS  201809140200   \n",
       "12  2018-11-26T02:00:00+01:00     CBS  201811260200   \n",
       "13  2020-06-25T02:00:00+02:00     CBS  202006250200   \n",
       "14  2020-06-24T06:30:00+02:00     CBS  202006240630   \n",
       "15  2020-05-19T02:00:00+02:00     CBS  202005190200   \n",
       "16  2020-06-26T02:00:00+02:00     CBS  202006260200   \n",
       "17  2019-12-13T02:00:00+01:00     CBS  201912130200   \n",
       "18  2020-06-26T02:00:00+02:00     CBS  202006260200   \n",
       "19  2019-03-19T02:00:00+01:00     CBS  201903190200   \n",
       "20  2020-06-26T02:00:00+02:00     CBS  202006260200   \n",
       "21  2019-10-15T02:00:00+02:00     CBS  201910150200   \n",
       "22  2020-08-13T00:00:00+02:00     CBS  202008130000   \n",
       "23  2020-08-13T00:00:00+02:00     CBS  202008130000   \n",
       "24  2020-08-14T00:00:00+02:00     CBS  202008140000   \n",
       "25  2020-08-28T00:00:00+02:00     CBS  202008280000   \n",
       "26  2020-10-12T06:30:00+02:00     CBS  202010120630   \n",
       "27  2020-09-18T00:00:00+02:00     CBS  202009180000   \n",
       "28  2020-10-12T06:30:00+02:00     CBS  202010120630   \n",
       "29  2020-09-23T06:30:00+02:00     CBS  202009230630   \n",
       "30  2020-10-12T06:30:00+02:00     CBS  202010120630   \n",
       "31  2020-09-30T00:00:00+02:00     CBS  202009300000   \n",
       "32  2020-09-30T00:00:00+02:00     CBS  202009300000   \n",
       "33  2020-10-08T15:30:00+02:00     CBS  202010081530   \n",
       "34  2020-10-12T06:30:00+02:00     CBS  202010120630   \n",
       "35  2020-10-14T00:00:00+02:00     CBS  202010140000   \n",
       "36  2020-10-15T00:00:00+02:00     CBS  202010150000   \n",
       "37  2020-10-21T00:00:00+02:00     CBS  202010210000   \n",
       "38  2020-10-28T00:00:00+01:00     CBS  202010280000   \n",
       "39  2020-10-30T00:00:00+01:00     CBS  202010300000   \n",
       "40  2020-10-30T00:00:00+01:00     CBS  202010300000   \n",
       "41  2020-10-30T00:00:00+01:00     CBS  202010300000   \n",
       "42  2020-10-30T00:00:00+01:00     CBS  202010300000   \n",
       "43  2020-11-02T00:00:00+01:00     CBS  202011020000   \n",
       "44  2020-11-05T00:00:00+01:00     CBS  202011050000   \n",
       "45  2020-11-05T00:00:00+01:00     CBS  202011050000   \n",
       "46  2020-11-05T00:00:00+01:00     CBS  202011050000   \n",
       "47  2020-11-05T06:30:00+01:00     CBS  202011050630   \n",
       "48  2020-11-05T06:30:00+01:00     CBS  202011050630   \n",
       "49  2020-11-05T06:30:00+01:00     CBS  202011050630   \n",
       "50  2020-11-05T06:30:00+01:00     CBS  202011050630   \n",
       "51  2020-11-05T00:00:00+01:00     CBS  202011050000   \n",
       "52  2020-11-06T00:00:00+01:00     CBS  202011060000   \n",
       "\n",
       "                                         VersionNotes  \\\n",
       "0                                                       \n",
       "1                                                       \n",
       "2                                                       \n",
       "3                                                       \n",
       "4   De cijfers over het onderwijsniveau in deze ta...   \n",
       "5                                                       \n",
       "6                                                       \n",
       "7                                                       \n",
       "8                                                       \n",
       "9                                                       \n",
       "10                                                      \n",
       "11  Het onderwerp \"Indelingswijziging wijken en bu...   \n",
       "12                                                      \n",
       "13                                                      \n",
       "14                                                      \n",
       "15                                                      \n",
       "16  In een eerdere versie van deze tabel zijn abus...   \n",
       "17                                                      \n",
       "18                                                      \n",
       "19                                                      \n",
       "20  De gegevens van de Grote gele kwikstaart en de...   \n",
       "21                                                      \n",
       "22                                                      \n",
       "23                                                      \n",
       "24                                                      \n",
       "25                                                      \n",
       "26                                                      \n",
       "27                                                      \n",
       "28                                                      \n",
       "29                                                      \n",
       "30                                                      \n",
       "31                                                      \n",
       "32  In het kader van het revisiebeleid zijn de ver...   \n",
       "33                                                      \n",
       "34                                                      \n",
       "35                                                      \n",
       "36                                                      \n",
       "37                                                      \n",
       "38                                                      \n",
       "39                                                      \n",
       "40                                                      \n",
       "41                                                      \n",
       "42                                                      \n",
       "43                                                      \n",
       "44                                                      \n",
       "45                                                      \n",
       "46                                                      \n",
       "47                                                      \n",
       "48                                                      \n",
       "49                                                      \n",
       "50                                                      \n",
       "51                                                      \n",
       "52  Binnen het thema nabijheid voorzieningen zijn ...   \n",
       "\n",
       "              VersionReason            Status       ObservationsModified  \\\n",
       "0             Actualisering          Regulier  2020-03-03T02:00:00+01:00   \n",
       "1                 Stopgezet  Gediscontinueerd  2019-11-14T02:00:00+01:00   \n",
       "2             Actualisering          Regulier  2020-04-08T02:00:00+02:00   \n",
       "3                 Stopgezet  Gediscontinueerd  2013-11-15T02:00:00+01:00   \n",
       "4                 Correctie          Regulier  2019-11-29T02:00:00+01:00   \n",
       "5               Verbetering          Regulier  2018-07-27T02:00:00+02:00   \n",
       "6               Verbetering          Regulier  2018-07-27T02:00:00+02:00   \n",
       "7                     Nieuw  Gediscontinueerd  2016-04-12T02:00:00+02:00   \n",
       "8             Actualisering          Regulier  2020-02-14T02:00:00+01:00   \n",
       "9   Actualisering bijzonder          Regulier  2019-02-01T02:00:00+01:00   \n",
       "10            Actualisering          Regulier  2020-02-20T02:00:00+01:00   \n",
       "11               Herontwerp          Regulier  2018-09-14T02:00:00+02:00   \n",
       "12            Actualisering          Regulier  2018-11-26T02:00:00+01:00   \n",
       "13            Actualisering          Regulier  2020-06-25T02:00:00+02:00   \n",
       "14            Actualisering          Regulier  2020-06-24T06:30:00+02:00   \n",
       "15              Verbetering          Regulier  2020-05-06T15:30:00+02:00   \n",
       "16                Correctie          Regulier  2020-06-26T02:00:00+02:00   \n",
       "17            Actualisering          Regulier  2019-12-13T02:00:00+01:00   \n",
       "18  Actualisering bijzonder          Regulier  2020-06-26T02:00:00+02:00   \n",
       "19                    Nieuw          Regulier  2019-03-19T02:00:00+01:00   \n",
       "20               Herontwerp          Regulier  2020-06-26T02:00:00+02:00   \n",
       "21                    Nieuw          Regulier  2019-10-15T02:00:00+02:00   \n",
       "22            Actualisering          Regulier  2020-08-13T00:00:00+02:00   \n",
       "23            Actualisering          Regulier  2020-08-13T00:00:00+02:00   \n",
       "24            Actualisering          Regulier  2020-08-14T00:00:00+02:00   \n",
       "25  Actualisering bijzonder          Regulier  2020-08-28T00:00:00+02:00   \n",
       "26            Actualisering          Regulier  2020-10-12T06:30:00+02:00   \n",
       "27            Actualisering          Regulier  2020-09-18T00:00:00+02:00   \n",
       "28            Actualisering          Regulier  2020-10-12T06:30:00+02:00   \n",
       "29            Actualisering          Regulier  2020-09-23T06:30:00+02:00   \n",
       "30            Actualisering          Regulier  2020-10-12T06:30:00+02:00   \n",
       "31            Actualisering          Regulier  2020-09-30T00:00:00+02:00   \n",
       "32                  Revisie          Regulier  2020-09-30T00:00:00+02:00   \n",
       "33            Actualisering          Regulier  2020-10-08T15:30:00+02:00   \n",
       "34            Actualisering          Regulier  2020-10-12T06:30:00+02:00   \n",
       "35            Actualisering          Regulier  2020-10-14T00:00:00+02:00   \n",
       "36            Actualisering          Regulier  2020-10-15T00:00:00+02:00   \n",
       "37            Actualisering          Regulier  2020-10-21T00:00:00+02:00   \n",
       "38            Actualisering          Regulier  2020-10-28T00:00:00+01:00   \n",
       "39  Actualisering bijzonder          Regulier  2020-10-30T00:00:00+01:00   \n",
       "40            Actualisering          Regulier  2020-10-30T00:00:00+01:00   \n",
       "41            Actualisering          Regulier  2020-10-30T00:00:00+01:00   \n",
       "42  Actualisering bijzonder          Regulier  2020-10-30T00:00:00+01:00   \n",
       "43            Actualisering          Regulier  2020-11-02T00:00:00+01:00   \n",
       "44            Actualisering          Regulier  2020-11-05T00:00:00+01:00   \n",
       "45            Actualisering          Regulier  2020-11-05T00:00:00+01:00   \n",
       "46            Actualisering          Regulier  2020-11-05T00:00:00+01:00   \n",
       "47            Actualisering          Regulier  2020-11-05T06:30:00+01:00   \n",
       "48            Actualisering          Regulier  2020-11-05T06:30:00+01:00   \n",
       "49            Actualisering          Regulier  2020-11-05T06:30:00+01:00   \n",
       "50            Actualisering          Regulier  2020-11-05T06:30:00+01:00   \n",
       "51            Actualisering          Regulier  2020-11-05T00:00:00+01:00   \n",
       "52                Correctie          Regulier  2020-11-06T00:00:00+01:00   \n",
       "\n",
       "    ObservationCount DatasetType  \n",
       "0             173148     Numeric  \n",
       "1               2432     Numeric  \n",
       "2             142800     Numeric  \n",
       "3             326174     Numeric  \n",
       "4             481770     Numeric  \n",
       "5            1348572     Numeric  \n",
       "6            1401105     Numeric  \n",
       "7               2580     Numeric  \n",
       "8              28742     Numeric  \n",
       "9            1511607     Numeric  \n",
       "10             19019     Numeric  \n",
       "11           1415016     Numeric  \n",
       "12               252     Numeric  \n",
       "13             69174     Numeric  \n",
       "14              6559     Numeric  \n",
       "15              3362     Numeric  \n",
       "16           1456910     Numeric  \n",
       "17             23851     Numeric  \n",
       "18           1483040     Numeric  \n",
       "19             31464     Numeric  \n",
       "20              5029     Numeric  \n",
       "21             19110     Numeric  \n",
       "22              1104     Numeric  \n",
       "23               999     Numeric  \n",
       "24              3141     Numeric  \n",
       "25           5738040     Numeric  \n",
       "26              2700     Numeric  \n",
       "27              4448     Numeric  \n",
       "28             35820     Numeric  \n",
       "29              6456     Numeric  \n",
       "30             35820     Numeric  \n",
       "31             11896     Numeric  \n",
       "32            252000     Numeric  \n",
       "33              1044     Numeric  \n",
       "34              4716     Numeric  \n",
       "35              3012     Numeric  \n",
       "36           1069725     Numeric  \n",
       "37               765     Numeric  \n",
       "38           2216104     Numeric  \n",
       "39           5073427     Numeric  \n",
       "40             48724     Numeric  \n",
       "41            258755     Numeric  \n",
       "42              2904     Numeric  \n",
       "43            478764     Numeric  \n",
       "44             16260     Numeric  \n",
       "45               978     Numeric  \n",
       "46            495593     Numeric  \n",
       "47            914530     Numeric  \n",
       "48             46214     Numeric  \n",
       "49              1904     Numeric  \n",
       "50              6057     Numeric  \n",
       "51             57015     Numeric  \n",
       "52           1537850     Numeric  "
      ],
      "text/html": "<div>\n<style scoped>\n    .dataframe tbody tr th:only-of-type {\n        vertical-align: middle;\n    }\n\n    .dataframe tbody tr th {\n        vertical-align: top;\n    }\n\n    .dataframe thead th {\n        text-align: right;\n    }\n</style>\n<table border=\"1\" class=\"dataframe\">\n  <thead>\n    <tr style=\"text-align: right;\">\n      <th></th>\n      <th>Identifier</th>\n      <th>Description</th>\n      <th>Language</th>\n      <th>Title</th>\n      <th>Modified</th>\n      <th>Catalog</th>\n      <th>Version</th>\n      <th>VersionNotes</th>\n      <th>VersionReason</th>\n      <th>Status</th>\n      <th>ObservationsModified</th>\n      <th>ObservationCount</th>\n      <th>DatasetType</th>\n    </tr>\n  </thead>\n  <tbody>\n    <tr>\n      <th>0</th>\n      <td>80784ned</td>\n      <td>\\nDeze tabel bevat gegevens op regioniveau ove...</td>\n      <td>nl</td>\n      <td>Landbouw; arbeidskrachten naar regio</td>\n      <td>2020-03-03T02:00:00+01:00</td>\n      <td>CBS</td>\n      <td>202003030200</td>\n      <td></td>\n      <td>Actualisering</td>\n      <td>Regulier</td>\n      <td>2020-03-03T02:00:00+01:00</td>\n      <td>173148</td>\n      <td>Numeric</td>\n    </tr>\n    <tr>\n      <th>1</th>\n      <td>81075ned</td>\n      <td>\\nDeze tabel gaat over de werkloosheidsduur va...</td>\n      <td>nl</td>\n      <td>Werkloze beroepsbevolking; werkloosheidsduur e...</td>\n      <td>2020-01-23T02:00:00+01:00</td>\n      <td>CBS</td>\n      <td>202001230200</td>\n      <td></td>\n      <td>Stopgezet</td>\n      <td>Gediscontinueerd</td>\n      <td>2019-11-14T02:00:00+01:00</td>\n      <td>2432</td>\n      <td>Numeric</td>\n    </tr>\n    <tr>\n      <th>2</th>\n      <td>81575NED</td>\n      <td>\\nDeze tabel bevat gegevens over het aantal ve...</td>\n      <td>nl</td>\n      <td>Vestigingen van bedrijven; bedrijfstak, gemeente</td>\n      <td>2020-04-08T02:00:00+02:00</td>\n      <td>CBS</td>\n      <td>202004080200</td>\n      <td></td>\n      <td>Actualisering</td>\n      <td>Regulier</td>\n      <td>2020-04-08T02:00:00+02:00</td>\n      <td>142800</td>\n      <td>Numeric</td>\n    </tr>\n    <tr>\n      <th>3</th>\n      <td>82245NED</td>\n      <td>\\nDeze tabel bevat cijfers over de Nederlandse...</td>\n      <td>nl</td>\n      <td>Bevolking en huishoudens; viercijferige postco...</td>\n      <td>2019-08-23T02:00:00+02:00</td>\n      <td>CBS</td>\n      <td>201908230200</td>\n      <td></td>\n      <td>Stopgezet</td>\n      <td>Gediscontinueerd</td>\n      <td>2013-11-15T02:00:00+01:00</td>\n      <td>326174</td>\n      <td>Numeric</td>\n    </tr>\n    <tr>\n      <th>4</th>\n      <td>82807NED</td>\n      <td>\\nDeze tabel bevat kwartaal- en jaarcijfers ov...</td>\n      <td>nl</td>\n      <td>Werkzame beroepsbevolking; bedrijf</td>\n      <td>2019-11-29T02:00:00+01:00</td>\n      <td>CBS</td>\n      <td>201911290200</td>\n      <td>De cijfers over het onderwijsniveau in deze ta...</td>\n      <td>Correctie</td>\n      <td>Regulier</td>\n      <td>2019-11-29T02:00:00+01:00</td>\n      <td>481770</td>\n      <td>Numeric</td>\n    </tr>\n    <tr>\n      <th>5</th>\n      <td>82931NED</td>\n      <td>\\nOverzicht van statistische gegevens van geme...</td>\n      <td>nl</td>\n      <td>Kerncijfers wijken en buurten 2014</td>\n      <td>2018-07-27T02:00:00+02:00</td>\n      <td>CBS</td>\n      <td>201807270200</td>\n      <td></td>\n      <td>Verbetering</td>\n      <td>Regulier</td>\n      <td>2018-07-27T02:00:00+02:00</td>\n      <td>1348572</td>\n      <td>Numeric</td>\n    </tr>\n    <tr>\n      <th>6</th>\n      <td>83220NED</td>\n      <td>\\nOverzicht van statistische gegevens van geme...</td>\n      <td>nl</td>\n      <td>Kerncijfers wijken en buurten 2015</td>\n      <td>2018-07-27T02:00:00+02:00</td>\n      <td>CBS</td>\n      <td>201807270200</td>\n      <td></td>\n      <td>Verbetering</td>\n      <td>Regulier</td>\n      <td>2018-07-27T02:00:00+02:00</td>\n      <td>1401105</td>\n      <td>Numeric</td>\n    </tr>\n    <tr>\n      <th>7</th>\n      <td>83433NED</td>\n      <td>\\nDeze tabel bevat cijfers over het prijsverlo...</td>\n      <td>nl</td>\n      <td>Consumentenprijzen; werknemers laag, alle basi...</td>\n      <td>2016-04-12T02:00:00+02:00</td>\n      <td>CBS</td>\n      <td>201604120200</td>\n      <td></td>\n      <td>Nieuw</td>\n      <td>Gediscontinueerd</td>\n      <td>2016-04-12T02:00:00+02:00</td>\n      <td>2580</td>\n      <td>Numeric</td>\n    </tr>\n    <tr>\n      <th>8</th>\n      <td>83435NED</td>\n      <td>\\nDeze tabel bevat cijfers over het aantal pas...</td>\n      <td>nl</td>\n      <td>Amsterdam Airport Schiphol; passagiersvervoer,...</td>\n      <td>2020-02-14T02:00:00+01:00</td>\n      <td>CBS</td>\n      <td>202002140200</td>\n      <td></td>\n      <td>Actualisering</td>\n      <td>Regulier</td>\n      <td>2020-02-14T02:00:00+01:00</td>\n      <td>28742</td>\n      <td>Numeric</td>\n    </tr>\n    <tr>\n      <th>9</th>\n      <td>83487NED</td>\n      <td>\\nOverzicht van statistische gegevens van geme...</td>\n      <td>nl</td>\n      <td>Kerncijfers wijken en buurten 2016</td>\n      <td>2019-02-01T02:00:00+01:00</td>\n      <td>CBS</td>\n      <td>201902010200</td>\n      <td></td>\n      <td>Actualisering bijzonder</td>\n      <td>Regulier</td>\n      <td>2019-02-01T02:00:00+01:00</td>\n      <td>1511607</td>\n      <td>Numeric</td>\n    </tr>\n    <tr>\n      <th>10</th>\n      <td>83488NED</td>\n      <td>\\nDeze tabel bevat cijfers over het aantal per...</td>\n      <td>nl</td>\n      <td>Personen met een rijbewijs; rijbewijscategorie...</td>\n      <td>2020-02-20T02:00:00+01:00</td>\n      <td>CBS</td>\n      <td>202002200200</td>\n      <td></td>\n      <td>Actualisering</td>\n      <td>Regulier</td>\n      <td>2020-02-20T02:00:00+01:00</td>\n      <td>19019</td>\n      <td>Numeric</td>\n    </tr>\n    <tr>\n      <th>11</th>\n      <td>83749NED</td>\n      <td>\\nDeze tabel bevat cijfers over gemiddelde rei...</td>\n      <td>nl</td>\n      <td>Nabijheid voorzieningen; afstand locatie, wijk...</td>\n      <td>2018-09-14T02:00:00+02:00</td>\n      <td>CBS</td>\n      <td>201809140200</td>\n      <td>Het onderwerp \"Indelingswijziging wijken en bu...</td>\n      <td>Herontwerp</td>\n      <td>Regulier</td>\n      <td>2018-09-14T02:00:00+02:00</td>\n      <td>1415016</td>\n      <td>Numeric</td>\n    </tr>\n    <tr>\n      <th>12</th>\n      <td>83822NED</td>\n      <td>\\nDeze tabel bevat gegevens over vestigingen v...</td>\n      <td>nl</td>\n      <td>Fitnesscentra; klanten, abonnementsprijzen en ...</td>\n      <td>2018-11-26T02:00:00+01:00</td>\n      <td>CBS</td>\n      <td>201811260200</td>\n      <td></td>\n      <td>Actualisering</td>\n      <td>Regulier</td>\n      <td>2018-11-26T02:00:00+01:00</td>\n      <td>252</td>\n      <td>Numeric</td>\n    </tr>\n    <tr>\n      <th>13</th>\n      <td>83878NED</td>\n      <td>\\nDeze tabel bevat cijfers over het gemiddelde...</td>\n      <td>nl</td>\n      <td>Aardgaslevering vanuit het openbare net; wonin...</td>\n      <td>2020-06-25T02:00:00+02:00</td>\n      <td>CBS</td>\n      <td>202006250200</td>\n      <td></td>\n      <td>Actualisering</td>\n      <td>Regulier</td>\n      <td>2020-06-25T02:00:00+02:00</td>\n      <td>69174</td>\n      <td>Numeric</td>\n    </tr>\n    <tr>\n      <th>14</th>\n      <td>84093NED</td>\n      <td>\\nDeze tabel bevat gedetailleerde gegevens ove...</td>\n      <td>nl</td>\n      <td>Consumptie; goederen- en dienstencategorieën, ...</td>\n      <td>2020-06-24T06:30:00+02:00</td>\n      <td>CBS</td>\n      <td>202006240630</td>\n      <td></td>\n      <td>Actualisering</td>\n      <td>Regulier</td>\n      <td>2020-06-24T06:30:00+02:00</td>\n      <td>6559</td>\n      <td>Numeric</td>\n    </tr>\n    <tr>\n      <th>15</th>\n      <td>84312NED</td>\n      <td>Deze tabel beschrijft voor Caribisch Nederland...</td>\n      <td>nl</td>\n      <td>Caribisch NL; deelnemers mbo, niveau, sector, ...</td>\n      <td>2020-05-19T02:00:00+02:00</td>\n      <td>CBS</td>\n      <td>202005190200</td>\n      <td></td>\n      <td>Verbetering</td>\n      <td>Regulier</td>\n      <td>2020-05-06T15:30:00+02:00</td>\n      <td>3362</td>\n      <td>Numeric</td>\n    </tr>\n    <tr>\n      <th>16</th>\n      <td>84334NED</td>\n      <td>\\nDeze tabel bevat cijfers over gemiddelde rei...</td>\n      <td>nl</td>\n      <td>Nabijheid voorzieningen; afstand locatie, wijk...</td>\n      <td>2020-06-26T02:00:00+02:00</td>\n      <td>CBS</td>\n      <td>202006260200</td>\n      <td>In een eerdere versie van deze tabel zijn abus...</td>\n      <td>Correctie</td>\n      <td>Regulier</td>\n      <td>2020-06-26T02:00:00+02:00</td>\n      <td>1456910</td>\n      <td>Numeric</td>\n    </tr>\n    <tr>\n      <th>17</th>\n      <td>84440NED</td>\n      <td>\\nDeze tabel geeft een overzicht van de bruto ...</td>\n      <td>nl</td>\n      <td>Investeringen in vaste activa naar bedrijfstak...</td>\n      <td>2019-12-13T02:00:00+01:00</td>\n      <td>CBS</td>\n      <td>201912130200</td>\n      <td></td>\n      <td>Actualisering</td>\n      <td>Regulier</td>\n      <td>2019-12-13T02:00:00+01:00</td>\n      <td>23851</td>\n      <td>Numeric</td>\n    </tr>\n    <tr>\n      <th>18</th>\n      <td>84463NED</td>\n      <td>\\nDeze tabel bevat cijfers over gemiddelde rei...</td>\n      <td>nl</td>\n      <td>Nabijheid voorzieningen; afstand locatie, wijk...</td>\n      <td>2020-06-26T02:00:00+02:00</td>\n      <td>CBS</td>\n      <td>202006260200</td>\n      <td></td>\n      <td>Actualisering bijzonder</td>\n      <td>Regulier</td>\n      <td>2020-06-26T02:00:00+02:00</td>\n      <td>1483040</td>\n      <td>Numeric</td>\n    </tr>\n    <tr>\n      <th>19</th>\n      <td>84486NED</td>\n      <td>\\nDeze tabel bevat cijfers over het aantal rij...</td>\n      <td>nl</td>\n      <td>Rijksmonumenten; regio (indeling 2018)</td>\n      <td>2019-03-19T02:00:00+01:00</td>\n      <td>CBS</td>\n      <td>201903190200</td>\n      <td></td>\n      <td>Nieuw</td>\n      <td>Regulier</td>\n      <td>2019-03-19T02:00:00+01:00</td>\n      <td>31464</td>\n      <td>Numeric</td>\n    </tr>\n    <tr>\n      <th>20</th>\n      <td>84498NED</td>\n      <td>\\nIn deze tabel wordt een overzicht gegeven va...</td>\n      <td>nl</td>\n      <td>Trend van broedvogels: indexcijfers</td>\n      <td>2020-06-26T02:00:00+02:00</td>\n      <td>CBS</td>\n      <td>202006260200</td>\n      <td>De gegevens van de Grote gele kwikstaart en de...</td>\n      <td>Herontwerp</td>\n      <td>Regulier</td>\n      <td>2020-06-26T02:00:00+02:00</td>\n      <td>5029</td>\n      <td>Numeric</td>\n    </tr>\n    <tr>\n      <th>21</th>\n      <td>84614NED</td>\n      <td>\\nHet CBS verzamelt, binnen het kader van de m...</td>\n      <td>nl</td>\n      <td>Chemische bestrijding door overheidsinstelling...</td>\n      <td>2019-10-15T02:00:00+02:00</td>\n      <td>CBS</td>\n      <td>201910150200</td>\n      <td></td>\n      <td>Nieuw</td>\n      <td>Regulier</td>\n      <td>2019-10-15T02:00:00+02:00</td>\n      <td>19110</td>\n      <td>Numeric</td>\n    </tr>\n    <tr>\n      <th>22</th>\n      <td>82675NED</td>\n      <td>Het Ondernemersvertrouwen is een stemmingsindi...</td>\n      <td>nl</td>\n      <td>Ondernemersvertrouwen; bedrijfstakken (SBI 2008)</td>\n      <td>2020-08-13T00:00:00+02:00</td>\n      <td>CBS</td>\n      <td>202008130000</td>\n      <td></td>\n      <td>Actualisering</td>\n      <td>Regulier</td>\n      <td>2020-08-13T00:00:00+02:00</td>\n      <td>1104</td>\n      <td>Numeric</td>\n    </tr>\n    <tr>\n      <th>23</th>\n      <td>84303NED</td>\n      <td>Deze tabel bevat cijfers over het ondernemersv...</td>\n      <td>nl</td>\n      <td>Ondernemersvertrouwen; regio</td>\n      <td>2020-08-13T00:00:00+02:00</td>\n      <td>CBS</td>\n      <td>202008130000</td>\n      <td></td>\n      <td>Actualisering</td>\n      <td>Regulier</td>\n      <td>2020-08-13T00:00:00+02:00</td>\n      <td>999</td>\n      <td>Numeric</td>\n    </tr>\n    <tr>\n      <th>24</th>\n      <td>80857ned</td>\n      <td>Deze tabel bevat het aantal openstaande, ontst...</td>\n      <td>nl</td>\n      <td>Vacatures (openstaande, ontstane en vervulde);...</td>\n      <td>2020-08-14T00:00:00+02:00</td>\n      <td>CBS</td>\n      <td>202008140000</td>\n      <td></td>\n      <td>Actualisering</td>\n      <td>Regulier</td>\n      <td>2020-08-14T00:00:00+02:00</td>\n      <td>3141</td>\n      <td>Numeric</td>\n    </tr>\n    <tr>\n      <th>25</th>\n      <td>84553NED</td>\n      <td>Deze tabel bevat gegevens van de door- en uits...</td>\n      <td>nl</td>\n      <td>Mbo; doorstroom en uitstroom, achtergrondkenme...</td>\n      <td>2020-08-28T00:00:00+02:00</td>\n      <td>CBS</td>\n      <td>202008280000</td>\n      <td></td>\n      <td>Actualisering bijzonder</td>\n      <td>Regulier</td>\n      <td>2020-08-28T00:00:00+02:00</td>\n      <td>5738040</td>\n      <td>Numeric</td>\n    </tr>\n    <tr>\n      <th>26</th>\n      <td>82242NED</td>\n      <td>Deze tabel bevat de aantallen door rechters in...</td>\n      <td>nl</td>\n      <td>Faillissementen; kerncijfers</td>\n      <td>2020-10-12T06:30:00+02:00</td>\n      <td>CBS</td>\n      <td>202010120630</td>\n      <td></td>\n      <td>Actualisering</td>\n      <td>Regulier</td>\n      <td>2020-10-12T06:30:00+02:00</td>\n      <td>2700</td>\n      <td>Numeric</td>\n    </tr>\n    <tr>\n      <th>27</th>\n      <td>80072ned</td>\n      <td>Deze tabel geeft inzicht in het ziekteverzuimp...</td>\n      <td>nl</td>\n      <td>Ziekteverzuimpercentage; bedrijfstakken (SBI 2...</td>\n      <td>2020-09-18T00:00:00+02:00</td>\n      <td>CBS</td>\n      <td>202009180000</td>\n      <td></td>\n      <td>Actualisering</td>\n      <td>Regulier</td>\n      <td>2020-09-18T00:00:00+02:00</td>\n      <td>4448</td>\n      <td>Numeric</td>\n    </tr>\n    <tr>\n      <th>28</th>\n      <td>82243NED</td>\n      <td>Deze tabel bevat de aantallen door rechters in...</td>\n      <td>nl</td>\n      <td>Faillissementen; natuurlijke personen, regio</td>\n      <td>2020-10-12T06:30:00+02:00</td>\n      <td>CBS</td>\n      <td>202010120630</td>\n      <td></td>\n      <td>Actualisering</td>\n      <td>Regulier</td>\n      <td>2020-10-12T06:30:00+02:00</td>\n      <td>35820</td>\n      <td>Numeric</td>\n    </tr>\n    <tr>\n      <th>29</th>\n      <td>84120NED</td>\n      <td>Deze tabel bevat gegevens over de belastingopb...</td>\n      <td>nl</td>\n      <td>Overheid; ontvangen belastingen en wettelijke ...</td>\n      <td>2020-09-23T06:30:00+02:00</td>\n      <td>CBS</td>\n      <td>202009230630</td>\n      <td></td>\n      <td>Actualisering</td>\n      <td>Regulier</td>\n      <td>2020-09-23T06:30:00+02:00</td>\n      <td>6456</td>\n      <td>Numeric</td>\n    </tr>\n    <tr>\n      <th>30</th>\n      <td>82522NED</td>\n      <td>Deze tabel bevat de aantallen door rechters in...</td>\n      <td>nl</td>\n      <td>Faillissementen; bedrijven en instellingen, regio</td>\n      <td>2020-10-12T06:30:00+02:00</td>\n      <td>CBS</td>\n      <td>202010120630</td>\n      <td></td>\n      <td>Actualisering</td>\n      <td>Regulier</td>\n      <td>2020-10-12T06:30:00+02:00</td>\n      <td>35820</td>\n      <td>Numeric</td>\n    </tr>\n    <tr>\n      <th>31</th>\n      <td>81302ned</td>\n      <td>Deze tabel bevat gegevens op nationaal niveau ...</td>\n      <td>nl</td>\n      <td>Landbouw; gewassen, dieren, grondgebruik en ar...</td>\n      <td>2020-09-30T00:00:00+02:00</td>\n      <td>CBS</td>\n      <td>202009300000</td>\n      <td></td>\n      <td>Actualisering</td>\n      <td>Regulier</td>\n      <td>2020-09-30T00:00:00+02:00</td>\n      <td>11896</td>\n      <td>Numeric</td>\n    </tr>\n    <tr>\n      <th>32</th>\n      <td>84122NED</td>\n      <td>Deze tabel bevat gegevens over de uitgaven en ...</td>\n      <td>nl</td>\n      <td>Overheidsuitgaven en bestedingen; functies, tr...</td>\n      <td>2020-09-30T00:00:00+02:00</td>\n      <td>CBS</td>\n      <td>202009300000</td>\n      <td>In het kader van het revisiebeleid zijn de ver...</td>\n      <td>Revisie</td>\n      <td>Regulier</td>\n      <td>2020-09-30T00:00:00+02:00</td>\n      <td>252000</td>\n      <td>Numeric</td>\n    </tr>\n    <tr>\n      <th>33</th>\n      <td>84287NED</td>\n      <td>De vacature-indicator is een rekenkundig gewog...</td>\n      <td>nl</td>\n      <td>Vacature-indicator</td>\n      <td>2020-10-08T15:30:00+02:00</td>\n      <td>CBS</td>\n      <td>202010081530</td>\n      <td></td>\n      <td>Actualisering</td>\n      <td>Regulier</td>\n      <td>2020-10-08T15:30:00+02:00</td>\n      <td>1044</td>\n      <td>Numeric</td>\n    </tr>\n    <tr>\n      <th>34</th>\n      <td>83719NED</td>\n      <td>Deze tabel bevat de aantallen door rechters in...</td>\n      <td>nl</td>\n      <td>Faillissementen; natuurlijke personen, leeftijd</td>\n      <td>2020-10-12T06:30:00+02:00</td>\n      <td>CBS</td>\n      <td>202010120630</td>\n      <td></td>\n      <td>Actualisering</td>\n      <td>Regulier</td>\n      <td>2020-10-12T06:30:00+02:00</td>\n      <td>4716</td>\n      <td>Numeric</td>\n    </tr>\n    <tr>\n      <th>35</th>\n      <td>7425zuiv</td>\n      <td>Melkveehouders in Nederland leveren circa 96% ...</td>\n      <td>nl</td>\n      <td>Melkaanvoer en zuivelproductie door zuivelfabr...</td>\n      <td>2020-10-14T00:00:00+02:00</td>\n      <td>CBS</td>\n      <td>202010140000</td>\n      <td></td>\n      <td>Actualisering</td>\n      <td>Regulier</td>\n      <td>2020-10-14T00:00:00+02:00</td>\n      <td>3012</td>\n      <td>Numeric</td>\n    </tr>\n    <tr>\n      <th>36</th>\n      <td>81589NED</td>\n      <td>Deze tabel bevat gegevens over het aantal bedr...</td>\n      <td>nl</td>\n      <td>Bedrijven; bedrijfstak</td>\n      <td>2020-10-15T00:00:00+02:00</td>\n      <td>CBS</td>\n      <td>202010150000</td>\n      <td></td>\n      <td>Actualisering</td>\n      <td>Regulier</td>\n      <td>2020-10-15T00:00:00+02:00</td>\n      <td>1069725</td>\n      <td>Numeric</td>\n    </tr>\n    <tr>\n      <th>37</th>\n      <td>60006</td>\n      <td>Deze tabel geeft per kwartaal inzicht in de on...</td>\n      <td>nl</td>\n      <td>Bouwnijverheid; productieve uren in de burgerl...</td>\n      <td>2020-10-21T00:00:00+02:00</td>\n      <td>CBS</td>\n      <td>202010210000</td>\n      <td></td>\n      <td>Actualisering</td>\n      <td>Regulier</td>\n      <td>2020-10-21T00:00:00+02:00</td>\n      <td>765</td>\n      <td>Numeric</td>\n    </tr>\n    <tr>\n      <th>38</th>\n      <td>37230ned</td>\n      <td>Deze tabel bevat cijfers over de veranderingen...</td>\n      <td>nl</td>\n      <td>Bevolkingsontwikkeling; regio per maand</td>\n      <td>2020-10-28T00:00:00+01:00</td>\n      <td>CBS</td>\n      <td>202010280000</td>\n      <td></td>\n      <td>Actualisering</td>\n      <td>Regulier</td>\n      <td>2020-10-28T00:00:00+01:00</td>\n      <td>2216104</td>\n      <td>Numeric</td>\n    </tr>\n    <tr>\n      <th>39</th>\n      <td>70072ned</td>\n      <td>In deze tabel zijn voor een groot aantal onder...</td>\n      <td>nl</td>\n      <td>Regionale kerncijfers Nederland</td>\n      <td>2020-10-30T00:00:00+01:00</td>\n      <td>CBS</td>\n      <td>202010300000</td>\n      <td></td>\n      <td>Actualisering bijzonder</td>\n      <td>Regulier</td>\n      <td>2020-10-30T00:00:00+01:00</td>\n      <td>5073427</td>\n      <td>Numeric</td>\n    </tr>\n    <tr>\n      <th>40</th>\n      <td>7100oogs</td>\n      <td>Deze tabel geeft per akkerbouwgewas informatie...</td>\n      <td>nl</td>\n      <td>Akkerbouwgewassen; productie naar regio</td>\n      <td>2020-10-30T00:00:00+01:00</td>\n      <td>CBS</td>\n      <td>202010300000</td>\n      <td></td>\n      <td>Actualisering</td>\n      <td>Regulier</td>\n      <td>2020-10-30T00:00:00+01:00</td>\n      <td>48724</td>\n      <td>Numeric</td>\n    </tr>\n    <tr>\n      <th>41</th>\n      <td>84137NED</td>\n      <td>Deze tabel beschrijft de verschillende vormen ...</td>\n      <td>nl</td>\n      <td>Jongeren met één of meerdere vormen van jeugdz...</td>\n      <td>2020-10-30T00:00:00+01:00</td>\n      <td>CBS</td>\n      <td>202010300000</td>\n      <td></td>\n      <td>Actualisering</td>\n      <td>Regulier</td>\n      <td>2020-10-30T00:00:00+01:00</td>\n      <td>258755</td>\n      <td>Numeric</td>\n    </tr>\n    <tr>\n      <th>42</th>\n      <td>84296NED</td>\n      <td>Deze tabel bevat cijfers  over de beteelde en ...</td>\n      <td>nl</td>\n      <td>Akkerbouwgewassen; voorlopige en definitieve o...</td>\n      <td>2020-10-30T00:00:00+01:00</td>\n      <td>CBS</td>\n      <td>202010300000</td>\n      <td></td>\n      <td>Actualisering bijzonder</td>\n      <td>Regulier</td>\n      <td>2020-10-30T00:00:00+01:00</td>\n      <td>2904</td>\n      <td>Numeric</td>\n    </tr>\n    <tr>\n      <th>43</th>\n      <td>84478NED</td>\n      <td>Deze tabel bevat jaarcijfers over zelfstandige...</td>\n      <td>nl</td>\n      <td>Zelfstandigen; persoonskenmerken en bedrijfsta...</td>\n      <td>2020-11-02T00:00:00+01:00</td>\n      <td>CBS</td>\n      <td>202011020000</td>\n      <td></td>\n      <td>Actualisering</td>\n      <td>Regulier</td>\n      <td>2020-11-02T00:00:00+01:00</td>\n      <td>478764</td>\n      <td>Numeric</td>\n    </tr>\n    <tr>\n      <th>44</th>\n      <td>80416ned</td>\n      <td>Deze tabel bevat pompprijzen van motorbrandsto...</td>\n      <td>nl</td>\n      <td>Pompprijzen motorbrandstoffen; brandstofsoort,...</td>\n      <td>2020-11-05T00:00:00+01:00</td>\n      <td>CBS</td>\n      <td>202011050000</td>\n      <td></td>\n      <td>Actualisering</td>\n      <td>Regulier</td>\n      <td>2020-11-05T00:00:00+01:00</td>\n      <td>16260</td>\n      <td>Numeric</td>\n    </tr>\n    <tr>\n      <th>45</th>\n      <td>81298ned</td>\n      <td>In deze tabel \"In- en uitvoer van goederensoor...</td>\n      <td>nl</td>\n      <td>In- en uitvoer van goederensoorten naar EU, ni...</td>\n      <td>2020-11-05T00:00:00+01:00</td>\n      <td>CBS</td>\n      <td>202011050000</td>\n      <td></td>\n      <td>Actualisering</td>\n      <td>Regulier</td>\n      <td>2020-11-05T00:00:00+01:00</td>\n      <td>978</td>\n      <td>Numeric</td>\n    </tr>\n    <tr>\n      <th>46</th>\n      <td>82838NED</td>\n      <td>De tabel bevat gegevens over indexcijfers van ...</td>\n      <td>nl</td>\n      <td>Cao-lonen, contractuele loonkosten en arbeidsd...</td>\n      <td>2020-11-05T00:00:00+01:00</td>\n      <td>CBS</td>\n      <td>202011050000</td>\n      <td></td>\n      <td>Actualisering</td>\n      <td>Regulier</td>\n      <td>2020-11-05T00:00:00+01:00</td>\n      <td>495593</td>\n      <td>Numeric</td>\n    </tr>\n    <tr>\n      <th>47</th>\n      <td>83131NED</td>\n      <td>Deze tabel bevat cijfers over het prijsverloop...</td>\n      <td>nl</td>\n      <td>Consumentenprijzen; prijsindex 2015=100</td>\n      <td>2020-11-05T06:30:00+01:00</td>\n      <td>CBS</td>\n      <td>202011050630</td>\n      <td></td>\n      <td>Actualisering</td>\n      <td>Regulier</td>\n      <td>2020-11-05T06:30:00+01:00</td>\n      <td>914530</td>\n      <td>Numeric</td>\n    </tr>\n    <tr>\n      <th>48</th>\n      <td>83132NED</td>\n      <td>Deze tabel bevat de jaar-op-jaar ontwikkeling ...</td>\n      <td>nl</td>\n      <td>Consumentenprijzen; bijdrage en impact, CPI 20...</td>\n      <td>2020-11-05T06:30:00+01:00</td>\n      <td>CBS</td>\n      <td>202011050630</td>\n      <td></td>\n      <td>Actualisering</td>\n      <td>Regulier</td>\n      <td>2020-11-05T06:30:00+01:00</td>\n      <td>46214</td>\n      <td>Numeric</td>\n    </tr>\n    <tr>\n      <th>49</th>\n      <td>83135NED</td>\n      <td>Deze tabel bevat cijfers over het prijsverloop...</td>\n      <td>nl</td>\n      <td>Jaarmutatie HICP; Nederland, eurozone en Europ...</td>\n      <td>2020-11-05T06:30:00+01:00</td>\n      <td>CBS</td>\n      <td>202011050630</td>\n      <td></td>\n      <td>Actualisering</td>\n      <td>Regulier</td>\n      <td>2020-11-05T06:30:00+01:00</td>\n      <td>1904</td>\n      <td>Numeric</td>\n    </tr>\n    <tr>\n      <th>50</th>\n      <td>83136NED</td>\n      <td>Deze tabel bevat cijfers over het prijsverloop...</td>\n      <td>nl</td>\n      <td>Consumentenprijzen; basisjaren vanaf 1969</td>\n      <td>2020-11-05T06:30:00+01:00</td>\n      <td>CBS</td>\n      <td>202011050630</td>\n      <td></td>\n      <td>Actualisering</td>\n      <td>Regulier</td>\n      <td>2020-11-05T06:30:00+01:00</td>\n      <td>6057</td>\n      <td>Numeric</td>\n    </tr>\n    <tr>\n      <th>51</th>\n      <td>84407NED</td>\n      <td>Deze tabel bevat een historische tijdreeks met...</td>\n      <td>nl</td>\n      <td>Internationale handel; in- en uitvoerwaarde, S...</td>\n      <td>2020-11-05T00:00:00+01:00</td>\n      <td>CBS</td>\n      <td>202011050000</td>\n      <td></td>\n      <td>Actualisering</td>\n      <td>Regulier</td>\n      <td>2020-11-05T00:00:00+01:00</td>\n      <td>57015</td>\n      <td>Numeric</td>\n    </tr>\n    <tr>\n      <th>52</th>\n      <td>83765NED</td>\n      <td>Overzicht van statistische gegevens van gemeen...</td>\n      <td>nl</td>\n      <td>Kerncijfers wijken en buurten 2017</td>\n      <td>2020-11-06T00:00:00+01:00</td>\n      <td>CBS</td>\n      <td>202011060000</td>\n      <td>Binnen het thema nabijheid voorzieningen zijn ...</td>\n      <td>Correctie</td>\n      <td>Regulier</td>\n      <td>2020-11-06T00:00:00+01:00</td>\n      <td>1537850</td>\n      <td>Numeric</td>\n    </tr>\n  </tbody>\n</table>\n</div>"
     },
     "metadata": {},
     "execution_count": 20
    }
   ],
   "source": [
    "cbs_datasets"
   ]
  },
  {
   "cell_type": "code",
   "execution_count": 18,
   "metadata": {},
   "outputs": [],
   "source": [
    "ids = cbs_datasets.Identifier.tolist()"
   ]
  },
  {
   "cell_type": "code",
   "execution_count": 19,
   "metadata": {},
   "outputs": [],
   "source": [
    "all_table_urls = [\"https://odata4.cbs.nl/CBS/\"+id for id in ids]"
   ]
  },
  {
   "cell_type": "code",
   "execution_count": null,
   "metadata": {},
   "outputs": [],
   "source": []
  },
  {
   "cell_type": "code",
   "execution_count": 134,
   "metadata": {},
   "outputs": [],
   "source": [
    "df = pd.DataFrame()\n",
    "for url in all_table_urls:\n",
    "    table = get_odata_pd(url)\n",
    "    df = df.append(table)"
   ]
  },
  {
   "cell_type": "code",
   "execution_count": null,
   "metadata": {},
   "outputs": [],
   "source": []
  },
  {
   "cell_type": "code",
   "execution_count": 68,
   "metadata": {},
   "outputs": [
    {
     "output_type": "execute_result",
     "data": {
      "text/plain": [
       "['MeasureCodes',\n",
       " 'Dimensions',\n",
       " 'PeriodenGroups',\n",
       " 'PeriodenCodes',\n",
       " 'BedrijfstakkenBranchesSBI2008Codes',\n",
       " 'Observations']"
      ]
     },
     "metadata": {},
     "execution_count": 68
    }
   ],
   "source": [
    "table_names = [table['url'] for table in get_odata(table_url) if table['url']!='Properties']\n",
    "table_names"
   ]
  },
  {
   "cell_type": "code",
   "execution_count": 69,
   "metadata": {},
   "outputs": [
    {
     "output_type": "execute_result",
     "data": {
      "text/plain": [
       "['https://odata4.cbs.nl/CBS/84287NED/MeasureCodes',\n",
       " 'https://odata4.cbs.nl/CBS/84287NED/Dimensions',\n",
       " 'https://odata4.cbs.nl/CBS/84287NED/PeriodenGroups',\n",
       " 'https://odata4.cbs.nl/CBS/84287NED/PeriodenCodes',\n",
       " 'https://odata4.cbs.nl/CBS/84287NED/BedrijfstakkenBranchesSBI2008Codes',\n",
       " 'https://odata4.cbs.nl/CBS/84287NED/Observations']"
      ]
     },
     "metadata": {},
     "execution_count": 69
    }
   ],
   "source": [
    "table_urls = [table_url + \"/\" + name for name in table_names]\n",
    "table_urls"
   ]
  },
  {
   "cell_type": "code",
   "execution_count": 70,
   "metadata": {},
   "outputs": [],
   "source": [
    "tables = [get_odata(url) for url in table_urls]"
   ]
  },
  {
   "cell_type": "code",
   "execution_count": 72,
   "metadata": {},
   "outputs": [
    {
     "output_type": "execute_result",
     "data": {
      "text/plain": [
       "dict_keys(['MeasureCodes', 'Dimensions', 'PeriodenGroups', 'PeriodenCodes', 'BedrijfstakkenBranchesSBI2008Codes', 'Observations'])"
      ]
     },
     "metadata": {},
     "execution_count": 72
    }
   ],
   "source": [
    "tables_dict.keys()"
   ]
  },
  {
   "cell_type": "code",
   "execution_count": 74,
   "metadata": {},
   "outputs": [
    {
     "output_type": "execute_result",
     "data": {
      "text/plain": [
       "[{'Identifier': 'Perioden',\n",
       "  'Title': 'Perioden',\n",
       "  'Description': '',\n",
       "  'Kind': 'TimeDimension',\n",
       "  'MapYear': None,\n",
       "  'ReleasePolicy': 'True'},\n",
       " {'Identifier': 'BedrijfstakkenBranchesSBI2008',\n",
       "  'Title': 'Bedrijfstakken/branches (SBI 2008)',\n",
       "  'Description': '',\n",
       "  'Kind': 'Dimension',\n",
       "  'MapYear': None,\n",
       "  'ReleasePolicy': None}]"
      ]
     },
     "metadata": {},
     "execution_count": 74
    }
   ],
   "source": [
    "tables_dict['Dimensions']"
   ]
  },
  {
   "cell_type": "code",
   "execution_count": null,
   "metadata": {},
   "outputs": [],
   "source": []
  },
  {
   "cell_type": "code",
   "execution_count": 71,
   "metadata": {},
   "outputs": [],
   "source": [
    "tables_dict = dict(zip(table_names, tables))"
   ]
  },
  {
   "cell_type": "code",
   "execution_count": 14,
   "metadata": {},
   "outputs": [],
   "source": [
    "with open(TEMP_NDJSON, \"w+\") as ndjson:\n",
    "    for record in table:\n",
    "        ndjson.write(json.dumps(record) + \"\\n\")"
   ]
  },
  {
   "cell_type": "code",
   "execution_count": null,
   "metadata": {},
   "outputs": [],
   "source": []
  },
  {
   "cell_type": "code",
   "execution_count": null,
   "metadata": {},
   "outputs": [],
   "source": []
  },
  {
   "cell_type": "code",
   "execution_count": null,
   "metadata": {},
   "outputs": [],
   "source": []
  }
 ]
}