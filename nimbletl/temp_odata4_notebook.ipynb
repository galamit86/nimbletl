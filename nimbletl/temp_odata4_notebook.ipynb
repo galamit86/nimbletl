{
 "metadata": {
  "language_info": {
   "codemirror_mode": {
    "name": "ipython",
    "version": 3
   },
   "file_extension": ".py",
   "mimetype": "text/x-python",
   "name": "python",
   "nbconvert_exporter": "python",
   "pygments_lexer": "ipython3",
   "version": "3.8.5-final"
  },
  "orig_nbformat": 2,
  "kernelspec": {
   "name": "python3",
   "display_name": "Python 3"
  }
 },
 "nbformat": 4,
 "nbformat_minor": 2,
 "cells": [
  {
   "cell_type": "code",
   "execution_count": 2,
   "metadata": {},
   "outputs": [],
   "source": [
    "import requests\n",
    "import pandas as pd"
   ]
  },
  {
   "cell_type": "code",
   "execution_count": 30,
   "metadata": {},
   "outputs": [],
   "source": [
    "def get_odata(target_url):\n",
    "    data = pd.DataFrame()\n",
    "    while target_url:\n",
    "        r = requests.get(target_url).json()\n",
    "        data = data.append(pd.DataFrame(r['value']))\n",
    "        \n",
    "        if '@odata.nextLink' in r:\n",
    "            target_url = r['@odata.nextLink']\n",
    "        else:\n",
    "            target_url = None\n",
    "            \n",
    "    return data"
   ]
  },
  {
   "cell_type": "code",
   "execution_count": 32,
   "metadata": {},
   "outputs": [],
   "source": [
    "table_url = \"https://odata4.cbs.nl/CBS/82931NED\"\n",
    "target_url = table_url + \"/Observations\"\n",
    "data_82931 = get_odata(target_url)"
   ]
  },
  {
   "source": [
    "table_url = \"https://odata4.cbs.nl/CBS/83765NED\"\n",
    "target_url = table_url + \"/Observations\"\n",
    "data_83765 = get_odata(target_url)"
   ],
   "cell_type": "code",
   "metadata": {},
   "execution_count": null,
   "outputs": []
  },
  {
   "cell_type": "code",
   "execution_count": 34,
   "metadata": {},
   "outputs": [
    {
     "output_type": "execute_result",
     "data": {
      "text/plain": [
       "   Id  Measure ValueAttribute       Value WijkenEnBuurten\n",
       "0   0  T001036           None  16829290.0            NL00\n",
       "1   1     3000           None   8334385.0            NL00\n",
       "2   2     4000           None   8494905.0            NL00\n",
       "3   3    10680           None        17.0            NL00\n",
       "4   4    53050           None        12.0            NL00"
      ],
      "text/html": "<div>\n<style scoped>\n    .dataframe tbody tr th:only-of-type {\n        vertical-align: middle;\n    }\n\n    .dataframe tbody tr th {\n        vertical-align: top;\n    }\n\n    .dataframe thead th {\n        text-align: right;\n    }\n</style>\n<table border=\"1\" class=\"dataframe\">\n  <thead>\n    <tr style=\"text-align: right;\">\n      <th></th>\n      <th>Id</th>\n      <th>Measure</th>\n      <th>ValueAttribute</th>\n      <th>Value</th>\n      <th>WijkenEnBuurten</th>\n    </tr>\n  </thead>\n  <tbody>\n    <tr>\n      <th>0</th>\n      <td>0</td>\n      <td>T001036</td>\n      <td>None</td>\n      <td>16829290.0</td>\n      <td>NL00</td>\n    </tr>\n    <tr>\n      <th>1</th>\n      <td>1</td>\n      <td>3000</td>\n      <td>None</td>\n      <td>8334385.0</td>\n      <td>NL00</td>\n    </tr>\n    <tr>\n      <th>2</th>\n      <td>2</td>\n      <td>4000</td>\n      <td>None</td>\n      <td>8494905.0</td>\n      <td>NL00</td>\n    </tr>\n    <tr>\n      <th>3</th>\n      <td>3</td>\n      <td>10680</td>\n      <td>None</td>\n      <td>17.0</td>\n      <td>NL00</td>\n    </tr>\n    <tr>\n      <th>4</th>\n      <td>4</td>\n      <td>53050</td>\n      <td>None</td>\n      <td>12.0</td>\n      <td>NL00</td>\n    </tr>\n  </tbody>\n</table>\n</div>"
     },
     "metadata": {},
     "execution_count": 34
    }
   ],
   "source": [
    "data_82931.head()"
   ]
  },
  {
   "cell_type": "code",
   "execution_count": 45,
   "metadata": {},
   "outputs": [
    {
     "output_type": "execute_result",
     "data": {
      "text/plain": [
       "            Id  Measure ValueAttribute    Value WijkenEnBuurten\n",
       "99         103  T001036           None  25286.0          GM1680\n",
       "100        104     3000           None  12603.0          GM1680\n",
       "101        105     4000           None  12683.0          GM1680\n",
       "102        106    10680           None   3572.0          GM1680\n",
       "103        107    53050           None   2558.0          GM1680\n",
       "...        ...      ...            ...      ...             ...\n",
       "37845  1716696   ST0001           None      5.0      BU01935210\n",
       "37846  1716697   ST0003           None    229.0      BU01935210\n",
       "37847  1716698  CRI1100           None      0.0      BU01935210\n",
       "37848  1716699  CRI2000           None      2.0      BU01935210\n",
       "37849  1716700  CRI3000           None      2.0      BU01935210\n",
       "\n",
       "[1537747 rows x 5 columns]"
      ],
      "text/html": "<div>\n<style scoped>\n    .dataframe tbody tr th:only-of-type {\n        vertical-align: middle;\n    }\n\n    .dataframe tbody tr th {\n        vertical-align: top;\n    }\n\n    .dataframe thead th {\n        text-align: right;\n    }\n</style>\n<table border=\"1\" class=\"dataframe\">\n  <thead>\n    <tr style=\"text-align: right;\">\n      <th></th>\n      <th>Id</th>\n      <th>Measure</th>\n      <th>ValueAttribute</th>\n      <th>Value</th>\n      <th>WijkenEnBuurten</th>\n    </tr>\n  </thead>\n  <tbody>\n    <tr>\n      <th>99</th>\n      <td>103</td>\n      <td>T001036</td>\n      <td>None</td>\n      <td>25286.0</td>\n      <td>GM1680</td>\n    </tr>\n    <tr>\n      <th>100</th>\n      <td>104</td>\n      <td>3000</td>\n      <td>None</td>\n      <td>12603.0</td>\n      <td>GM1680</td>\n    </tr>\n    <tr>\n      <th>101</th>\n      <td>105</td>\n      <td>4000</td>\n      <td>None</td>\n      <td>12683.0</td>\n      <td>GM1680</td>\n    </tr>\n    <tr>\n      <th>102</th>\n      <td>106</td>\n      <td>10680</td>\n      <td>None</td>\n      <td>3572.0</td>\n      <td>GM1680</td>\n    </tr>\n    <tr>\n      <th>103</th>\n      <td>107</td>\n      <td>53050</td>\n      <td>None</td>\n      <td>2558.0</td>\n      <td>GM1680</td>\n    </tr>\n    <tr>\n      <th>...</th>\n      <td>...</td>\n      <td>...</td>\n      <td>...</td>\n      <td>...</td>\n      <td>...</td>\n    </tr>\n    <tr>\n      <th>37845</th>\n      <td>1716696</td>\n      <td>ST0001</td>\n      <td>None</td>\n      <td>5.0</td>\n      <td>BU01935210</td>\n    </tr>\n    <tr>\n      <th>37846</th>\n      <td>1716697</td>\n      <td>ST0003</td>\n      <td>None</td>\n      <td>229.0</td>\n      <td>BU01935210</td>\n    </tr>\n    <tr>\n      <th>37847</th>\n      <td>1716698</td>\n      <td>CRI1100</td>\n      <td>None</td>\n      <td>0.0</td>\n      <td>BU01935210</td>\n    </tr>\n    <tr>\n      <th>37848</th>\n      <td>1716699</td>\n      <td>CRI2000</td>\n      <td>None</td>\n      <td>2.0</td>\n      <td>BU01935210</td>\n    </tr>\n    <tr>\n      <th>37849</th>\n      <td>1716700</td>\n      <td>CRI3000</td>\n      <td>None</td>\n      <td>2.0</td>\n      <td>BU01935210</td>\n    </tr>\n  </tbody>\n</table>\n<p>1537747 rows × 5 columns</p>\n</div>"
     },
     "metadata": {},
     "execution_count": 45
    }
   ],
   "source": [
    "data_83765[data_83765.Measure.duplicated()]"
   ]
  },
  {
   "cell_type": "code",
   "execution_count": 36,
   "metadata": {},
   "outputs": [
    {
     "output_type": "execute_result",
     "data": {
      "text/plain": [
       "(1348572, 5)"
      ]
     },
     "metadata": {},
     "execution_count": 36
    }
   ],
   "source": [
    "data_82931.shape"
   ]
  },
  {
   "cell_type": "code",
   "execution_count": 39,
   "metadata": {},
   "outputs": [
    {
     "output_type": "execute_result",
     "data": {
      "text/plain": [
       "(1537850, 5)"
      ]
     },
     "metadata": {},
     "execution_count": 39
    }
   ],
   "source": [
    "data_83765.shape"
   ]
  },
  {
   "cell_type": "code",
   "execution_count": 35,
   "metadata": {},
   "outputs": [
    {
     "output_type": "execute_result",
     "data": {
      "text/plain": [
       "   Id  Measure ValueAttribute       Value WijkenEnBuurten\n",
       "0   0  T001036           None  17081507.0            NL00\n",
       "1   1     3000           None   8475102.0            NL00\n",
       "2   2     4000           None   8606405.0            NL00\n",
       "3   3    10680           None   2781768.0            NL00\n",
       "4   4    53050           None   2101648.0            NL00"
      ],
      "text/html": "<div>\n<style scoped>\n    .dataframe tbody tr th:only-of-type {\n        vertical-align: middle;\n    }\n\n    .dataframe tbody tr th {\n        vertical-align: top;\n    }\n\n    .dataframe thead th {\n        text-align: right;\n    }\n</style>\n<table border=\"1\" class=\"dataframe\">\n  <thead>\n    <tr style=\"text-align: right;\">\n      <th></th>\n      <th>Id</th>\n      <th>Measure</th>\n      <th>ValueAttribute</th>\n      <th>Value</th>\n      <th>WijkenEnBuurten</th>\n    </tr>\n  </thead>\n  <tbody>\n    <tr>\n      <th>0</th>\n      <td>0</td>\n      <td>T001036</td>\n      <td>None</td>\n      <td>17081507.0</td>\n      <td>NL00</td>\n    </tr>\n    <tr>\n      <th>1</th>\n      <td>1</td>\n      <td>3000</td>\n      <td>None</td>\n      <td>8475102.0</td>\n      <td>NL00</td>\n    </tr>\n    <tr>\n      <th>2</th>\n      <td>2</td>\n      <td>4000</td>\n      <td>None</td>\n      <td>8606405.0</td>\n      <td>NL00</td>\n    </tr>\n    <tr>\n      <th>3</th>\n      <td>3</td>\n      <td>10680</td>\n      <td>None</td>\n      <td>2781768.0</td>\n      <td>NL00</td>\n    </tr>\n    <tr>\n      <th>4</th>\n      <td>4</td>\n      <td>53050</td>\n      <td>None</td>\n      <td>2101648.0</td>\n      <td>NL00</td>\n    </tr>\n  </tbody>\n</table>\n</div>"
     },
     "metadata": {},
     "execution_count": 35
    }
   ],
   "source": [
    "data_83765.head()"
   ]
  },
  {
   "cell_type": "code",
   "execution_count": 27,
   "metadata": {},
   "outputs": [],
   "source": [
    "obs_data = data"
   ]
  },
  {
   "cell_type": "code",
   "execution_count": 31,
   "metadata": {},
   "outputs": [
    {
     "output_type": "execute_result",
     "data": {
      "text/plain": [
       "   Id  Measure ValueAttribute       Value WijkenEnBuurten\n",
       "0   0  T001036           None  16829290.0            NL00\n",
       "1   1     3000           None   8334385.0            NL00\n",
       "2   2     4000           None   8494905.0            NL00\n",
       "3   3    10680           None        17.0            NL00\n",
       "4   4    53050           None        12.0            NL00"
      ],
      "text/html": "<div>\n<style scoped>\n    .dataframe tbody tr th:only-of-type {\n        vertical-align: middle;\n    }\n\n    .dataframe tbody tr th {\n        vertical-align: top;\n    }\n\n    .dataframe thead th {\n        text-align: right;\n    }\n</style>\n<table border=\"1\" class=\"dataframe\">\n  <thead>\n    <tr style=\"text-align: right;\">\n      <th></th>\n      <th>Id</th>\n      <th>Measure</th>\n      <th>ValueAttribute</th>\n      <th>Value</th>\n      <th>WijkenEnBuurten</th>\n    </tr>\n  </thead>\n  <tbody>\n    <tr>\n      <th>0</th>\n      <td>0</td>\n      <td>T001036</td>\n      <td>None</td>\n      <td>16829290.0</td>\n      <td>NL00</td>\n    </tr>\n    <tr>\n      <th>1</th>\n      <td>1</td>\n      <td>3000</td>\n      <td>None</td>\n      <td>8334385.0</td>\n      <td>NL00</td>\n    </tr>\n    <tr>\n      <th>2</th>\n      <td>2</td>\n      <td>4000</td>\n      <td>None</td>\n      <td>8494905.0</td>\n      <td>NL00</td>\n    </tr>\n    <tr>\n      <th>3</th>\n      <td>3</td>\n      <td>10680</td>\n      <td>None</td>\n      <td>17.0</td>\n      <td>NL00</td>\n    </tr>\n    <tr>\n      <th>4</th>\n      <td>4</td>\n      <td>53050</td>\n      <td>None</td>\n      <td>12.0</td>\n      <td>NL00</td>\n    </tr>\n  </tbody>\n</table>\n</div>"
     },
     "metadata": {},
     "execution_count": 31
    }
   ],
   "source": [
    "obs_data.head()"
   ]
  },
  {
   "cell_type": "code",
   "execution_count": 29,
   "metadata": {},
   "outputs": [
    {
     "output_type": "execute_result",
     "data": {
      "text/plain": [
       "                    name       kind                    url\n",
       "0          MeasureGroups  EntitySet          MeasureGroups\n",
       "1           MeasureCodes  EntitySet           MeasureCodes\n",
       "2             Dimensions  EntitySet             Dimensions\n",
       "3  WijkenEnBuurtenGroups  EntitySet  WijkenEnBuurtenGroups\n",
       "4   WijkenEnBuurtenCodes  EntitySet   WijkenEnBuurtenCodes\n",
       "5           Observations  EntitySet           Observations\n",
       "6             Properties  Singleton             Properties"
      ],
      "text/html": "<div>\n<style scoped>\n    .dataframe tbody tr th:only-of-type {\n        vertical-align: middle;\n    }\n\n    .dataframe tbody tr th {\n        vertical-align: top;\n    }\n\n    .dataframe thead th {\n        text-align: right;\n    }\n</style>\n<table border=\"1\" class=\"dataframe\">\n  <thead>\n    <tr style=\"text-align: right;\">\n      <th></th>\n      <th>name</th>\n      <th>kind</th>\n      <th>url</th>\n    </tr>\n  </thead>\n  <tbody>\n    <tr>\n      <th>0</th>\n      <td>MeasureGroups</td>\n      <td>EntitySet</td>\n      <td>MeasureGroups</td>\n    </tr>\n    <tr>\n      <th>1</th>\n      <td>MeasureCodes</td>\n      <td>EntitySet</td>\n      <td>MeasureCodes</td>\n    </tr>\n    <tr>\n      <th>2</th>\n      <td>Dimensions</td>\n      <td>EntitySet</td>\n      <td>Dimensions</td>\n    </tr>\n    <tr>\n      <th>3</th>\n      <td>WijkenEnBuurtenGroups</td>\n      <td>EntitySet</td>\n      <td>WijkenEnBuurtenGroups</td>\n    </tr>\n    <tr>\n      <th>4</th>\n      <td>WijkenEnBuurtenCodes</td>\n      <td>EntitySet</td>\n      <td>WijkenEnBuurtenCodes</td>\n    </tr>\n    <tr>\n      <th>5</th>\n      <td>Observations</td>\n      <td>EntitySet</td>\n      <td>Observations</td>\n    </tr>\n    <tr>\n      <th>6</th>\n      <td>Properties</td>\n      <td>Singleton</td>\n      <td>Properties</td>\n    </tr>\n  </tbody>\n</table>\n</div>"
     },
     "metadata": {},
     "execution_count": 29
    }
   ],
   "source": [
    "get_odata(table_url)"
   ]
  },
  {
   "cell_type": "code",
   "execution_count": 16,
   "metadata": {},
   "outputs": [
    {
     "output_type": "execute_result",
     "data": {
      "text/plain": [
       "                    name       kind                    url\n",
       "0          MeasureGroups  EntitySet          MeasureGroups\n",
       "1           MeasureCodes  EntitySet           MeasureCodes\n",
       "2             Dimensions  EntitySet             Dimensions\n",
       "3  WijkenEnBuurtenGroups  EntitySet  WijkenEnBuurtenGroups\n",
       "4   WijkenEnBuurtenCodes  EntitySet   WijkenEnBuurtenCodes\n",
       "5           Observations  EntitySet           Observations\n",
       "6             Properties  Singleton             Properties"
      ],
      "text/html": "<div>\n<style scoped>\n    .dataframe tbody tr th:only-of-type {\n        vertical-align: middle;\n    }\n\n    .dataframe tbody tr th {\n        vertical-align: top;\n    }\n\n    .dataframe thead th {\n        text-align: right;\n    }\n</style>\n<table border=\"1\" class=\"dataframe\">\n  <thead>\n    <tr style=\"text-align: right;\">\n      <th></th>\n      <th>name</th>\n      <th>kind</th>\n      <th>url</th>\n    </tr>\n  </thead>\n  <tbody>\n    <tr>\n      <th>0</th>\n      <td>MeasureGroups</td>\n      <td>EntitySet</td>\n      <td>MeasureGroups</td>\n    </tr>\n    <tr>\n      <th>1</th>\n      <td>MeasureCodes</td>\n      <td>EntitySet</td>\n      <td>MeasureCodes</td>\n    </tr>\n    <tr>\n      <th>2</th>\n      <td>Dimensions</td>\n      <td>EntitySet</td>\n      <td>Dimensions</td>\n    </tr>\n    <tr>\n      <th>3</th>\n      <td>WijkenEnBuurtenGroups</td>\n      <td>EntitySet</td>\n      <td>WijkenEnBuurtenGroups</td>\n    </tr>\n    <tr>\n      <th>4</th>\n      <td>WijkenEnBuurtenCodes</td>\n      <td>EntitySet</td>\n      <td>WijkenEnBuurtenCodes</td>\n    </tr>\n    <tr>\n      <th>5</th>\n      <td>Observations</td>\n      <td>EntitySet</td>\n      <td>Observations</td>\n    </tr>\n    <tr>\n      <th>6</th>\n      <td>Properties</td>\n      <td>Singleton</td>\n      <td>Properties</td>\n    </tr>\n  </tbody>\n</table>\n</div>"
     },
     "metadata": {},
     "execution_count": 16
    }
   ],
   "source": [
    "get_odata(table_url)"
   ]
  },
  {
   "cell_type": "code",
   "execution_count": 17,
   "metadata": {},
   "outputs": [],
   "source": [
    "groups = get_odata(table_url + \"/MeasureGroups\")\n",
    "codes = get_odata(table_url + \"/MeasureCodes\")"
   ]
  },
  {
   "cell_type": "code",
   "execution_count": 24,
   "metadata": {},
   "outputs": [
    {
     "output_type": "execute_result",
     "data": {
      "text/plain": [
       "  Identifier  Index            Title  \\\n",
       "0    T001036      7  Aantal inwoners   \n",
       "1       3000      9           Mannen   \n",
       "2       4000     10          Vrouwen   \n",
       "3      10680     12    0 tot 15 jaar   \n",
       "4      53050     13   15 tot 25 jaar   \n",
       "\n",
       "                                         Description MeasureGroupId DataType  \\\n",
       "0                                                           M000352     Long   \n",
       "1                                                           T001038     Long   \n",
       "2                                                           T001038     Long   \n",
       "3  Aantal inwoners dat op 1 januari 0 tot 15 jaar...          10000     Long   \n",
       "4  Aantal inwoners dat op 1 januari 15 tot 25 jaa...          10000     Long   \n",
       "\n",
       "     Unit Format  Decimals PresentationType  \n",
       "0  aantal   None         0         Absolute  \n",
       "1  aantal   None         0         Absolute  \n",
       "2  aantal   None         0         Absolute  \n",
       "3  aantal   None         0         Absolute  \n",
       "4  aantal   None         0         Absolute  "
      ],
      "text/html": "<div>\n<style scoped>\n    .dataframe tbody tr th:only-of-type {\n        vertical-align: middle;\n    }\n\n    .dataframe tbody tr th {\n        vertical-align: top;\n    }\n\n    .dataframe thead th {\n        text-align: right;\n    }\n</style>\n<table border=\"1\" class=\"dataframe\">\n  <thead>\n    <tr style=\"text-align: right;\">\n      <th></th>\n      <th>Identifier</th>\n      <th>Index</th>\n      <th>Title</th>\n      <th>Description</th>\n      <th>MeasureGroupId</th>\n      <th>DataType</th>\n      <th>Unit</th>\n      <th>Format</th>\n      <th>Decimals</th>\n      <th>PresentationType</th>\n    </tr>\n  </thead>\n  <tbody>\n    <tr>\n      <th>0</th>\n      <td>T001036</td>\n      <td>7</td>\n      <td>Aantal inwoners</td>\n      <td></td>\n      <td>M000352</td>\n      <td>Long</td>\n      <td>aantal</td>\n      <td>None</td>\n      <td>0</td>\n      <td>Absolute</td>\n    </tr>\n    <tr>\n      <th>1</th>\n      <td>3000</td>\n      <td>9</td>\n      <td>Mannen</td>\n      <td></td>\n      <td>T001038</td>\n      <td>Long</td>\n      <td>aantal</td>\n      <td>None</td>\n      <td>0</td>\n      <td>Absolute</td>\n    </tr>\n    <tr>\n      <th>2</th>\n      <td>4000</td>\n      <td>10</td>\n      <td>Vrouwen</td>\n      <td></td>\n      <td>T001038</td>\n      <td>Long</td>\n      <td>aantal</td>\n      <td>None</td>\n      <td>0</td>\n      <td>Absolute</td>\n    </tr>\n    <tr>\n      <th>3</th>\n      <td>10680</td>\n      <td>12</td>\n      <td>0 tot 15 jaar</td>\n      <td>Aantal inwoners dat op 1 januari 0 tot 15 jaar...</td>\n      <td>10000</td>\n      <td>Long</td>\n      <td>aantal</td>\n      <td>None</td>\n      <td>0</td>\n      <td>Absolute</td>\n    </tr>\n    <tr>\n      <th>4</th>\n      <td>53050</td>\n      <td>13</td>\n      <td>15 tot 25 jaar</td>\n      <td>Aantal inwoners dat op 1 januari 15 tot 25 jaa...</td>\n      <td>10000</td>\n      <td>Long</td>\n      <td>aantal</td>\n      <td>None</td>\n      <td>0</td>\n      <td>Absolute</td>\n    </tr>\n  </tbody>\n</table>\n</div>"
     },
     "metadata": {},
     "execution_count": 24
    }
   ],
   "source": [
    "codes.head()"
   ]
  },
  {
   "cell_type": "code",
   "execution_count": 21,
   "metadata": {},
   "outputs": [
    {
     "output_type": "execute_result",
     "data": {
      "text/plain": [
       "   Id  Measure ValueAttribute       Value WijkenEnBuurten\n",
       "0   0  T001036           None  17081507.0            NL00\n",
       "1   1     3000           None   8475102.0            NL00\n",
       "2   2     4000           None   8606405.0            NL00\n",
       "3   3    10680           None   2781768.0            NL00\n",
       "4   4    53050           None   2101648.0            NL00"
      ],
      "text/html": "<div>\n<style scoped>\n    .dataframe tbody tr th:only-of-type {\n        vertical-align: middle;\n    }\n\n    .dataframe tbody tr th {\n        vertical-align: top;\n    }\n\n    .dataframe thead th {\n        text-align: right;\n    }\n</style>\n<table border=\"1\" class=\"dataframe\">\n  <thead>\n    <tr style=\"text-align: right;\">\n      <th></th>\n      <th>Id</th>\n      <th>Measure</th>\n      <th>ValueAttribute</th>\n      <th>Value</th>\n      <th>WijkenEnBuurten</th>\n    </tr>\n  </thead>\n  <tbody>\n    <tr>\n      <th>0</th>\n      <td>0</td>\n      <td>T001036</td>\n      <td>None</td>\n      <td>17081507.0</td>\n      <td>NL00</td>\n    </tr>\n    <tr>\n      <th>1</th>\n      <td>1</td>\n      <td>3000</td>\n      <td>None</td>\n      <td>8475102.0</td>\n      <td>NL00</td>\n    </tr>\n    <tr>\n      <th>2</th>\n      <td>2</td>\n      <td>4000</td>\n      <td>None</td>\n      <td>8606405.0</td>\n      <td>NL00</td>\n    </tr>\n    <tr>\n      <th>3</th>\n      <td>3</td>\n      <td>10680</td>\n      <td>None</td>\n      <td>2781768.0</td>\n      <td>NL00</td>\n    </tr>\n    <tr>\n      <th>4</th>\n      <td>4</td>\n      <td>53050</td>\n      <td>None</td>\n      <td>2101648.0</td>\n      <td>NL00</td>\n    </tr>\n  </tbody>\n</table>\n</div>"
     },
     "metadata": {},
     "execution_count": 21
    }
   ],
   "source": [
    "obs_data.head()"
   ]
  },
  {
   "cell_type": "code",
   "execution_count": 22,
   "metadata": {},
   "outputs": [
    {
     "output_type": "execute_result",
     "data": {
      "text/plain": [
       "    Id  Measure ValueAttribute       Value WijkenEnBuurten Identifier  Index  \\\n",
       "0    0  T001036           None  17081507.0            NL00    T001036      7   \n",
       "1  103  T001036           None     25286.0          GM1680    T001036      7   \n",
       "2  206  T001036           None      3545.0        WK168000    T001036      7   \n",
       "3  309  T001036           None      3395.0      BU16800000    T001036      7   \n",
       "4  412  T001036           None       150.0      BU16800009    T001036      7   \n",
       "\n",
       "             Title Description MeasureGroupId DataType    Unit Format  \\\n",
       "0  Aantal inwoners                    M000352     Long  aantal   None   \n",
       "1  Aantal inwoners                    M000352     Long  aantal   None   \n",
       "2  Aantal inwoners                    M000352     Long  aantal   None   \n",
       "3  Aantal inwoners                    M000352     Long  aantal   None   \n",
       "4  Aantal inwoners                    M000352     Long  aantal   None   \n",
       "\n",
       "   Decimals PresentationType  \n",
       "0         0         Absolute  \n",
       "1         0         Absolute  \n",
       "2         0         Absolute  \n",
       "3         0         Absolute  \n",
       "4         0         Absolute  "
      ],
      "text/html": "<div>\n<style scoped>\n    .dataframe tbody tr th:only-of-type {\n        vertical-align: middle;\n    }\n\n    .dataframe tbody tr th {\n        vertical-align: top;\n    }\n\n    .dataframe thead th {\n        text-align: right;\n    }\n</style>\n<table border=\"1\" class=\"dataframe\">\n  <thead>\n    <tr style=\"text-align: right;\">\n      <th></th>\n      <th>Id</th>\n      <th>Measure</th>\n      <th>ValueAttribute</th>\n      <th>Value</th>\n      <th>WijkenEnBuurten</th>\n      <th>Identifier</th>\n      <th>Index</th>\n      <th>Title</th>\n      <th>Description</th>\n      <th>MeasureGroupId</th>\n      <th>DataType</th>\n      <th>Unit</th>\n      <th>Format</th>\n      <th>Decimals</th>\n      <th>PresentationType</th>\n    </tr>\n  </thead>\n  <tbody>\n    <tr>\n      <th>0</th>\n      <td>0</td>\n      <td>T001036</td>\n      <td>None</td>\n      <td>17081507.0</td>\n      <td>NL00</td>\n      <td>T001036</td>\n      <td>7</td>\n      <td>Aantal inwoners</td>\n      <td></td>\n      <td>M000352</td>\n      <td>Long</td>\n      <td>aantal</td>\n      <td>None</td>\n      <td>0</td>\n      <td>Absolute</td>\n    </tr>\n    <tr>\n      <th>1</th>\n      <td>103</td>\n      <td>T001036</td>\n      <td>None</td>\n      <td>25286.0</td>\n      <td>GM1680</td>\n      <td>T001036</td>\n      <td>7</td>\n      <td>Aantal inwoners</td>\n      <td></td>\n      <td>M000352</td>\n      <td>Long</td>\n      <td>aantal</td>\n      <td>None</td>\n      <td>0</td>\n      <td>Absolute</td>\n    </tr>\n    <tr>\n      <th>2</th>\n      <td>206</td>\n      <td>T001036</td>\n      <td>None</td>\n      <td>3545.0</td>\n      <td>WK168000</td>\n      <td>T001036</td>\n      <td>7</td>\n      <td>Aantal inwoners</td>\n      <td></td>\n      <td>M000352</td>\n      <td>Long</td>\n      <td>aantal</td>\n      <td>None</td>\n      <td>0</td>\n      <td>Absolute</td>\n    </tr>\n    <tr>\n      <th>3</th>\n      <td>309</td>\n      <td>T001036</td>\n      <td>None</td>\n      <td>3395.0</td>\n      <td>BU16800000</td>\n      <td>T001036</td>\n      <td>7</td>\n      <td>Aantal inwoners</td>\n      <td></td>\n      <td>M000352</td>\n      <td>Long</td>\n      <td>aantal</td>\n      <td>None</td>\n      <td>0</td>\n      <td>Absolute</td>\n    </tr>\n    <tr>\n      <th>4</th>\n      <td>412</td>\n      <td>T001036</td>\n      <td>None</td>\n      <td>150.0</td>\n      <td>BU16800009</td>\n      <td>T001036</td>\n      <td>7</td>\n      <td>Aantal inwoners</td>\n      <td></td>\n      <td>M000352</td>\n      <td>Long</td>\n      <td>aantal</td>\n      <td>None</td>\n      <td>0</td>\n      <td>Absolute</td>\n    </tr>\n  </tbody>\n</table>\n</div>"
     },
     "metadata": {},
     "execution_count": 22
    }
   ],
   "source": [
    "data = pd.merge(obs_data, codes, left_on = \"Measure\", right_on = \"Identifier\")\n",
    "data.head()"
   ]
  },
  {
   "cell_type": "code",
   "execution_count": 20,
   "metadata": {},
   "outputs": [
    {
     "output_type": "execute_result",
     "data": {
      "text/plain": [
       "   Id_x  Measure ValueAttribute       Value WijkenEnBuurten Identifier  \\\n",
       "0     0  T001036           None  17081507.0            NL00    T001036   \n",
       "1   103  T001036           None     25286.0          GM1680    T001036   \n",
       "2   206  T001036           None      3545.0        WK168000    T001036   \n",
       "3   309  T001036           None      3395.0      BU16800000    T001036   \n",
       "4   412  T001036           None       150.0      BU16800009    T001036   \n",
       "\n",
       "   Index_x          Title_x Description_x MeasureGroupId DataType    Unit  \\\n",
       "0        7  Aantal inwoners                      M000352     Long  aantal   \n",
       "1        7  Aantal inwoners                      M000352     Long  aantal   \n",
       "2        7  Aantal inwoners                      M000352     Long  aantal   \n",
       "3        7  Aantal inwoners                      M000352     Long  aantal   \n",
       "4        7  Aantal inwoners                      M000352     Long  aantal   \n",
       "\n",
       "  Format  Decimals PresentationType     Id_y  Index_y    Title_y  \\\n",
       "0   None         0         Absolute  M000352        6  Bevolking   \n",
       "1   None         0         Absolute  M000352        6  Bevolking   \n",
       "2   None         0         Absolute  M000352        6  Bevolking   \n",
       "3   None         0         Absolute  M000352        6  Bevolking   \n",
       "4   None         0         Absolute  M000352        6  Bevolking   \n",
       "\n",
       "                                       Description_y ParentId  \n",
       "0  De bevolking van Nederland op 1 januari.\\r\\n\\r...     None  \n",
       "1  De bevolking van Nederland op 1 januari.\\r\\n\\r...     None  \n",
       "2  De bevolking van Nederland op 1 januari.\\r\\n\\r...     None  \n",
       "3  De bevolking van Nederland op 1 januari.\\r\\n\\r...     None  \n",
       "4  De bevolking van Nederland op 1 januari.\\r\\n\\r...     None  "
      ],
      "text/html": "<div>\n<style scoped>\n    .dataframe tbody tr th:only-of-type {\n        vertical-align: middle;\n    }\n\n    .dataframe tbody tr th {\n        vertical-align: top;\n    }\n\n    .dataframe thead th {\n        text-align: right;\n    }\n</style>\n<table border=\"1\" class=\"dataframe\">\n  <thead>\n    <tr style=\"text-align: right;\">\n      <th></th>\n      <th>Id_x</th>\n      <th>Measure</th>\n      <th>ValueAttribute</th>\n      <th>Value</th>\n      <th>WijkenEnBuurten</th>\n      <th>Identifier</th>\n      <th>Index_x</th>\n      <th>Title_x</th>\n      <th>Description_x</th>\n      <th>MeasureGroupId</th>\n      <th>DataType</th>\n      <th>Unit</th>\n      <th>Format</th>\n      <th>Decimals</th>\n      <th>PresentationType</th>\n      <th>Id_y</th>\n      <th>Index_y</th>\n      <th>Title_y</th>\n      <th>Description_y</th>\n      <th>ParentId</th>\n    </tr>\n  </thead>\n  <tbody>\n    <tr>\n      <th>0</th>\n      <td>0</td>\n      <td>T001036</td>\n      <td>None</td>\n      <td>17081507.0</td>\n      <td>NL00</td>\n      <td>T001036</td>\n      <td>7</td>\n      <td>Aantal inwoners</td>\n      <td></td>\n      <td>M000352</td>\n      <td>Long</td>\n      <td>aantal</td>\n      <td>None</td>\n      <td>0</td>\n      <td>Absolute</td>\n      <td>M000352</td>\n      <td>6</td>\n      <td>Bevolking</td>\n      <td>De bevolking van Nederland op 1 januari.\\r\\n\\r...</td>\n      <td>None</td>\n    </tr>\n    <tr>\n      <th>1</th>\n      <td>103</td>\n      <td>T001036</td>\n      <td>None</td>\n      <td>25286.0</td>\n      <td>GM1680</td>\n      <td>T001036</td>\n      <td>7</td>\n      <td>Aantal inwoners</td>\n      <td></td>\n      <td>M000352</td>\n      <td>Long</td>\n      <td>aantal</td>\n      <td>None</td>\n      <td>0</td>\n      <td>Absolute</td>\n      <td>M000352</td>\n      <td>6</td>\n      <td>Bevolking</td>\n      <td>De bevolking van Nederland op 1 januari.\\r\\n\\r...</td>\n      <td>None</td>\n    </tr>\n    <tr>\n      <th>2</th>\n      <td>206</td>\n      <td>T001036</td>\n      <td>None</td>\n      <td>3545.0</td>\n      <td>WK168000</td>\n      <td>T001036</td>\n      <td>7</td>\n      <td>Aantal inwoners</td>\n      <td></td>\n      <td>M000352</td>\n      <td>Long</td>\n      <td>aantal</td>\n      <td>None</td>\n      <td>0</td>\n      <td>Absolute</td>\n      <td>M000352</td>\n      <td>6</td>\n      <td>Bevolking</td>\n      <td>De bevolking van Nederland op 1 januari.\\r\\n\\r...</td>\n      <td>None</td>\n    </tr>\n    <tr>\n      <th>3</th>\n      <td>309</td>\n      <td>T001036</td>\n      <td>None</td>\n      <td>3395.0</td>\n      <td>BU16800000</td>\n      <td>T001036</td>\n      <td>7</td>\n      <td>Aantal inwoners</td>\n      <td></td>\n      <td>M000352</td>\n      <td>Long</td>\n      <td>aantal</td>\n      <td>None</td>\n      <td>0</td>\n      <td>Absolute</td>\n      <td>M000352</td>\n      <td>6</td>\n      <td>Bevolking</td>\n      <td>De bevolking van Nederland op 1 januari.\\r\\n\\r...</td>\n      <td>None</td>\n    </tr>\n    <tr>\n      <th>4</th>\n      <td>412</td>\n      <td>T001036</td>\n      <td>None</td>\n      <td>150.0</td>\n      <td>BU16800009</td>\n      <td>T001036</td>\n      <td>7</td>\n      <td>Aantal inwoners</td>\n      <td></td>\n      <td>M000352</td>\n      <td>Long</td>\n      <td>aantal</td>\n      <td>None</td>\n      <td>0</td>\n      <td>Absolute</td>\n      <td>M000352</td>\n      <td>6</td>\n      <td>Bevolking</td>\n      <td>De bevolking van Nederland op 1 januari.\\r\\n\\r...</td>\n      <td>None</td>\n    </tr>\n  </tbody>\n</table>\n</div>"
     },
     "metadata": {},
     "execution_count": 20
    }
   ],
   "source": [
    "data = pd.merge(data, groups, left_on = \"MeasureGroupId\", right_on = \"Id\")\n",
    "data.head()"
   ]
  },
  {
   "cell_type": "code",
   "execution_count": null,
   "metadata": {},
   "outputs": [],
   "source": []
  }
 ]
}