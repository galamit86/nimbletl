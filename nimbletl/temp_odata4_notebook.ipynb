{
 "metadata": {
  "language_info": {
   "codemirror_mode": {
    "name": "ipython",
    "version": 3
   },
   "file_extension": ".py",
   "mimetype": "text/x-python",
   "name": "python",
   "nbconvert_exporter": "python",
   "pygments_lexer": "ipython3",
   "version": "3.8.5-final"
  },
  "orig_nbformat": 2,
  "kernelspec": {
   "name": "python3",
   "display_name": "Python 3"
  }
 },
 "nbformat": 4,
 "nbformat_minor": 2,
 "cells": [
  {
   "cell_type": "code",
   "execution_count": 1,
   "metadata": {},
   "outputs": [],
   "source": [
    "import requests\n",
    "\n",
    "from pathlib import Path\n",
    "import json\n",
    "import time\n",
    "\n",
    "from pyarrow import json as pa_json\n",
    "import pyarrow.parquet\n",
    "import pandas as pd\n",
    "\n",
    "import dask.bag as db"
   ]
  },
  {
   "cell_type": "code",
   "execution_count": 2,
   "metadata": {},
   "outputs": [],
   "source": [
    "def get_table_properties(table_url):\n",
    "    r = requests.get(table_url +\"/Properties\").json()\n",
    "    return r"
   ]
  },
  {
   "cell_type": "code",
   "execution_count": 3,
   "metadata": {},
   "outputs": [],
   "source": [
    "def get_table_description(table_url):\n",
    "    r = requests.get(table_url +\"/Properties\").json()\n",
    "    return r['Description']"
   ]
  },
  {
   "cell_type": "code",
   "execution_count": 4,
   "metadata": {},
   "outputs": [],
   "source": [
    "def get_odata_pd(target_url):\n",
    "    data = pd.DataFrame()\n",
    "    while target_url:\n",
    "        r = requests.get(target_url).json()\n",
    "        data = data.append(pd.DataFrame(r['value']))\n",
    "        \n",
    "        if '@odata.nextLink' in r:\n",
    "            target_url = r['@odata.nextLink']\n",
    "        else:\n",
    "            target_url = None\n",
    "            \n",
    "    return data"
   ]
  },
  {
   "cell_type": "code",
   "execution_count": 5,
   "metadata": {},
   "outputs": [],
   "source": [
    "def get_odata_list(target_url):\n",
    "    data = []\n",
    "    while target_url:\n",
    "        r = requests.get(target_url).json()\n",
    "        data.extend(r['value'])\n",
    "        \n",
    "        if '@odata.nextLink' in r:\n",
    "            target_url = r['@odata.nextLink']\n",
    "        else:\n",
    "            target_url = None\n",
    "            \n",
    "    return data"
   ]
  },
  {
   "cell_type": "code",
   "execution_count": 13,
   "metadata": {},
   "outputs": [],
   "source": [
    "def get_odata_bag(target_url):\n",
    "     # First call target url and get json formatted response as dict\n",
    "    r = requests.get(target_url).json()\n",
    "    # Create Dask bag from dict\n",
    "    bag = db.from_sequence(r['value'])  # TODO -> define npartitions?\n",
    "\n",
    "    # check if more data exists\n",
    "    if '@odata.nextLink' in r:\n",
    "        target_url = r['@odata.nextLink']\n",
    "    else:\n",
    "        target_url = None\n",
    "\n",
    "    # if more data exists continue to concat bag until complete\n",
    "    while target_url:\n",
    "        r = requests.get(target_url).json()\n",
    "        temp_bag = db.from_sequence(r['value'])\n",
    "        bag = db.concat([bag, temp_bag])\n",
    "\n",
    "        if '@odata.nextLink' in r:\n",
    "            target_url = r['@odata.nextLink']\n",
    "        else:\n",
    "            target_url = None\n",
    "\n",
    "    return bag"
   ]
  },
  {
   "cell_type": "code",
   "execution_count": 14,
   "metadata": {},
   "outputs": [],
   "source": [
    "TEMP = \"test-cbs-v4-to-parquet\"\n",
    "TEMP_JSON = Path(TEMP + \".json\")\n",
    "TEMP_NDJSON = Path(TEMP + \".ndjson\")\n",
    "TEMP_PARQUET = Path(TEMP + \".parquet\")\n",
    "\n",
    "TESTDATA = \"82807NED\""
   ]
  },
  {
   "source": [
    "### Test conversion to parquet"
   ],
   "cell_type": "markdown",
   "metadata": {}
  },
  {
   "cell_type": "code",
   "execution_count": 15,
   "metadata": {},
   "outputs": [],
   "source": [
    "table_url = f\"https://odata4.cbs.nl/CBS/{TESTDATA}\"\n",
    "target_url = table_url + \"/Observations\"\n",
    "# data_82931 = get_odata(target_url)"
   ]
  },
  {
   "cell_type": "code",
   "execution_count": 16,
   "metadata": {},
   "outputs": [],
   "source": [
    "urls = {\n",
    "        item[\"name\"]: item[\"url\"]\n",
    "        for item in requests.get(table_url).json()[\"value\"]\n",
    "    }"
   ]
  },
  {
   "cell_type": "code",
   "execution_count": 12,
   "metadata": {},
   "outputs": [],
   "source": [
    "r = requests.get(table_url).json()"
   ]
  },
  {
   "cell_type": "code",
   "execution_count": 32,
   "metadata": {},
   "outputs": [],
   "source": [
    "pq_dir = Path(\"/temp/parquet\")"
   ]
  },
  {
   "cell_type": "code",
   "execution_count": 41,
   "metadata": {},
   "outputs": [],
   "source": [
    "gcs_folder = \"/CBS/V4/\""
   ]
  },
  {
   "cell_type": "code",
   "execution_count": 42,
   "metadata": {},
   "outputs": [],
   "source": [
    "pfile = os.listdir(pq_dir)[0]"
   ]
  },
  {
   "cell_type": "code",
   "execution_count": 54,
   "metadata": {},
   "outputs": [
    {
     "output_type": "execute_result",
     "data": {
      "text/plain": [
       "'20201111'"
      ]
     },
     "metadata": {},
     "execution_count": 54
    }
   ],
   "source": [
    "from datetime import datetime\n",
    "datetime.today().date().strftime('%Y%m%d')"
   ]
  },
  {
   "cell_type": "code",
   "execution_count": 58,
   "metadata": {},
   "outputs": [
    {
     "output_type": "execute_result",
     "data": {
      "text/plain": [
       "'12:17:49'"
      ]
     },
     "metadata": {},
     "execution_count": 58
    }
   ],
   "source": [
    "datetime.now().strftime('%H:%M:%S')"
   ]
  },
  {
   "cell_type": "code",
   "execution_count": 61,
   "metadata": {},
   "outputs": [],
   "source": [
    "pq_dir = Path(f\"../temp/{datetime.today().date().strftime('%Y%m%d')}/parquet\")"
   ]
  },
  {
   "cell_type": "code",
   "execution_count": 65,
   "metadata": {},
   "outputs": [
    {
     "output_type": "stream",
     "name": "stdout",
     "text": [
      "start GCS upload cbs.82807NED_PersoonskenmerkenCodes.parquet @ 12:29:41\nok\nstart GCS upload cbs.82807NED_PeriodenGroups.parquet @ 12:29:41\nok\nstart GCS upload cbs.82807NED_PeriodenCodes.parquet @ 12:29:41\nok\nstart GCS upload cbs.82807NED_BedrijfstakkenBranchesSBI2008Groups.parquet @ 12:29:41\nok\nstart GCS upload cbs.82807NED_BedrijfstakkenBranchesSBI2008Codes.parquet @ 12:29:41\nok\nstart GCS upload cbs.82807NED_PersoonskenmerkenGroups.parquet @ 12:29:41\nok\nstart GCS upload cbs.82807NED_Observations.parquet @ 12:29:41\nok\nstart GCS upload cbs.82807NED_MeasureCodes.parquet @ 12:29:41\nok\nstart GCS upload cbs.82807NED_Dimensions.parquet @ 12:29:41\nok\nstart GCS upload cbs.82807NED_GeslachtCodes.parquet @ 12:29:41\nok\n"
     ]
    }
   ],
   "source": [
    "for pfile in os.listdir(pq_dir):\n",
    "        # gcs_blob = gcs_bucket.blob(gcs_folder)\n",
    "        print(f\"start GCS upload {pfile} @ {datetime.now().strftime('%H:%M:%S')}\")\n",
    "        with open (pq_dir/pfile, \"rb\") as file:\n",
    "            print(\"ok\")"
   ]
  },
  {
   "cell_type": "code",
   "execution_count": 70,
   "metadata": {},
   "outputs": [],
   "source": [
    "urls = {\n",
    "    item['name']: table_url + \"/\" +item['url']\n",
    "    for item in r['value']\n",
    "}"
   ]
  },
  {
   "cell_type": "code",
   "execution_count": 71,
   "metadata": {},
   "outputs": [
    {
     "output_type": "execute_result",
     "data": {
      "text/plain": [
       "{'MeasureCodes': 'https://odata4.cbs.nl/CBS/82807NED/MeasureCodes',\n",
       " 'Dimensions': 'https://odata4.cbs.nl/CBS/82807NED/Dimensions',\n",
       " 'PeriodenGroups': 'https://odata4.cbs.nl/CBS/82807NED/PeriodenGroups',\n",
       " 'PeriodenCodes': 'https://odata4.cbs.nl/CBS/82807NED/PeriodenCodes',\n",
       " 'BedrijfstakkenBranchesSBI2008Groups': 'https://odata4.cbs.nl/CBS/82807NED/BedrijfstakkenBranchesSBI2008Groups',\n",
       " 'BedrijfstakkenBranchesSBI2008Codes': 'https://odata4.cbs.nl/CBS/82807NED/BedrijfstakkenBranchesSBI2008Codes',\n",
       " 'PersoonskenmerkenGroups': 'https://odata4.cbs.nl/CBS/82807NED/PersoonskenmerkenGroups',\n",
       " 'PersoonskenmerkenCodes': 'https://odata4.cbs.nl/CBS/82807NED/PersoonskenmerkenCodes',\n",
       " 'GeslachtCodes': 'https://odata4.cbs.nl/CBS/82807NED/GeslachtCodes',\n",
       " 'Observations': 'https://odata4.cbs.nl/CBS/82807NED/Observations',\n",
       " 'Properties': 'https://odata4.cbs.nl/CBS/82807NED/Properties'}"
      ]
     },
     "metadata": {},
     "execution_count": 71
    }
   ],
   "source": [
    "urls"
   ]
  },
  {
   "source": [
    "### Take a look at the Properties table (singleton?)"
   ],
   "cell_type": "markdown",
   "metadata": {}
  },
  {
   "cell_type": "code",
   "execution_count": 12,
   "metadata": {},
   "outputs": [],
   "source": [
    "# Dump to ndjson file\n",
    "with open (TEMP_NDJSON, 'w+') as f:\n",
    "    for record in r['value']:\n",
    "        f.write(json.dumps(record) + \"\\n\")"
   ]
  },
  {
   "cell_type": "code",
   "execution_count": 72,
   "metadata": {},
   "outputs": [],
   "source": [
    "r = requests.get(table_url + \"/Properties\")"
   ]
  },
  {
   "cell_type": "code",
   "execution_count": 74,
   "metadata": {},
   "outputs": [],
   "source": [
    "properties = r.json()"
   ]
  },
  {
   "cell_type": "code",
   "execution_count": 75,
   "metadata": {},
   "outputs": [
    {
     "output_type": "execute_result",
     "data": {
      "text/plain": [
       "dict_keys(['@odata.context', 'Identifier', 'Title', 'Description', 'Language', 'Authority', 'Modified', 'TemporalCoverage', 'Catalog', 'Publisher', 'ContactPoint', 'Version', 'VersionNotes', 'VersionReason', 'Frequency', 'Status', 'ObservationCount', 'ObservationsModified', 'DatasetType', 'DefaultPresentation', 'GraphTypes', 'SearchPriority', 'License', 'Source', 'Summary', 'LongDescription', 'Provenance', 'RelatedSources'])"
      ]
     },
     "metadata": {},
     "execution_count": 75
    }
   ],
   "source": [
    "properties.keys()"
   ]
  },
  {
   "cell_type": "code",
   "execution_count": 16,
   "metadata": {},
   "outputs": [],
   "source": [
    "# Create PyArrow tablef from ndjson file\n",
    "table = pa_json.read_json(TEMP_NDJSON)"
   ]
  },
  {
   "cell_type": "code",
   "execution_count": 17,
   "metadata": {},
   "outputs": [
    {
     "output_type": "execute_result",
     "data": {
      "text/plain": [
       "pyarrow.Table\n",
       "Id: int64\n",
       "Measure: string\n",
       "ValueAttribute: string\n",
       "Value: double\n",
       "Perioden: string\n",
       "BedrijfstakkenBranchesSBI2008: string\n",
       "Persoonskenmerken: string\n",
       "Geslacht: string"
      ]
     },
     "metadata": {},
     "execution_count": 17
    }
   ],
   "source": [
    "table"
   ]
  },
  {
   "cell_type": "code",
   "execution_count": 18,
   "metadata": {},
   "outputs": [],
   "source": [
    "# Create Parquet file\n",
    "pyarrow.parquet.write_table(table, TEMP_PARQUET)"
   ]
  },
  {
   "source": [
    "### Explore CBS Odata V4"
   ],
   "cell_type": "markdown",
   "metadata": {}
  },
  {
   "cell_type": "code",
   "execution_count": 62,
   "metadata": {},
   "outputs": [
    {
     "output_type": "execute_result",
     "data": {
      "text/plain": [
       "                                   name       kind  \\\n",
       "0                          MeasureCodes  EntitySet   \n",
       "1                            Dimensions  EntitySet   \n",
       "2                        PeriodenGroups  EntitySet   \n",
       "3                         PeriodenCodes  EntitySet   \n",
       "4   BedrijfstakkenBranchesSBI2008Groups  EntitySet   \n",
       "5    BedrijfstakkenBranchesSBI2008Codes  EntitySet   \n",
       "6               PersoonskenmerkenGroups  EntitySet   \n",
       "7                PersoonskenmerkenCodes  EntitySet   \n",
       "8                         GeslachtCodes  EntitySet   \n",
       "9                          Observations  EntitySet   \n",
       "10                           Properties  Singleton   \n",
       "\n",
       "                                    url  \n",
       "0                          MeasureCodes  \n",
       "1                            Dimensions  \n",
       "2                        PeriodenGroups  \n",
       "3                         PeriodenCodes  \n",
       "4   BedrijfstakkenBranchesSBI2008Groups  \n",
       "5    BedrijfstakkenBranchesSBI2008Codes  \n",
       "6               PersoonskenmerkenGroups  \n",
       "7                PersoonskenmerkenCodes  \n",
       "8                         GeslachtCodes  \n",
       "9                          Observations  \n",
       "10                           Properties  "
      ],
      "text/html": "<div>\n<style scoped>\n    .dataframe tbody tr th:only-of-type {\n        vertical-align: middle;\n    }\n\n    .dataframe tbody tr th {\n        vertical-align: top;\n    }\n\n    .dataframe thead th {\n        text-align: right;\n    }\n</style>\n<table border=\"1\" class=\"dataframe\">\n  <thead>\n    <tr style=\"text-align: right;\">\n      <th></th>\n      <th>name</th>\n      <th>kind</th>\n      <th>url</th>\n    </tr>\n  </thead>\n  <tbody>\n    <tr>\n      <th>0</th>\n      <td>MeasureCodes</td>\n      <td>EntitySet</td>\n      <td>MeasureCodes</td>\n    </tr>\n    <tr>\n      <th>1</th>\n      <td>Dimensions</td>\n      <td>EntitySet</td>\n      <td>Dimensions</td>\n    </tr>\n    <tr>\n      <th>2</th>\n      <td>PeriodenGroups</td>\n      <td>EntitySet</td>\n      <td>PeriodenGroups</td>\n    </tr>\n    <tr>\n      <th>3</th>\n      <td>PeriodenCodes</td>\n      <td>EntitySet</td>\n      <td>PeriodenCodes</td>\n    </tr>\n    <tr>\n      <th>4</th>\n      <td>BedrijfstakkenBranchesSBI2008Groups</td>\n      <td>EntitySet</td>\n      <td>BedrijfstakkenBranchesSBI2008Groups</td>\n    </tr>\n    <tr>\n      <th>5</th>\n      <td>BedrijfstakkenBranchesSBI2008Codes</td>\n      <td>EntitySet</td>\n      <td>BedrijfstakkenBranchesSBI2008Codes</td>\n    </tr>\n    <tr>\n      <th>6</th>\n      <td>PersoonskenmerkenGroups</td>\n      <td>EntitySet</td>\n      <td>PersoonskenmerkenGroups</td>\n    </tr>\n    <tr>\n      <th>7</th>\n      <td>PersoonskenmerkenCodes</td>\n      <td>EntitySet</td>\n      <td>PersoonskenmerkenCodes</td>\n    </tr>\n    <tr>\n      <th>8</th>\n      <td>GeslachtCodes</td>\n      <td>EntitySet</td>\n      <td>GeslachtCodes</td>\n    </tr>\n    <tr>\n      <th>9</th>\n      <td>Observations</td>\n      <td>EntitySet</td>\n      <td>Observations</td>\n    </tr>\n    <tr>\n      <th>10</th>\n      <td>Properties</td>\n      <td>Singleton</td>\n      <td>Properties</td>\n    </tr>\n  </tbody>\n</table>\n</div>"
     },
     "metadata": {},
     "execution_count": 62
    }
   ],
   "source": [
    "# List all tables under a dataset ID\n",
    "meta = get_odata_pd(table_url)\n",
    "meta"
   ]
  },
  {
   "cell_type": "code",
   "execution_count": 47,
   "metadata": {},
   "outputs": [
    {
     "output_type": "execute_result",
     "data": {
      "text/plain": [
       "['MeasureCodes',\n",
       " 'Dimensions',\n",
       " 'PeriodenGroups',\n",
       " 'PeriodenCodes',\n",
       " 'BedrijfstakkenBranchesSBI2008Groups',\n",
       " 'BedrijfstakkenBranchesSBI2008Codes',\n",
       " 'PersoonskenmerkenGroups',\n",
       " 'PersoonskenmerkenCodes',\n",
       " 'GeslachtCodes']"
      ]
     },
     "metadata": {},
     "execution_count": 47
    }
   ],
   "source": [
    "# Get all metadata table names (=url extensions).\n",
    "# Exclude Observations as it is the actual data and retrieved separately\n",
    "# Also include Properties as it is not relevant\n",
    "meta_names = [url for url in meta.url.tolist() if url not in ['Observations', 'Properties']]\n",
    "meta_names"
   ]
  },
  {
   "cell_type": "code",
   "execution_count": 50,
   "metadata": {},
   "outputs": [
    {
     "output_type": "execute_result",
     "data": {
      "text/plain": [
       "['https://odata4.cbs.nl/CBS/82807NED/MeasureCodes',\n",
       " 'https://odata4.cbs.nl/CBS/82807NED/Dimensions',\n",
       " 'https://odata4.cbs.nl/CBS/82807NED/PeriodenGroups',\n",
       " 'https://odata4.cbs.nl/CBS/82807NED/PeriodenCodes',\n",
       " 'https://odata4.cbs.nl/CBS/82807NED/BedrijfstakkenBranchesSBI2008Groups',\n",
       " 'https://odata4.cbs.nl/CBS/82807NED/BedrijfstakkenBranchesSBI2008Codes',\n",
       " 'https://odata4.cbs.nl/CBS/82807NED/PersoonskenmerkenGroups',\n",
       " 'https://odata4.cbs.nl/CBS/82807NED/PersoonskenmerkenCodes',\n",
       " 'https://odata4.cbs.nl/CBS/82807NED/GeslachtCodes']"
      ]
     },
     "metadata": {},
     "execution_count": 50
    }
   ],
   "source": [
    "# Convert all metadata names to actual urls for table retrieval\n",
    "meta_urls = [table_url + \"/\" + name for name in meta_names]\n",
    "meta_urls"
   ]
  },
  {
   "cell_type": "code",
   "execution_count": 51,
   "metadata": {},
   "outputs": [
    {
     "output_type": "execute_result",
     "data": {
      "text/plain": [
       "           Id    Measure ValueAttribute   Value  Perioden  \\\n",
       "0           0  3000795_1           None  7771.0  2003KW01   \n",
       "1           1  3000795_1           None  7782.0  2003KW02   \n",
       "2           2  3000795_1           None  7809.0  2003KW03   \n",
       "3           3  3000795_1           None  7770.0  2003KW04   \n",
       "4           4  3000795_1           None  7783.0  2003JJ00   \n",
       "...       ...        ...            ...     ...       ...   \n",
       "81765  496075  3000795_1           None     0.0  2018KW01   \n",
       "81766  496076  3000795_1           None     0.0  2018KW02   \n",
       "81767  496077  3000795_1           None     0.0  2018KW03   \n",
       "81768  496078  3000795_1           None     0.0  2018KW04   \n",
       "81769  496079  3000795_1           None     0.0  2018JJ00   \n",
       "\n",
       "      BedrijfstakkenBranchesSBI2008 Persoonskenmerken Geslacht  \n",
       "0                           T001081           T009002  T001038  \n",
       "1                           T001081           T009002  T001038  \n",
       "2                           T001081           T009002  T001038  \n",
       "3                           T001081           T009002  T001038  \n",
       "4                           T001081           T009002  T001038  \n",
       "...                             ...               ...      ...  \n",
       "81765                        999999           2021440     4000  \n",
       "81766                        999999           2021440     4000  \n",
       "81767                        999999           2021440     4000  \n",
       "81768                        999999           2021440     4000  \n",
       "81769                        999999           2021440     4000  \n",
       "\n",
       "[481770 rows x 8 columns]"
      ],
      "text/html": "<div>\n<style scoped>\n    .dataframe tbody tr th:only-of-type {\n        vertical-align: middle;\n    }\n\n    .dataframe tbody tr th {\n        vertical-align: top;\n    }\n\n    .dataframe thead th {\n        text-align: right;\n    }\n</style>\n<table border=\"1\" class=\"dataframe\">\n  <thead>\n    <tr style=\"text-align: right;\">\n      <th></th>\n      <th>Id</th>\n      <th>Measure</th>\n      <th>ValueAttribute</th>\n      <th>Value</th>\n      <th>Perioden</th>\n      <th>BedrijfstakkenBranchesSBI2008</th>\n      <th>Persoonskenmerken</th>\n      <th>Geslacht</th>\n    </tr>\n  </thead>\n  <tbody>\n    <tr>\n      <th>0</th>\n      <td>0</td>\n      <td>3000795_1</td>\n      <td>None</td>\n      <td>7771.0</td>\n      <td>2003KW01</td>\n      <td>T001081</td>\n      <td>T009002</td>\n      <td>T001038</td>\n    </tr>\n    <tr>\n      <th>1</th>\n      <td>1</td>\n      <td>3000795_1</td>\n      <td>None</td>\n      <td>7782.0</td>\n      <td>2003KW02</td>\n      <td>T001081</td>\n      <td>T009002</td>\n      <td>T001038</td>\n    </tr>\n    <tr>\n      <th>2</th>\n      <td>2</td>\n      <td>3000795_1</td>\n      <td>None</td>\n      <td>7809.0</td>\n      <td>2003KW03</td>\n      <td>T001081</td>\n      <td>T009002</td>\n      <td>T001038</td>\n    </tr>\n    <tr>\n      <th>3</th>\n      <td>3</td>\n      <td>3000795_1</td>\n      <td>None</td>\n      <td>7770.0</td>\n      <td>2003KW04</td>\n      <td>T001081</td>\n      <td>T009002</td>\n      <td>T001038</td>\n    </tr>\n    <tr>\n      <th>4</th>\n      <td>4</td>\n      <td>3000795_1</td>\n      <td>None</td>\n      <td>7783.0</td>\n      <td>2003JJ00</td>\n      <td>T001081</td>\n      <td>T009002</td>\n      <td>T001038</td>\n    </tr>\n    <tr>\n      <th>...</th>\n      <td>...</td>\n      <td>...</td>\n      <td>...</td>\n      <td>...</td>\n      <td>...</td>\n      <td>...</td>\n      <td>...</td>\n      <td>...</td>\n    </tr>\n    <tr>\n      <th>81765</th>\n      <td>496075</td>\n      <td>3000795_1</td>\n      <td>None</td>\n      <td>0.0</td>\n      <td>2018KW01</td>\n      <td>999999</td>\n      <td>2021440</td>\n      <td>4000</td>\n    </tr>\n    <tr>\n      <th>81766</th>\n      <td>496076</td>\n      <td>3000795_1</td>\n      <td>None</td>\n      <td>0.0</td>\n      <td>2018KW02</td>\n      <td>999999</td>\n      <td>2021440</td>\n      <td>4000</td>\n    </tr>\n    <tr>\n      <th>81767</th>\n      <td>496077</td>\n      <td>3000795_1</td>\n      <td>None</td>\n      <td>0.0</td>\n      <td>2018KW03</td>\n      <td>999999</td>\n      <td>2021440</td>\n      <td>4000</td>\n    </tr>\n    <tr>\n      <th>81768</th>\n      <td>496078</td>\n      <td>3000795_1</td>\n      <td>None</td>\n      <td>0.0</td>\n      <td>2018KW04</td>\n      <td>999999</td>\n      <td>2021440</td>\n      <td>4000</td>\n    </tr>\n    <tr>\n      <th>81769</th>\n      <td>496079</td>\n      <td>3000795_1</td>\n      <td>None</td>\n      <td>0.0</td>\n      <td>2018JJ00</td>\n      <td>999999</td>\n      <td>2021440</td>\n      <td>4000</td>\n    </tr>\n  </tbody>\n</table>\n<p>481770 rows × 8 columns</p>\n</div>"
     },
     "metadata": {},
     "execution_count": 51
    }
   ],
   "source": [
    "# Get observations data, meaning the actual values of the dataset\n",
    "observations = get_odata_pd(target_url)\n",
    "observations"
   ]
  },
  {
   "cell_type": "code",
   "execution_count": 53,
   "metadata": {},
   "outputs": [],
   "source": [
    "meta_tables = [get_odata_pd(url) for url in meta_urls]"
   ]
  },
  {
   "cell_type": "code",
   "execution_count": 59,
   "metadata": {},
   "outputs": [
    {
     "output_type": "execute_result",
     "data": {
      "text/plain": [
       "   Identifier  Index             Title Description DimensionGroupId  \\\n",
       "0    2003KW01      1  2003 1e kwartaal                            0   \n",
       "1    2003KW02      2  2003 2e kwartaal                            0   \n",
       "2    2003KW03      3  2003 3e kwartaal                            0   \n",
       "3    2003KW04      4  2003 4e kwartaal                            0   \n",
       "4    2003JJ00      5              2003                            1   \n",
       "..        ...    ...               ...         ...              ...   \n",
       "75   2018KW01     76  2018 1e kwartaal                            0   \n",
       "76   2018KW02     77  2018 2e kwartaal                            0   \n",
       "77   2018KW03     78  2018 3e kwartaal                            0   \n",
       "78   2018KW04     79  2018 4e kwartaal                            0   \n",
       "79   2018JJ00     80              2018                            1   \n",
       "\n",
       "        Status  \n",
       "0   Definitief  \n",
       "1   Definitief  \n",
       "2   Definitief  \n",
       "3   Definitief  \n",
       "4   Definitief  \n",
       "..         ...  \n",
       "75  Definitief  \n",
       "76  Definitief  \n",
       "77  Definitief  \n",
       "78  Definitief  \n",
       "79  Definitief  \n",
       "\n",
       "[80 rows x 6 columns]"
      ],
      "text/html": "<div>\n<style scoped>\n    .dataframe tbody tr th:only-of-type {\n        vertical-align: middle;\n    }\n\n    .dataframe tbody tr th {\n        vertical-align: top;\n    }\n\n    .dataframe thead th {\n        text-align: right;\n    }\n</style>\n<table border=\"1\" class=\"dataframe\">\n  <thead>\n    <tr style=\"text-align: right;\">\n      <th></th>\n      <th>Identifier</th>\n      <th>Index</th>\n      <th>Title</th>\n      <th>Description</th>\n      <th>DimensionGroupId</th>\n      <th>Status</th>\n    </tr>\n  </thead>\n  <tbody>\n    <tr>\n      <th>0</th>\n      <td>2003KW01</td>\n      <td>1</td>\n      <td>2003 1e kwartaal</td>\n      <td></td>\n      <td>0</td>\n      <td>Definitief</td>\n    </tr>\n    <tr>\n      <th>1</th>\n      <td>2003KW02</td>\n      <td>2</td>\n      <td>2003 2e kwartaal</td>\n      <td></td>\n      <td>0</td>\n      <td>Definitief</td>\n    </tr>\n    <tr>\n      <th>2</th>\n      <td>2003KW03</td>\n      <td>3</td>\n      <td>2003 3e kwartaal</td>\n      <td></td>\n      <td>0</td>\n      <td>Definitief</td>\n    </tr>\n    <tr>\n      <th>3</th>\n      <td>2003KW04</td>\n      <td>4</td>\n      <td>2003 4e kwartaal</td>\n      <td></td>\n      <td>0</td>\n      <td>Definitief</td>\n    </tr>\n    <tr>\n      <th>4</th>\n      <td>2003JJ00</td>\n      <td>5</td>\n      <td>2003</td>\n      <td></td>\n      <td>1</td>\n      <td>Definitief</td>\n    </tr>\n    <tr>\n      <th>...</th>\n      <td>...</td>\n      <td>...</td>\n      <td>...</td>\n      <td>...</td>\n      <td>...</td>\n      <td>...</td>\n    </tr>\n    <tr>\n      <th>75</th>\n      <td>2018KW01</td>\n      <td>76</td>\n      <td>2018 1e kwartaal</td>\n      <td></td>\n      <td>0</td>\n      <td>Definitief</td>\n    </tr>\n    <tr>\n      <th>76</th>\n      <td>2018KW02</td>\n      <td>77</td>\n      <td>2018 2e kwartaal</td>\n      <td></td>\n      <td>0</td>\n      <td>Definitief</td>\n    </tr>\n    <tr>\n      <th>77</th>\n      <td>2018KW03</td>\n      <td>78</td>\n      <td>2018 3e kwartaal</td>\n      <td></td>\n      <td>0</td>\n      <td>Definitief</td>\n    </tr>\n    <tr>\n      <th>78</th>\n      <td>2018KW04</td>\n      <td>79</td>\n      <td>2018 4e kwartaal</td>\n      <td></td>\n      <td>0</td>\n      <td>Definitief</td>\n    </tr>\n    <tr>\n      <th>79</th>\n      <td>2018JJ00</td>\n      <td>80</td>\n      <td>2018</td>\n      <td></td>\n      <td>1</td>\n      <td>Definitief</td>\n    </tr>\n  </tbody>\n</table>\n<p>80 rows × 6 columns</p>\n</div>"
     },
     "metadata": {},
     "execution_count": 59
    }
   ],
   "source": [
    "meta_tables[3]"
   ]
  },
  {
   "cell_type": "code",
   "execution_count": 58,
   "metadata": {},
   "outputs": [
    {
     "output_type": "execute_result",
     "data": {
      "text/plain": [
       "  Id  Index      Title Description ParentId\n",
       "0  1      0      Jaren        None     None\n",
       "1  0      2  Kwartalen        None     None"
      ],
      "text/html": "<div>\n<style scoped>\n    .dataframe tbody tr th:only-of-type {\n        vertical-align: middle;\n    }\n\n    .dataframe tbody tr th {\n        vertical-align: top;\n    }\n\n    .dataframe thead th {\n        text-align: right;\n    }\n</style>\n<table border=\"1\" class=\"dataframe\">\n  <thead>\n    <tr style=\"text-align: right;\">\n      <th></th>\n      <th>Id</th>\n      <th>Index</th>\n      <th>Title</th>\n      <th>Description</th>\n      <th>ParentId</th>\n    </tr>\n  </thead>\n  <tbody>\n    <tr>\n      <th>0</th>\n      <td>1</td>\n      <td>0</td>\n      <td>Jaren</td>\n      <td>None</td>\n      <td>None</td>\n    </tr>\n    <tr>\n      <th>1</th>\n      <td>0</td>\n      <td>2</td>\n      <td>Kwartalen</td>\n      <td>None</td>\n      <td>None</td>\n    </tr>\n  </tbody>\n</table>\n</div>"
     },
     "metadata": {},
     "execution_count": 58
    }
   ],
   "source": [
    "meta_tables[2]"
   ]
  },
  {
   "cell_type": "code",
   "execution_count": null,
   "metadata": {},
   "outputs": [],
   "source": []
  },
  {
   "cell_type": "code",
   "execution_count": 26,
   "metadata": {},
   "outputs": [
    {
     "output_type": "execute_result",
     "data": {
      "text/plain": [
       "                      Identifier                             Title  \\\n",
       "0                       Perioden                          Perioden   \n",
       "1  BedrijfstakkenBranchesSBI2008  Bedrijfstakken/branches SBI 2008   \n",
       "2              Persoonskenmerken                 Persoonskenmerken   \n",
       "3                       Geslacht                          Geslacht   \n",
       "\n",
       "  Description           Kind MapYear ReleasePolicy  \n",
       "0              TimeDimension    None          True  \n",
       "1                  Dimension    None          None  \n",
       "2                  Dimension    None          None  \n",
       "3                  Dimension    None          None  "
      ],
      "text/html": "<div>\n<style scoped>\n    .dataframe tbody tr th:only-of-type {\n        vertical-align: middle;\n    }\n\n    .dataframe tbody tr th {\n        vertical-align: top;\n    }\n\n    .dataframe thead th {\n        text-align: right;\n    }\n</style>\n<table border=\"1\" class=\"dataframe\">\n  <thead>\n    <tr style=\"text-align: right;\">\n      <th></th>\n      <th>Identifier</th>\n      <th>Title</th>\n      <th>Description</th>\n      <th>Kind</th>\n      <th>MapYear</th>\n      <th>ReleasePolicy</th>\n    </tr>\n  </thead>\n  <tbody>\n    <tr>\n      <th>0</th>\n      <td>Perioden</td>\n      <td>Perioden</td>\n      <td></td>\n      <td>TimeDimension</td>\n      <td>None</td>\n      <td>True</td>\n    </tr>\n    <tr>\n      <th>1</th>\n      <td>BedrijfstakkenBranchesSBI2008</td>\n      <td>Bedrijfstakken/branches SBI 2008</td>\n      <td></td>\n      <td>Dimension</td>\n      <td>None</td>\n      <td>None</td>\n    </tr>\n    <tr>\n      <th>2</th>\n      <td>Persoonskenmerken</td>\n      <td>Persoonskenmerken</td>\n      <td></td>\n      <td>Dimension</td>\n      <td>None</td>\n      <td>None</td>\n    </tr>\n    <tr>\n      <th>3</th>\n      <td>Geslacht</td>\n      <td>Geslacht</td>\n      <td></td>\n      <td>Dimension</td>\n      <td>None</td>\n      <td>None</td>\n    </tr>\n  </tbody>\n</table>\n</div>"
     },
     "metadata": {},
     "execution_count": 26
    }
   ],
   "source": [
    "# list all dataset dimensions\n",
    "dimensions = get_odata_pd(table_url + \"/Dimensions\")\n",
    "dimensions"
   ]
  },
  {
   "cell_type": "code",
   "execution_count": null,
   "metadata": {},
   "outputs": [],
   "source": [
    "[for dim in dimensions]"
   ]
  },
  {
   "cell_type": "code",
   "execution_count": 30,
   "metadata": {},
   "outputs": [
    {
     "output_type": "execute_result",
     "data": {
      "text/plain": [
       "  Identifier  Index                      Title  \\\n",
       "0  3000795_1      4  Werkzame beroepsbevolking   \n",
       "\n",
       "                                         Description MeasureGroupId DataType  \\\n",
       "0  Personen die betaald werk hebben.\\r\\n\\r\\nDeze ...           None  Integer   \n",
       "\n",
       "      Unit Format  Decimals PresentationType  \n",
       "0  x 1 000   None         0             None  "
      ],
      "text/html": "<div>\n<style scoped>\n    .dataframe tbody tr th:only-of-type {\n        vertical-align: middle;\n    }\n\n    .dataframe tbody tr th {\n        vertical-align: top;\n    }\n\n    .dataframe thead th {\n        text-align: right;\n    }\n</style>\n<table border=\"1\" class=\"dataframe\">\n  <thead>\n    <tr style=\"text-align: right;\">\n      <th></th>\n      <th>Identifier</th>\n      <th>Index</th>\n      <th>Title</th>\n      <th>Description</th>\n      <th>MeasureGroupId</th>\n      <th>DataType</th>\n      <th>Unit</th>\n      <th>Format</th>\n      <th>Decimals</th>\n      <th>PresentationType</th>\n    </tr>\n  </thead>\n  <tbody>\n    <tr>\n      <th>0</th>\n      <td>3000795_1</td>\n      <td>4</td>\n      <td>Werkzame beroepsbevolking</td>\n      <td>Personen die betaald werk hebben.\\r\\n\\r\\nDeze ...</td>\n      <td>None</td>\n      <td>Integer</td>\n      <td>x 1 000</td>\n      <td>None</td>\n      <td>0</td>\n      <td>None</td>\n    </tr>\n  </tbody>\n</table>\n</div>"
     },
     "metadata": {},
     "execution_count": 30
    }
   ],
   "source": [
    "# get Measure Codes\n",
    "codes = get_odata_pd(table_url + \"/MeasureCodes\")\n",
    "codes"
   ]
  },
  {
   "cell_type": "code",
   "execution_count": 35,
   "metadata": {},
   "outputs": [
    {
     "output_type": "execute_result",
     "data": {
      "text/plain": [
       "0    Personen die betaald werk hebben.\\r\\n\\r\\nDeze ...\n",
       "Name: Description, dtype: object"
      ]
     },
     "metadata": {},
     "execution_count": 35
    }
   ],
   "source": [
    "codes.Description"
   ]
  },
  {
   "cell_type": "code",
   "execution_count": null,
   "metadata": {},
   "outputs": [],
   "source": []
  },
  {
   "cell_type": "code",
   "execution_count": null,
   "metadata": {},
   "outputs": [],
   "source": []
  },
  {
   "cell_type": "code",
   "execution_count": null,
   "metadata": {},
   "outputs": [],
   "source": []
  },
  {
   "cell_type": "code",
   "execution_count": 17,
   "metadata": {},
   "outputs": [],
   "source": [
    "cbs_catalogs = get_odata_pd(\"https://odata4.cbs.nl/CBS/Catalogs\")\n",
    "cbs_datasets = get_odata_pd(\"https://odata4.cbs.nl/CBS/Datasets\")"
   ]
  },
  {
   "cell_type": "code",
   "execution_count": null,
   "metadata": {},
   "outputs": [],
   "source": []
  },
  {
   "cell_type": "code",
   "execution_count": 20,
   "metadata": {},
   "outputs": [
    {
     "output_type": "execute_result",
     "data": {
      "text/plain": [
       "   Identifier                                        Description Language  \\\n",
       "0    80784ned  \\nDeze tabel bevat gegevens op regioniveau ove...       nl   \n",
       "1    81075ned  \\nDeze tabel gaat over de werkloosheidsduur va...       nl   \n",
       "2    81575NED  \\nDeze tabel bevat gegevens over het aantal ve...       nl   \n",
       "3    82245NED  \\nDeze tabel bevat cijfers over de Nederlandse...       nl   \n",
       "4    82807NED  \\nDeze tabel bevat kwartaal- en jaarcijfers ov...       nl   \n",
       "5    82931NED  \\nOverzicht van statistische gegevens van geme...       nl   \n",
       "6    83220NED  \\nOverzicht van statistische gegevens van geme...       nl   \n",
       "7    83433NED  \\nDeze tabel bevat cijfers over het prijsverlo...       nl   \n",
       "8    83435NED  \\nDeze tabel bevat cijfers over het aantal pas...       nl   \n",
       "9    83487NED  \\nOverzicht van statistische gegevens van geme...       nl   \n",
       "10   83488NED  \\nDeze tabel bevat cijfers over het aantal per...       nl   \n",
       "11   83749NED  \\nDeze tabel bevat cijfers over gemiddelde rei...       nl   \n",
       "12   83822NED  \\nDeze tabel bevat gegevens over vestigingen v...       nl   \n",
       "13   83878NED  \\nDeze tabel bevat cijfers over het gemiddelde...       nl   \n",
       "14   84093NED  \\nDeze tabel bevat gedetailleerde gegevens ove...       nl   \n",
       "15   84312NED  Deze tabel beschrijft voor Caribisch Nederland...       nl   \n",
       "16   84334NED  \\nDeze tabel bevat cijfers over gemiddelde rei...       nl   \n",
       "17   84440NED  \\nDeze tabel geeft een overzicht van de bruto ...       nl   \n",
       "18   84463NED  \\nDeze tabel bevat cijfers over gemiddelde rei...       nl   \n",
       "19   84486NED  \\nDeze tabel bevat cijfers over het aantal rij...       nl   \n",
       "20   84498NED  \\nIn deze tabel wordt een overzicht gegeven va...       nl   \n",
       "21   84614NED  \\nHet CBS verzamelt, binnen het kader van de m...       nl   \n",
       "22   82675NED  Het Ondernemersvertrouwen is een stemmingsindi...       nl   \n",
       "23   84303NED  Deze tabel bevat cijfers over het ondernemersv...       nl   \n",
       "24   80857ned  Deze tabel bevat het aantal openstaande, ontst...       nl   \n",
       "25   84553NED  Deze tabel bevat gegevens van de door- en uits...       nl   \n",
       "26   82242NED  Deze tabel bevat de aantallen door rechters in...       nl   \n",
       "27   80072ned  Deze tabel geeft inzicht in het ziekteverzuimp...       nl   \n",
       "28   82243NED  Deze tabel bevat de aantallen door rechters in...       nl   \n",
       "29   84120NED  Deze tabel bevat gegevens over de belastingopb...       nl   \n",
       "30   82522NED  Deze tabel bevat de aantallen door rechters in...       nl   \n",
       "31   81302ned  Deze tabel bevat gegevens op nationaal niveau ...       nl   \n",
       "32   84122NED  Deze tabel bevat gegevens over de uitgaven en ...       nl   \n",
       "33   84287NED  De vacature-indicator is een rekenkundig gewog...       nl   \n",
       "34   83719NED  Deze tabel bevat de aantallen door rechters in...       nl   \n",
       "35   7425zuiv  Melkveehouders in Nederland leveren circa 96% ...       nl   \n",
       "36   81589NED  Deze tabel bevat gegevens over het aantal bedr...       nl   \n",
       "37      60006  Deze tabel geeft per kwartaal inzicht in de on...       nl   \n",
       "38   37230ned  Deze tabel bevat cijfers over de veranderingen...       nl   \n",
       "39   70072ned  In deze tabel zijn voor een groot aantal onder...       nl   \n",
       "40   7100oogs  Deze tabel geeft per akkerbouwgewas informatie...       nl   \n",
       "41   84137NED  Deze tabel beschrijft de verschillende vormen ...       nl   \n",
       "42   84296NED  Deze tabel bevat cijfers  over de beteelde en ...       nl   \n",
       "43   84478NED  Deze tabel bevat jaarcijfers over zelfstandige...       nl   \n",
       "44   80416ned  Deze tabel bevat pompprijzen van motorbrandsto...       nl   \n",
       "45   81298ned  In deze tabel \"In- en uitvoer van goederensoor...       nl   \n",
       "46   82838NED  De tabel bevat gegevens over indexcijfers van ...       nl   \n",
       "47   83131NED  Deze tabel bevat cijfers over het prijsverloop...       nl   \n",
       "48   83132NED  Deze tabel bevat de jaar-op-jaar ontwikkeling ...       nl   \n",
       "49   83135NED  Deze tabel bevat cijfers over het prijsverloop...       nl   \n",
       "50   83136NED  Deze tabel bevat cijfers over het prijsverloop...       nl   \n",
       "51   84407NED  Deze tabel bevat een historische tijdreeks met...       nl   \n",
       "52   83765NED  Overzicht van statistische gegevens van gemeen...       nl   \n",
       "\n",
       "                                                Title  \\\n",
       "0                Landbouw; arbeidskrachten naar regio   \n",
       "1   Werkloze beroepsbevolking; werkloosheidsduur e...   \n",
       "2    Vestigingen van bedrijven; bedrijfstak, gemeente   \n",
       "3   Bevolking en huishoudens; viercijferige postco...   \n",
       "4                  Werkzame beroepsbevolking; bedrijf   \n",
       "5                  Kerncijfers wijken en buurten 2014   \n",
       "6                  Kerncijfers wijken en buurten 2015   \n",
       "7   Consumentenprijzen; werknemers laag, alle basi...   \n",
       "8   Amsterdam Airport Schiphol; passagiersvervoer,...   \n",
       "9                  Kerncijfers wijken en buurten 2016   \n",
       "10  Personen met een rijbewijs; rijbewijscategorie...   \n",
       "11  Nabijheid voorzieningen; afstand locatie, wijk...   \n",
       "12  Fitnesscentra; klanten, abonnementsprijzen en ...   \n",
       "13  Aardgaslevering vanuit het openbare net; wonin...   \n",
       "14  Consumptie; goederen- en dienstencategorieën, ...   \n",
       "15  Caribisch NL; deelnemers mbo, niveau, sector, ...   \n",
       "16  Nabijheid voorzieningen; afstand locatie, wijk...   \n",
       "17  Investeringen in vaste activa naar bedrijfstak...   \n",
       "18  Nabijheid voorzieningen; afstand locatie, wijk...   \n",
       "19             Rijksmonumenten; regio (indeling 2018)   \n",
       "20                Trend van broedvogels: indexcijfers   \n",
       "21  Chemische bestrijding door overheidsinstelling...   \n",
       "22   Ondernemersvertrouwen; bedrijfstakken (SBI 2008)   \n",
       "23                       Ondernemersvertrouwen; regio   \n",
       "24  Vacatures (openstaande, ontstane en vervulde);...   \n",
       "25  Mbo; doorstroom en uitstroom, achtergrondkenme...   \n",
       "26                       Faillissementen; kerncijfers   \n",
       "27  Ziekteverzuimpercentage; bedrijfstakken (SBI 2...   \n",
       "28       Faillissementen; natuurlijke personen, regio   \n",
       "29  Overheid; ontvangen belastingen en wettelijke ...   \n",
       "30  Faillissementen; bedrijven en instellingen, regio   \n",
       "31  Landbouw; gewassen, dieren, grondgebruik en ar...   \n",
       "32  Overheidsuitgaven en bestedingen; functies, tr...   \n",
       "33                                 Vacature-indicator   \n",
       "34    Faillissementen; natuurlijke personen, leeftijd   \n",
       "35  Melkaanvoer en zuivelproductie door zuivelfabr...   \n",
       "36                             Bedrijven; bedrijfstak   \n",
       "37  Bouwnijverheid; productieve uren in de burgerl...   \n",
       "38            Bevolkingsontwikkeling; regio per maand   \n",
       "39                    Regionale kerncijfers Nederland   \n",
       "40            Akkerbouwgewassen; productie naar regio   \n",
       "41  Jongeren met één of meerdere vormen van jeugdz...   \n",
       "42  Akkerbouwgewassen; voorlopige en definitieve o...   \n",
       "43  Zelfstandigen; persoonskenmerken en bedrijfsta...   \n",
       "44  Pompprijzen motorbrandstoffen; brandstofsoort,...   \n",
       "45  In- en uitvoer van goederensoorten naar EU, ni...   \n",
       "46  Cao-lonen, contractuele loonkosten en arbeidsd...   \n",
       "47            Consumentenprijzen; prijsindex 2015=100   \n",
       "48  Consumentenprijzen; bijdrage en impact, CPI 20...   \n",
       "49  Jaarmutatie HICP; Nederland, eurozone en Europ...   \n",
       "50          Consumentenprijzen; basisjaren vanaf 1969   \n",
       "51  Internationale handel; in- en uitvoerwaarde, S...   \n",
       "52                 Kerncijfers wijken en buurten 2017   \n",
       "\n",
       "                     Modified Catalog       Version  \\\n",
       "0   2020-03-03T02:00:00+01:00     CBS  202003030200   \n",
       "1   2020-01-23T02:00:00+01:00     CBS  202001230200   \n",
       "2   2020-04-08T02:00:00+02:00     CBS  202004080200   \n",
       "3   2019-08-23T02:00:00+02:00     CBS  201908230200   \n",
       "4   2019-11-29T02:00:00+01:00     CBS  201911290200   \n",
       "5   2018-07-27T02:00:00+02:00     CBS  201807270200   \n",
       "6   2018-07-27T02:00:00+02:00     CBS  201807270200   \n",
       "7   2016-04-12T02:00:00+02:00     CBS  201604120200   \n",
       "8   2020-02-14T02:00:00+01:00     CBS  202002140200   \n",
       "9   2019-02-01T02:00:00+01:00     CBS  201902010200   \n",
       "10  2020-02-20T02:00:00+01:00     CBS  202002200200   \n",
       "11  2018-09-14T02:00:00+02:00     CBS  201809140200   \n",
       "12  2018-11-26T02:00:00+01:00     CBS  201811260200   \n",
       "13  2020-06-25T02:00:00+02:00     CBS  202006250200   \n",
       "14  2020-06-24T06:30:00+02:00     CBS  202006240630   \n",
       "15  2020-05-19T02:00:00+02:00     CBS  202005190200   \n",
       "16  2020-06-26T02:00:00+02:00     CBS  202006260200   \n",
       "17  2019-12-13T02:00:00+01:00     CBS  201912130200   \n",
       "18  2020-06-26T02:00:00+02:00     CBS  202006260200   \n",
       "19  2019-03-19T02:00:00+01:00     CBS  201903190200   \n",
       "20  2020-06-26T02:00:00+02:00     CBS  202006260200   \n",
       "21  2019-10-15T02:00:00+02:00     CBS  201910150200   \n",
       "22  2020-08-13T00:00:00+02:00     CBS  202008130000   \n",
       "23  2020-08-13T00:00:00+02:00     CBS  202008130000   \n",
       "24  2020-08-14T00:00:00+02:00     CBS  202008140000   \n",
       "25  2020-08-28T00:00:00+02:00     CBS  202008280000   \n",
       "26  2020-10-12T06:30:00+02:00     CBS  202010120630   \n",
       "27  2020-09-18T00:00:00+02:00     CBS  202009180000   \n",
       "28  2020-10-12T06:30:00+02:00     CBS  202010120630   \n",
       "29  2020-09-23T06:30:00+02:00     CBS  202009230630   \n",
       "30  2020-10-12T06:30:00+02:00     CBS  202010120630   \n",
       "31  2020-09-30T00:00:00+02:00     CBS  202009300000   \n",
       "32  2020-09-30T00:00:00+02:00     CBS  202009300000   \n",
       "33  2020-10-08T15:30:00+02:00     CBS  202010081530   \n",
       "34  2020-10-12T06:30:00+02:00     CBS  202010120630   \n",
       "35  2020-10-14T00:00:00+02:00     CBS  202010140000   \n",
       "36  2020-10-15T00:00:00+02:00     CBS  202010150000   \n",
       "37  2020-10-21T00:00:00+02:00     CBS  202010210000   \n",
       "38  2020-10-28T00:00:00+01:00     CBS  202010280000   \n",
       "39  2020-10-30T00:00:00+01:00     CBS  202010300000   \n",
       "40  2020-10-30T00:00:00+01:00     CBS  202010300000   \n",
       "41  2020-10-30T00:00:00+01:00     CBS  202010300000   \n",
       "42  2020-10-30T00:00:00+01:00     CBS  202010300000   \n",
       "43  2020-11-02T00:00:00+01:00     CBS  202011020000   \n",
       "44  2020-11-05T00:00:00+01:00     CBS  202011050000   \n",
       "45  2020-11-05T00:00:00+01:00     CBS  202011050000   \n",
       "46  2020-11-05T00:00:00+01:00     CBS  202011050000   \n",
       "47  2020-11-05T06:30:00+01:00     CBS  202011050630   \n",
       "48  2020-11-05T06:30:00+01:00     CBS  202011050630   \n",
       "49  2020-11-05T06:30:00+01:00     CBS  202011050630   \n",
       "50  2020-11-05T06:30:00+01:00     CBS  202011050630   \n",
       "51  2020-11-05T00:00:00+01:00     CBS  202011050000   \n",
       "52  2020-11-06T00:00:00+01:00     CBS  202011060000   \n",
       "\n",
       "                                         VersionNotes  \\\n",
       "0                                                       \n",
       "1                                                       \n",
       "2                                                       \n",
       "3                                                       \n",
       "4   De cijfers over het onderwijsniveau in deze ta...   \n",
       "5                                                       \n",
       "6                                                       \n",
       "7                                                       \n",
       "8                                                       \n",
       "9                                                       \n",
       "10                                                      \n",
       "11  Het onderwerp \"Indelingswijziging wijken en bu...   \n",
       "12                                                      \n",
       "13                                                      \n",
       "14                                                      \n",
       "15                                                      \n",
       "16  In een eerdere versie van deze tabel zijn abus...   \n",
       "17                                                      \n",
       "18                                                      \n",
       "19                                                      \n",
       "20  De gegevens van de Grote gele kwikstaart en de...   \n",
       "21                                                      \n",
       "22                                                      \n",
       "23                                                      \n",
       "24                                                      \n",
       "25                                                      \n",
       "26                                                      \n",
       "27                                                      \n",
       "28                                                      \n",
       "29                                                      \n",
       "30                                                      \n",
       "31                                                      \n",
       "32  In het kader van het revisiebeleid zijn de ver...   \n",
       "33                                                      \n",
       "34                                                      \n",
       "35                                                      \n",
       "36                                                      \n",
       "37                                                      \n",
       "38                                                      \n",
       "39                                                      \n",
       "40                                                      \n",
       "41                                                      \n",
       "42                                                      \n",
       "43                                                      \n",
       "44                                                      \n",
       "45                                                      \n",
       "46                                                      \n",
       "47                                                      \n",
       "48                                                      \n",
       "49                                                      \n",
       "50                                                      \n",
       "51                                                      \n",
       "52  Binnen het thema nabijheid voorzieningen zijn ...   \n",
       "\n",
       "              VersionReason            Status       ObservationsModified  \\\n",
       "0             Actualisering          Regulier  2020-03-03T02:00:00+01:00   \n",
       "1                 Stopgezet  Gediscontinueerd  2019-11-14T02:00:00+01:00   \n",
       "2             Actualisering          Regulier  2020-04-08T02:00:00+02:00   \n",
       "3                 Stopgezet  Gediscontinueerd  2013-11-15T02:00:00+01:00   \n",
       "4                 Correctie          Regulier  2019-11-29T02:00:00+01:00   \n",
       "5               Verbetering          Regulier  2018-07-27T02:00:00+02:00   \n",
       "6               Verbetering          Regulier  2018-07-27T02:00:00+02:00   \n",
       "7                     Nieuw  Gediscontinueerd  2016-04-12T02:00:00+02:00   \n",
       "8             Actualisering          Regulier  2020-02-14T02:00:00+01:00   \n",
       "9   Actualisering bijzonder          Regulier  2019-02-01T02:00:00+01:00   \n",
       "10            Actualisering          Regulier  2020-02-20T02:00:00+01:00   \n",
       "11               Herontwerp          Regulier  2018-09-14T02:00:00+02:00   \n",
       "12            Actualisering          Regulier  2018-11-26T02:00:00+01:00   \n",
       "13            Actualisering          Regulier  2020-06-25T02:00:00+02:00   \n",
       "14            Actualisering          Regulier  2020-06-24T06:30:00+02:00   \n",
       "15              Verbetering          Regulier  2020-05-06T15:30:00+02:00   \n",
       "16                Correctie          Regulier  2020-06-26T02:00:00+02:00   \n",
       "17            Actualisering          Regulier  2019-12-13T02:00:00+01:00   \n",
       "18  Actualisering bijzonder          Regulier  2020-06-26T02:00:00+02:00   \n",
       "19                    Nieuw          Regulier  2019-03-19T02:00:00+01:00   \n",
       "20               Herontwerp          Regulier  2020-06-26T02:00:00+02:00   \n",
       "21                    Nieuw          Regulier  2019-10-15T02:00:00+02:00   \n",
       "22            Actualisering          Regulier  2020-08-13T00:00:00+02:00   \n",
       "23            Actualisering          Regulier  2020-08-13T00:00:00+02:00   \n",
       "24            Actualisering          Regulier  2020-08-14T00:00:00+02:00   \n",
       "25  Actualisering bijzonder          Regulier  2020-08-28T00:00:00+02:00   \n",
       "26            Actualisering          Regulier  2020-10-12T06:30:00+02:00   \n",
       "27            Actualisering          Regulier  2020-09-18T00:00:00+02:00   \n",
       "28            Actualisering          Regulier  2020-10-12T06:30:00+02:00   \n",
       "29            Actualisering          Regulier  2020-09-23T06:30:00+02:00   \n",
       "30            Actualisering          Regulier  2020-10-12T06:30:00+02:00   \n",
       "31            Actualisering          Regulier  2020-09-30T00:00:00+02:00   \n",
       "32                  Revisie          Regulier  2020-09-30T00:00:00+02:00   \n",
       "33            Actualisering          Regulier  2020-10-08T15:30:00+02:00   \n",
       "34            Actualisering          Regulier  2020-10-12T06:30:00+02:00   \n",
       "35            Actualisering          Regulier  2020-10-14T00:00:00+02:00   \n",
       "36            Actualisering          Regulier  2020-10-15T00:00:00+02:00   \n",
       "37            Actualisering          Regulier  2020-10-21T00:00:00+02:00   \n",
       "38            Actualisering          Regulier  2020-10-28T00:00:00+01:00   \n",
       "39  Actualisering bijzonder          Regulier  2020-10-30T00:00:00+01:00   \n",
       "40            Actualisering          Regulier  2020-10-30T00:00:00+01:00   \n",
       "41            Actualisering          Regulier  2020-10-30T00:00:00+01:00   \n",
       "42  Actualisering bijzonder          Regulier  2020-10-30T00:00:00+01:00   \n",
       "43            Actualisering          Regulier  2020-11-02T00:00:00+01:00   \n",
       "44            Actualisering          Regulier  2020-11-05T00:00:00+01:00   \n",
       "45            Actualisering          Regulier  2020-11-05T00:00:00+01:00   \n",
       "46            Actualisering          Regulier  2020-11-05T00:00:00+01:00   \n",
       "47            Actualisering          Regulier  2020-11-05T06:30:00+01:00   \n",
       "48            Actualisering          Regulier  2020-11-05T06:30:00+01:00   \n",
       "49            Actualisering          Regulier  2020-11-05T06:30:00+01:00   \n",
       "50            Actualisering          Regulier  2020-11-05T06:30:00+01:00   \n",
       "51            Actualisering          Regulier  2020-11-05T00:00:00+01:00   \n",
       "52                Correctie          Regulier  2020-11-06T00:00:00+01:00   \n",
       "\n",
       "    ObservationCount DatasetType  \n",
       "0             173148     Numeric  \n",
       "1               2432     Numeric  \n",
       "2             142800     Numeric  \n",
       "3             326174     Numeric  \n",
       "4             481770     Numeric  \n",
       "5            1348572     Numeric  \n",
       "6            1401105     Numeric  \n",
       "7               2580     Numeric  \n",
       "8              28742     Numeric  \n",
       "9            1511607     Numeric  \n",
       "10             19019     Numeric  \n",
       "11           1415016     Numeric  \n",
       "12               252     Numeric  \n",
       "13             69174     Numeric  \n",
       "14              6559     Numeric  \n",
       "15              3362     Numeric  \n",
       "16           1456910     Numeric  \n",
       "17             23851     Numeric  \n",
       "18           1483040     Numeric  \n",
       "19             31464     Numeric  \n",
       "20              5029     Numeric  \n",
       "21             19110     Numeric  \n",
       "22              1104     Numeric  \n",
       "23               999     Numeric  \n",
       "24              3141     Numeric  \n",
       "25           5738040     Numeric  \n",
       "26              2700     Numeric  \n",
       "27              4448     Numeric  \n",
       "28             35820     Numeric  \n",
       "29              6456     Numeric  \n",
       "30             35820     Numeric  \n",
       "31             11896     Numeric  \n",
       "32            252000     Numeric  \n",
       "33              1044     Numeric  \n",
       "34              4716     Numeric  \n",
       "35              3012     Numeric  \n",
       "36           1069725     Numeric  \n",
       "37               765     Numeric  \n",
       "38           2216104     Numeric  \n",
       "39           5073427     Numeric  \n",
       "40             48724     Numeric  \n",
       "41            258755     Numeric  \n",
       "42              2904     Numeric  \n",
       "43            478764     Numeric  \n",
       "44             16260     Numeric  \n",
       "45               978     Numeric  \n",
       "46            495593     Numeric  \n",
       "47            914530     Numeric  \n",
       "48             46214     Numeric  \n",
       "49              1904     Numeric  \n",
       "50              6057     Numeric  \n",
       "51             57015     Numeric  \n",
       "52           1537850     Numeric  "
      ],
      "text/html": "<div>\n<style scoped>\n    .dataframe tbody tr th:only-of-type {\n        vertical-align: middle;\n    }\n\n    .dataframe tbody tr th {\n        vertical-align: top;\n    }\n\n    .dataframe thead th {\n        text-align: right;\n    }\n</style>\n<table border=\"1\" class=\"dataframe\">\n  <thead>\n    <tr style=\"text-align: right;\">\n      <th></th>\n      <th>Identifier</th>\n      <th>Description</th>\n      <th>Language</th>\n      <th>Title</th>\n      <th>Modified</th>\n      <th>Catalog</th>\n      <th>Version</th>\n      <th>VersionNotes</th>\n      <th>VersionReason</th>\n      <th>Status</th>\n      <th>ObservationsModified</th>\n      <th>ObservationCount</th>\n      <th>DatasetType</th>\n    </tr>\n  </thead>\n  <tbody>\n    <tr>\n      <th>0</th>\n      <td>80784ned</td>\n      <td>\\nDeze tabel bevat gegevens op regioniveau ove...</td>\n      <td>nl</td>\n      <td>Landbouw; arbeidskrachten naar regio</td>\n      <td>2020-03-03T02:00:00+01:00</td>\n      <td>CBS</td>\n      <td>202003030200</td>\n      <td></td>\n      <td>Actualisering</td>\n      <td>Regulier</td>\n      <td>2020-03-03T02:00:00+01:00</td>\n      <td>173148</td>\n      <td>Numeric</td>\n    </tr>\n    <tr>\n      <th>1</th>\n      <td>81075ned</td>\n      <td>\\nDeze tabel gaat over de werkloosheidsduur va...</td>\n      <td>nl</td>\n      <td>Werkloze beroepsbevolking; werkloosheidsduur e...</td>\n      <td>2020-01-23T02:00:00+01:00</td>\n      <td>CBS</td>\n      <td>202001230200</td>\n      <td></td>\n      <td>Stopgezet</td>\n      <td>Gediscontinueerd</td>\n      <td>2019-11-14T02:00:00+01:00</td>\n      <td>2432</td>\n      <td>Numeric</td>\n    </tr>\n    <tr>\n      <th>2</th>\n      <td>81575NED</td>\n      <td>\\nDeze tabel bevat gegevens over het aantal ve...</td>\n      <td>nl</td>\n      <td>Vestigingen van bedrijven; bedrijfstak, gemeente</td>\n      <td>2020-04-08T02:00:00+02:00</td>\n      <td>CBS</td>\n      <td>202004080200</td>\n      <td></td>\n      <td>Actualisering</td>\n      <td>Regulier</td>\n      <td>2020-04-08T02:00:00+02:00</td>\n      <td>142800</td>\n      <td>Numeric</td>\n    </tr>\n    <tr>\n      <th>3</th>\n      <td>82245NED</td>\n      <td>\\nDeze tabel bevat cijfers over de Nederlandse...</td>\n      <td>nl</td>\n      <td>Bevolking en huishoudens; viercijferige postco...</td>\n      <td>2019-08-23T02:00:00+02:00</td>\n      <td>CBS</td>\n      <td>201908230200</td>\n      <td></td>\n      <td>Stopgezet</td>\n      <td>Gediscontinueerd</td>\n      <td>2013-11-15T02:00:00+01:00</td>\n      <td>326174</td>\n      <td>Numeric</td>\n    </tr>\n    <tr>\n      <th>4</th>\n      <td>82807NED</td>\n      <td>\\nDeze tabel bevat kwartaal- en jaarcijfers ov...</td>\n      <td>nl</td>\n      <td>Werkzame beroepsbevolking; bedrijf</td>\n      <td>2019-11-29T02:00:00+01:00</td>\n      <td>CBS</td>\n      <td>201911290200</td>\n      <td>De cijfers over het onderwijsniveau in deze ta...</td>\n      <td>Correctie</td>\n      <td>Regulier</td>\n      <td>2019-11-29T02:00:00+01:00</td>\n      <td>481770</td>\n      <td>Numeric</td>\n    </tr>\n    <tr>\n      <th>5</th>\n      <td>82931NED</td>\n      <td>\\nOverzicht van statistische gegevens van geme...</td>\n      <td>nl</td>\n      <td>Kerncijfers wijken en buurten 2014</td>\n      <td>2018-07-27T02:00:00+02:00</td>\n      <td>CBS</td>\n      <td>201807270200</td>\n      <td></td>\n      <td>Verbetering</td>\n      <td>Regulier</td>\n      <td>2018-07-27T02:00:00+02:00</td>\n      <td>1348572</td>\n      <td>Numeric</td>\n    </tr>\n    <tr>\n      <th>6</th>\n      <td>83220NED</td>\n      <td>\\nOverzicht van statistische gegevens van geme...</td>\n      <td>nl</td>\n      <td>Kerncijfers wijken en buurten 2015</td>\n      <td>2018-07-27T02:00:00+02:00</td>\n      <td>CBS</td>\n      <td>201807270200</td>\n      <td></td>\n      <td>Verbetering</td>\n      <td>Regulier</td>\n      <td>2018-07-27T02:00:00+02:00</td>\n      <td>1401105</td>\n      <td>Numeric</td>\n    </tr>\n    <tr>\n      <th>7</th>\n      <td>83433NED</td>\n      <td>\\nDeze tabel bevat cijfers over het prijsverlo...</td>\n      <td>nl</td>\n      <td>Consumentenprijzen; werknemers laag, alle basi...</td>\n      <td>2016-04-12T02:00:00+02:00</td>\n      <td>CBS</td>\n      <td>201604120200</td>\n      <td></td>\n      <td>Nieuw</td>\n      <td>Gediscontinueerd</td>\n      <td>2016-04-12T02:00:00+02:00</td>\n      <td>2580</td>\n      <td>Numeric</td>\n    </tr>\n    <tr>\n      <th>8</th>\n      <td>83435NED</td>\n      <td>\\nDeze tabel bevat cijfers over het aantal pas...</td>\n      <td>nl</td>\n      <td>Amsterdam Airport Schiphol; passagiersvervoer,...</td>\n      <td>2020-02-14T02:00:00+01:00</td>\n      <td>CBS</td>\n      <td>202002140200</td>\n      <td></td>\n      <td>Actualisering</td>\n      <td>Regulier</td>\n      <td>2020-02-14T02:00:00+01:00</td>\n      <td>28742</td>\n      <td>Numeric</td>\n    </tr>\n    <tr>\n      <th>9</th>\n      <td>83487NED</td>\n      <td>\\nOverzicht van statistische gegevens van geme...</td>\n      <td>nl</td>\n      <td>Kerncijfers wijken en buurten 2016</td>\n      <td>2019-02-01T02:00:00+01:00</td>\n      <td>CBS</td>\n      <td>201902010200</td>\n      <td></td>\n      <td>Actualisering bijzonder</td>\n      <td>Regulier</td>\n      <td>2019-02-01T02:00:00+01:00</td>\n      <td>1511607</td>\n      <td>Numeric</td>\n    </tr>\n    <tr>\n      <th>10</th>\n      <td>83488NED</td>\n      <td>\\nDeze tabel bevat cijfers over het aantal per...</td>\n      <td>nl</td>\n      <td>Personen met een rijbewijs; rijbewijscategorie...</td>\n      <td>2020-02-20T02:00:00+01:00</td>\n      <td>CBS</td>\n      <td>202002200200</td>\n      <td></td>\n      <td>Actualisering</td>\n      <td>Regulier</td>\n      <td>2020-02-20T02:00:00+01:00</td>\n      <td>19019</td>\n      <td>Numeric</td>\n    </tr>\n    <tr>\n      <th>11</th>\n      <td>83749NED</td>\n      <td>\\nDeze tabel bevat cijfers over gemiddelde rei...</td>\n      <td>nl</td>\n      <td>Nabijheid voorzieningen; afstand locatie, wijk...</td>\n      <td>2018-09-14T02:00:00+02:00</td>\n      <td>CBS</td>\n      <td>201809140200</td>\n      <td>Het onderwerp \"Indelingswijziging wijken en bu...</td>\n      <td>Herontwerp</td>\n      <td>Regulier</td>\n      <td>2018-09-14T02:00:00+02:00</td>\n      <td>1415016</td>\n      <td>Numeric</td>\n    </tr>\n    <tr>\n      <th>12</th>\n      <td>83822NED</td>\n      <td>\\nDeze tabel bevat gegevens over vestigingen v...</td>\n      <td>nl</td>\n      <td>Fitnesscentra; klanten, abonnementsprijzen en ...</td>\n      <td>2018-11-26T02:00:00+01:00</td>\n      <td>CBS</td>\n      <td>201811260200</td>\n      <td></td>\n      <td>Actualisering</td>\n      <td>Regulier</td>\n      <td>2018-11-26T02:00:00+01:00</td>\n      <td>252</td>\n      <td>Numeric</td>\n    </tr>\n    <tr>\n      <th>13</th>\n      <td>83878NED</td>\n      <td>\\nDeze tabel bevat cijfers over het gemiddelde...</td>\n      <td>nl</td>\n      <td>Aardgaslevering vanuit het openbare net; wonin...</td>\n      <td>2020-06-25T02:00:00+02:00</td>\n      <td>CBS</td>\n      <td>202006250200</td>\n      <td></td>\n      <td>Actualisering</td>\n      <td>Regulier</td>\n      <td>2020-06-25T02:00:00+02:00</td>\n      <td>69174</td>\n      <td>Numeric</td>\n    </tr>\n    <tr>\n      <th>14</th>\n      <td>84093NED</td>\n      <td>\\nDeze tabel bevat gedetailleerde gegevens ove...</td>\n      <td>nl</td>\n      <td>Consumptie; goederen- en dienstencategorieën, ...</td>\n      <td>2020-06-24T06:30:00+02:00</td>\n      <td>CBS</td>\n      <td>202006240630</td>\n      <td></td>\n      <td>Actualisering</td>\n      <td>Regulier</td>\n      <td>2020-06-24T06:30:00+02:00</td>\n      <td>6559</td>\n      <td>Numeric</td>\n    </tr>\n    <tr>\n      <th>15</th>\n      <td>84312NED</td>\n      <td>Deze tabel beschrijft voor Caribisch Nederland...</td>\n      <td>nl</td>\n      <td>Caribisch NL; deelnemers mbo, niveau, sector, ...</td>\n      <td>2020-05-19T02:00:00+02:00</td>\n      <td>CBS</td>\n      <td>202005190200</td>\n      <td></td>\n      <td>Verbetering</td>\n      <td>Regulier</td>\n      <td>2020-05-06T15:30:00+02:00</td>\n      <td>3362</td>\n      <td>Numeric</td>\n    </tr>\n    <tr>\n      <th>16</th>\n      <td>84334NED</td>\n      <td>\\nDeze tabel bevat cijfers over gemiddelde rei...</td>\n      <td>nl</td>\n      <td>Nabijheid voorzieningen; afstand locatie, wijk...</td>\n      <td>2020-06-26T02:00:00+02:00</td>\n      <td>CBS</td>\n      <td>202006260200</td>\n      <td>In een eerdere versie van deze tabel zijn abus...</td>\n      <td>Correctie</td>\n      <td>Regulier</td>\n      <td>2020-06-26T02:00:00+02:00</td>\n      <td>1456910</td>\n      <td>Numeric</td>\n    </tr>\n    <tr>\n      <th>17</th>\n      <td>84440NED</td>\n      <td>\\nDeze tabel geeft een overzicht van de bruto ...</td>\n      <td>nl</td>\n      <td>Investeringen in vaste activa naar bedrijfstak...</td>\n      <td>2019-12-13T02:00:00+01:00</td>\n      <td>CBS</td>\n      <td>201912130200</td>\n      <td></td>\n      <td>Actualisering</td>\n      <td>Regulier</td>\n      <td>2019-12-13T02:00:00+01:00</td>\n      <td>23851</td>\n      <td>Numeric</td>\n    </tr>\n    <tr>\n      <th>18</th>\n      <td>84463NED</td>\n      <td>\\nDeze tabel bevat cijfers over gemiddelde rei...</td>\n      <td>nl</td>\n      <td>Nabijheid voorzieningen; afstand locatie, wijk...</td>\n      <td>2020-06-26T02:00:00+02:00</td>\n      <td>CBS</td>\n      <td>202006260200</td>\n      <td></td>\n      <td>Actualisering bijzonder</td>\n      <td>Regulier</td>\n      <td>2020-06-26T02:00:00+02:00</td>\n      <td>1483040</td>\n      <td>Numeric</td>\n    </tr>\n    <tr>\n      <th>19</th>\n      <td>84486NED</td>\n      <td>\\nDeze tabel bevat cijfers over het aantal rij...</td>\n      <td>nl</td>\n      <td>Rijksmonumenten; regio (indeling 2018)</td>\n      <td>2019-03-19T02:00:00+01:00</td>\n      <td>CBS</td>\n      <td>201903190200</td>\n      <td></td>\n      <td>Nieuw</td>\n      <td>Regulier</td>\n      <td>2019-03-19T02:00:00+01:00</td>\n      <td>31464</td>\n      <td>Numeric</td>\n    </tr>\n    <tr>\n      <th>20</th>\n      <td>84498NED</td>\n      <td>\\nIn deze tabel wordt een overzicht gegeven va...</td>\n      <td>nl</td>\n      <td>Trend van broedvogels: indexcijfers</td>\n      <td>2020-06-26T02:00:00+02:00</td>\n      <td>CBS</td>\n      <td>202006260200</td>\n      <td>De gegevens van de Grote gele kwikstaart en de...</td>\n      <td>Herontwerp</td>\n      <td>Regulier</td>\n      <td>2020-06-26T02:00:00+02:00</td>\n      <td>5029</td>\n      <td>Numeric</td>\n    </tr>\n    <tr>\n      <th>21</th>\n      <td>84614NED</td>\n      <td>\\nHet CBS verzamelt, binnen het kader van de m...</td>\n      <td>nl</td>\n      <td>Chemische bestrijding door overheidsinstelling...</td>\n      <td>2019-10-15T02:00:00+02:00</td>\n      <td>CBS</td>\n      <td>201910150200</td>\n      <td></td>\n      <td>Nieuw</td>\n      <td>Regulier</td>\n      <td>2019-10-15T02:00:00+02:00</td>\n      <td>19110</td>\n      <td>Numeric</td>\n    </tr>\n    <tr>\n      <th>22</th>\n      <td>82675NED</td>\n      <td>Het Ondernemersvertrouwen is een stemmingsindi...</td>\n      <td>nl</td>\n      <td>Ondernemersvertrouwen; bedrijfstakken (SBI 2008)</td>\n      <td>2020-08-13T00:00:00+02:00</td>\n      <td>CBS</td>\n      <td>202008130000</td>\n      <td></td>\n      <td>Actualisering</td>\n      <td>Regulier</td>\n      <td>2020-08-13T00:00:00+02:00</td>\n      <td>1104</td>\n      <td>Numeric</td>\n    </tr>\n    <tr>\n      <th>23</th>\n      <td>84303NED</td>\n      <td>Deze tabel bevat cijfers over het ondernemersv...</td>\n      <td>nl</td>\n      <td>Ondernemersvertrouwen; regio</td>\n      <td>2020-08-13T00:00:00+02:00</td>\n      <td>CBS</td>\n      <td>202008130000</td>\n      <td></td>\n      <td>Actualisering</td>\n      <td>Regulier</td>\n      <td>2020-08-13T00:00:00+02:00</td>\n      <td>999</td>\n      <td>Numeric</td>\n    </tr>\n    <tr>\n      <th>24</th>\n      <td>80857ned</td>\n      <td>Deze tabel bevat het aantal openstaande, ontst...</td>\n      <td>nl</td>\n      <td>Vacatures (openstaande, ontstane en vervulde);...</td>\n      <td>2020-08-14T00:00:00+02:00</td>\n      <td>CBS</td>\n      <td>202008140000</td>\n      <td></td>\n      <td>Actualisering</td>\n      <td>Regulier</td>\n      <td>2020-08-14T00:00:00+02:00</td>\n      <td>3141</td>\n      <td>Numeric</td>\n    </tr>\n    <tr>\n      <th>25</th>\n      <td>84553NED</td>\n      <td>Deze tabel bevat gegevens van de door- en uits...</td>\n      <td>nl</td>\n      <td>Mbo; doorstroom en uitstroom, achtergrondkenme...</td>\n      <td>2020-08-28T00:00:00+02:00</td>\n      <td>CBS</td>\n      <td>202008280000</td>\n      <td></td>\n      <td>Actualisering bijzonder</td>\n      <td>Regulier</td>\n      <td>2020-08-28T00:00:00+02:00</td>\n      <td>5738040</td>\n      <td>Numeric</td>\n    </tr>\n    <tr>\n      <th>26</th>\n      <td>82242NED</td>\n      <td>Deze tabel bevat de aantallen door rechters in...</td>\n      <td>nl</td>\n      <td>Faillissementen; kerncijfers</td>\n      <td>2020-10-12T06:30:00+02:00</td>\n      <td>CBS</td>\n      <td>202010120630</td>\n      <td></td>\n      <td>Actualisering</td>\n      <td>Regulier</td>\n      <td>2020-10-12T06:30:00+02:00</td>\n      <td>2700</td>\n      <td>Numeric</td>\n    </tr>\n    <tr>\n      <th>27</th>\n      <td>80072ned</td>\n      <td>Deze tabel geeft inzicht in het ziekteverzuimp...</td>\n      <td>nl</td>\n      <td>Ziekteverzuimpercentage; bedrijfstakken (SBI 2...</td>\n      <td>2020-09-18T00:00:00+02:00</td>\n      <td>CBS</td>\n      <td>202009180000</td>\n      <td></td>\n      <td>Actualisering</td>\n      <td>Regulier</td>\n      <td>2020-09-18T00:00:00+02:00</td>\n      <td>4448</td>\n      <td>Numeric</td>\n    </tr>\n    <tr>\n      <th>28</th>\n      <td>82243NED</td>\n      <td>Deze tabel bevat de aantallen door rechters in...</td>\n      <td>nl</td>\n      <td>Faillissementen; natuurlijke personen, regio</td>\n      <td>2020-10-12T06:30:00+02:00</td>\n      <td>CBS</td>\n      <td>202010120630</td>\n      <td></td>\n      <td>Actualisering</td>\n      <td>Regulier</td>\n      <td>2020-10-12T06:30:00+02:00</td>\n      <td>35820</td>\n      <td>Numeric</td>\n    </tr>\n    <tr>\n      <th>29</th>\n      <td>84120NED</td>\n      <td>Deze tabel bevat gegevens over de belastingopb...</td>\n      <td>nl</td>\n      <td>Overheid; ontvangen belastingen en wettelijke ...</td>\n      <td>2020-09-23T06:30:00+02:00</td>\n      <td>CBS</td>\n      <td>202009230630</td>\n      <td></td>\n      <td>Actualisering</td>\n      <td>Regulier</td>\n      <td>2020-09-23T06:30:00+02:00</td>\n      <td>6456</td>\n      <td>Numeric</td>\n    </tr>\n    <tr>\n      <th>30</th>\n      <td>82522NED</td>\n      <td>Deze tabel bevat de aantallen door rechters in...</td>\n      <td>nl</td>\n      <td>Faillissementen; bedrijven en instellingen, regio</td>\n      <td>2020-10-12T06:30:00+02:00</td>\n      <td>CBS</td>\n      <td>202010120630</td>\n      <td></td>\n      <td>Actualisering</td>\n      <td>Regulier</td>\n      <td>2020-10-12T06:30:00+02:00</td>\n      <td>35820</td>\n      <td>Numeric</td>\n    </tr>\n    <tr>\n      <th>31</th>\n      <td>81302ned</td>\n      <td>Deze tabel bevat gegevens op nationaal niveau ...</td>\n      <td>nl</td>\n      <td>Landbouw; gewassen, dieren, grondgebruik en ar...</td>\n      <td>2020-09-30T00:00:00+02:00</td>\n      <td>CBS</td>\n      <td>202009300000</td>\n      <td></td>\n      <td>Actualisering</td>\n      <td>Regulier</td>\n      <td>2020-09-30T00:00:00+02:00</td>\n      <td>11896</td>\n      <td>Numeric</td>\n    </tr>\n    <tr>\n      <th>32</th>\n      <td>84122NED</td>\n      <td>Deze tabel bevat gegevens over de uitgaven en ...</td>\n      <td>nl</td>\n      <td>Overheidsuitgaven en bestedingen; functies, tr...</td>\n      <td>2020-09-30T00:00:00+02:00</td>\n      <td>CBS</td>\n      <td>202009300000</td>\n      <td>In het kader van het revisiebeleid zijn de ver...</td>\n      <td>Revisie</td>\n      <td>Regulier</td>\n      <td>2020-09-30T00:00:00+02:00</td>\n      <td>252000</td>\n      <td>Numeric</td>\n    </tr>\n    <tr>\n      <th>33</th>\n      <td>84287NED</td>\n      <td>De vacature-indicator is een rekenkundig gewog...</td>\n      <td>nl</td>\n      <td>Vacature-indicator</td>\n      <td>2020-10-08T15:30:00+02:00</td>\n      <td>CBS</td>\n      <td>202010081530</td>\n      <td></td>\n      <td>Actualisering</td>\n      <td>Regulier</td>\n      <td>2020-10-08T15:30:00+02:00</td>\n      <td>1044</td>\n      <td>Numeric</td>\n    </tr>\n    <tr>\n      <th>34</th>\n      <td>83719NED</td>\n      <td>Deze tabel bevat de aantallen door rechters in...</td>\n      <td>nl</td>\n      <td>Faillissementen; natuurlijke personen, leeftijd</td>\n      <td>2020-10-12T06:30:00+02:00</td>\n      <td>CBS</td>\n      <td>202010120630</td>\n      <td></td>\n      <td>Actualisering</td>\n      <td>Regulier</td>\n      <td>2020-10-12T06:30:00+02:00</td>\n      <td>4716</td>\n      <td>Numeric</td>\n    </tr>\n    <tr>\n      <th>35</th>\n      <td>7425zuiv</td>\n      <td>Melkveehouders in Nederland leveren circa 96% ...</td>\n      <td>nl</td>\n      <td>Melkaanvoer en zuivelproductie door zuivelfabr...</td>\n      <td>2020-10-14T00:00:00+02:00</td>\n      <td>CBS</td>\n      <td>202010140000</td>\n      <td></td>\n      <td>Actualisering</td>\n      <td>Regulier</td>\n      <td>2020-10-14T00:00:00+02:00</td>\n      <td>3012</td>\n      <td>Numeric</td>\n    </tr>\n    <tr>\n      <th>36</th>\n      <td>81589NED</td>\n      <td>Deze tabel bevat gegevens over het aantal bedr...</td>\n      <td>nl</td>\n      <td>Bedrijven; bedrijfstak</td>\n      <td>2020-10-15T00:00:00+02:00</td>\n      <td>CBS</td>\n      <td>202010150000</td>\n      <td></td>\n      <td>Actualisering</td>\n      <td>Regulier</td>\n      <td>2020-10-15T00:00:00+02:00</td>\n      <td>1069725</td>\n      <td>Numeric</td>\n    </tr>\n    <tr>\n      <th>37</th>\n      <td>60006</td>\n      <td>Deze tabel geeft per kwartaal inzicht in de on...</td>\n      <td>nl</td>\n      <td>Bouwnijverheid; productieve uren in de burgerl...</td>\n      <td>2020-10-21T00:00:00+02:00</td>\n      <td>CBS</td>\n      <td>202010210000</td>\n      <td></td>\n      <td>Actualisering</td>\n      <td>Regulier</td>\n      <td>2020-10-21T00:00:00+02:00</td>\n      <td>765</td>\n      <td>Numeric</td>\n    </tr>\n    <tr>\n      <th>38</th>\n      <td>37230ned</td>\n      <td>Deze tabel bevat cijfers over de veranderingen...</td>\n      <td>nl</td>\n      <td>Bevolkingsontwikkeling; regio per maand</td>\n      <td>2020-10-28T00:00:00+01:00</td>\n      <td>CBS</td>\n      <td>202010280000</td>\n      <td></td>\n      <td>Actualisering</td>\n      <td>Regulier</td>\n      <td>2020-10-28T00:00:00+01:00</td>\n      <td>2216104</td>\n      <td>Numeric</td>\n    </tr>\n    <tr>\n      <th>39</th>\n      <td>70072ned</td>\n      <td>In deze tabel zijn voor een groot aantal onder...</td>\n      <td>nl</td>\n      <td>Regionale kerncijfers Nederland</td>\n      <td>2020-10-30T00:00:00+01:00</td>\n      <td>CBS</td>\n      <td>202010300000</td>\n      <td></td>\n      <td>Actualisering bijzonder</td>\n      <td>Regulier</td>\n      <td>2020-10-30T00:00:00+01:00</td>\n      <td>5073427</td>\n      <td>Numeric</td>\n    </tr>\n    <tr>\n      <th>40</th>\n      <td>7100oogs</td>\n      <td>Deze tabel geeft per akkerbouwgewas informatie...</td>\n      <td>nl</td>\n      <td>Akkerbouwgewassen; productie naar regio</td>\n      <td>2020-10-30T00:00:00+01:00</td>\n      <td>CBS</td>\n      <td>202010300000</td>\n      <td></td>\n      <td>Actualisering</td>\n      <td>Regulier</td>\n      <td>2020-10-30T00:00:00+01:00</td>\n      <td>48724</td>\n      <td>Numeric</td>\n    </tr>\n    <tr>\n      <th>41</th>\n      <td>84137NED</td>\n      <td>Deze tabel beschrijft de verschillende vormen ...</td>\n      <td>nl</td>\n      <td>Jongeren met één of meerdere vormen van jeugdz...</td>\n      <td>2020-10-30T00:00:00+01:00</td>\n      <td>CBS</td>\n      <td>202010300000</td>\n      <td></td>\n      <td>Actualisering</td>\n      <td>Regulier</td>\n      <td>2020-10-30T00:00:00+01:00</td>\n      <td>258755</td>\n      <td>Numeric</td>\n    </tr>\n    <tr>\n      <th>42</th>\n      <td>84296NED</td>\n      <td>Deze tabel bevat cijfers  over de beteelde en ...</td>\n      <td>nl</td>\n      <td>Akkerbouwgewassen; voorlopige en definitieve o...</td>\n      <td>2020-10-30T00:00:00+01:00</td>\n      <td>CBS</td>\n      <td>202010300000</td>\n      <td></td>\n      <td>Actualisering bijzonder</td>\n      <td>Regulier</td>\n      <td>2020-10-30T00:00:00+01:00</td>\n      <td>2904</td>\n      <td>Numeric</td>\n    </tr>\n    <tr>\n      <th>43</th>\n      <td>84478NED</td>\n      <td>Deze tabel bevat jaarcijfers over zelfstandige...</td>\n      <td>nl</td>\n      <td>Zelfstandigen; persoonskenmerken en bedrijfsta...</td>\n      <td>2020-11-02T00:00:00+01:00</td>\n      <td>CBS</td>\n      <td>202011020000</td>\n      <td></td>\n      <td>Actualisering</td>\n      <td>Regulier</td>\n      <td>2020-11-02T00:00:00+01:00</td>\n      <td>478764</td>\n      <td>Numeric</td>\n    </tr>\n    <tr>\n      <th>44</th>\n      <td>80416ned</td>\n      <td>Deze tabel bevat pompprijzen van motorbrandsto...</td>\n      <td>nl</td>\n      <td>Pompprijzen motorbrandstoffen; brandstofsoort,...</td>\n      <td>2020-11-05T00:00:00+01:00</td>\n      <td>CBS</td>\n      <td>202011050000</td>\n      <td></td>\n      <td>Actualisering</td>\n      <td>Regulier</td>\n      <td>2020-11-05T00:00:00+01:00</td>\n      <td>16260</td>\n      <td>Numeric</td>\n    </tr>\n    <tr>\n      <th>45</th>\n      <td>81298ned</td>\n      <td>In deze tabel \"In- en uitvoer van goederensoor...</td>\n      <td>nl</td>\n      <td>In- en uitvoer van goederensoorten naar EU, ni...</td>\n      <td>2020-11-05T00:00:00+01:00</td>\n      <td>CBS</td>\n      <td>202011050000</td>\n      <td></td>\n      <td>Actualisering</td>\n      <td>Regulier</td>\n      <td>2020-11-05T00:00:00+01:00</td>\n      <td>978</td>\n      <td>Numeric</td>\n    </tr>\n    <tr>\n      <th>46</th>\n      <td>82838NED</td>\n      <td>De tabel bevat gegevens over indexcijfers van ...</td>\n      <td>nl</td>\n      <td>Cao-lonen, contractuele loonkosten en arbeidsd...</td>\n      <td>2020-11-05T00:00:00+01:00</td>\n      <td>CBS</td>\n      <td>202011050000</td>\n      <td></td>\n      <td>Actualisering</td>\n      <td>Regulier</td>\n      <td>2020-11-05T00:00:00+01:00</td>\n      <td>495593</td>\n      <td>Numeric</td>\n    </tr>\n    <tr>\n      <th>47</th>\n      <td>83131NED</td>\n      <td>Deze tabel bevat cijfers over het prijsverloop...</td>\n      <td>nl</td>\n      <td>Consumentenprijzen; prijsindex 2015=100</td>\n      <td>2020-11-05T06:30:00+01:00</td>\n      <td>CBS</td>\n      <td>202011050630</td>\n      <td></td>\n      <td>Actualisering</td>\n      <td>Regulier</td>\n      <td>2020-11-05T06:30:00+01:00</td>\n      <td>914530</td>\n      <td>Numeric</td>\n    </tr>\n    <tr>\n      <th>48</th>\n      <td>83132NED</td>\n      <td>Deze tabel bevat de jaar-op-jaar ontwikkeling ...</td>\n      <td>nl</td>\n      <td>Consumentenprijzen; bijdrage en impact, CPI 20...</td>\n      <td>2020-11-05T06:30:00+01:00</td>\n      <td>CBS</td>\n      <td>202011050630</td>\n      <td></td>\n      <td>Actualisering</td>\n      <td>Regulier</td>\n      <td>2020-11-05T06:30:00+01:00</td>\n      <td>46214</td>\n      <td>Numeric</td>\n    </tr>\n    <tr>\n      <th>49</th>\n      <td>83135NED</td>\n      <td>Deze tabel bevat cijfers over het prijsverloop...</td>\n      <td>nl</td>\n      <td>Jaarmutatie HICP; Nederland, eurozone en Europ...</td>\n      <td>2020-11-05T06:30:00+01:00</td>\n      <td>CBS</td>\n      <td>202011050630</td>\n      <td></td>\n      <td>Actualisering</td>\n      <td>Regulier</td>\n      <td>2020-11-05T06:30:00+01:00</td>\n      <td>1904</td>\n      <td>Numeric</td>\n    </tr>\n    <tr>\n      <th>50</th>\n      <td>83136NED</td>\n      <td>Deze tabel bevat cijfers over het prijsverloop...</td>\n      <td>nl</td>\n      <td>Consumentenprijzen; basisjaren vanaf 1969</td>\n      <td>2020-11-05T06:30:00+01:00</td>\n      <td>CBS</td>\n      <td>202011050630</td>\n      <td></td>\n      <td>Actualisering</td>\n      <td>Regulier</td>\n      <td>2020-11-05T06:30:00+01:00</td>\n      <td>6057</td>\n      <td>Numeric</td>\n    </tr>\n    <tr>\n      <th>51</th>\n      <td>84407NED</td>\n      <td>Deze tabel bevat een historische tijdreeks met...</td>\n      <td>nl</td>\n      <td>Internationale handel; in- en uitvoerwaarde, S...</td>\n      <td>2020-11-05T00:00:00+01:00</td>\n      <td>CBS</td>\n      <td>202011050000</td>\n      <td></td>\n      <td>Actualisering</td>\n      <td>Regulier</td>\n      <td>2020-11-05T00:00:00+01:00</td>\n      <td>57015</td>\n      <td>Numeric</td>\n    </tr>\n    <tr>\n      <th>52</th>\n      <td>83765NED</td>\n      <td>Overzicht van statistische gegevens van gemeen...</td>\n      <td>nl</td>\n      <td>Kerncijfers wijken en buurten 2017</td>\n      <td>2020-11-06T00:00:00+01:00</td>\n      <td>CBS</td>\n      <td>202011060000</td>\n      <td>Binnen het thema nabijheid voorzieningen zijn ...</td>\n      <td>Correctie</td>\n      <td>Regulier</td>\n      <td>2020-11-06T00:00:00+01:00</td>\n      <td>1537850</td>\n      <td>Numeric</td>\n    </tr>\n  </tbody>\n</table>\n</div>"
     },
     "metadata": {},
     "execution_count": 20
    }
   ],
   "source": [
    "cbs_datasets"
   ]
  },
  {
   "cell_type": "code",
   "execution_count": 18,
   "metadata": {},
   "outputs": [],
   "source": [
    "ids = cbs_datasets.Identifier.tolist()"
   ]
  },
  {
   "cell_type": "code",
   "execution_count": 19,
   "metadata": {},
   "outputs": [],
   "source": [
    "all_table_urls = [\"https://odata4.cbs.nl/CBS/\"+id for id in ids]"
   ]
  },
  {
   "cell_type": "code",
   "execution_count": null,
   "metadata": {},
   "outputs": [],
   "source": []
  },
  {
   "cell_type": "code",
   "execution_count": null,
   "metadata": {},
   "outputs": [],
   "source": []
  },
  {
   "cell_type": "code",
   "execution_count": null,
   "metadata": {},
   "outputs": [],
   "source": []
  },
  {
   "source": [
    "_________\n",
    "## Check if table from parquet file is the same as table from cbs"
   ],
   "cell_type": "markdown",
   "metadata": {}
  },
  {
   "cell_type": "code",
   "execution_count": 79,
   "metadata": {},
   "outputs": [
    {
     "output_type": "execute_result",
     "data": {
      "text/plain": [
       "((481770, 8), (481770, 8))"
      ]
     },
     "metadata": {},
     "execution_count": 79
    }
   ],
   "source": [
    "from_pq.shape, from_cbs.shape"
   ]
  },
  {
   "cell_type": "code",
   "execution_count": 83,
   "metadata": {},
   "outputs": [
    {
     "output_type": "execute_result",
     "data": {
      "text/plain": [
       "   Id    Measure ValueAttribute   Value  Perioden  \\\n",
       "0   0  3000795_1           None  7771.0  2003KW01   \n",
       "1   1  3000795_1           None  7782.0  2003KW02   \n",
       "2   2  3000795_1           None  7809.0  2003KW03   \n",
       "3   3  3000795_1           None  7770.0  2003KW04   \n",
       "4   4  3000795_1           None  7783.0  2003JJ00   \n",
       "\n",
       "  BedrijfstakkenBranchesSBI2008 Persoonskenmerken Geslacht  \n",
       "0                       T001081           T009002  T001038  \n",
       "1                       T001081           T009002  T001038  \n",
       "2                       T001081           T009002  T001038  \n",
       "3                       T001081           T009002  T001038  \n",
       "4                       T001081           T009002  T001038  "
      ],
      "text/html": "<div>\n<style scoped>\n    .dataframe tbody tr th:only-of-type {\n        vertical-align: middle;\n    }\n\n    .dataframe tbody tr th {\n        vertical-align: top;\n    }\n\n    .dataframe thead th {\n        text-align: right;\n    }\n</style>\n<table border=\"1\" class=\"dataframe\">\n  <thead>\n    <tr style=\"text-align: right;\">\n      <th></th>\n      <th>Id</th>\n      <th>Measure</th>\n      <th>ValueAttribute</th>\n      <th>Value</th>\n      <th>Perioden</th>\n      <th>BedrijfstakkenBranchesSBI2008</th>\n      <th>Persoonskenmerken</th>\n      <th>Geslacht</th>\n    </tr>\n  </thead>\n  <tbody>\n    <tr>\n      <th>0</th>\n      <td>0</td>\n      <td>3000795_1</td>\n      <td>None</td>\n      <td>7771.0</td>\n      <td>2003KW01</td>\n      <td>T001081</td>\n      <td>T009002</td>\n      <td>T001038</td>\n    </tr>\n    <tr>\n      <th>1</th>\n      <td>1</td>\n      <td>3000795_1</td>\n      <td>None</td>\n      <td>7782.0</td>\n      <td>2003KW02</td>\n      <td>T001081</td>\n      <td>T009002</td>\n      <td>T001038</td>\n    </tr>\n    <tr>\n      <th>2</th>\n      <td>2</td>\n      <td>3000795_1</td>\n      <td>None</td>\n      <td>7809.0</td>\n      <td>2003KW03</td>\n      <td>T001081</td>\n      <td>T009002</td>\n      <td>T001038</td>\n    </tr>\n    <tr>\n      <th>3</th>\n      <td>3</td>\n      <td>3000795_1</td>\n      <td>None</td>\n      <td>7770.0</td>\n      <td>2003KW04</td>\n      <td>T001081</td>\n      <td>T009002</td>\n      <td>T001038</td>\n    </tr>\n    <tr>\n      <th>4</th>\n      <td>4</td>\n      <td>3000795_1</td>\n      <td>None</td>\n      <td>7783.0</td>\n      <td>2003JJ00</td>\n      <td>T001081</td>\n      <td>T009002</td>\n      <td>T001038</td>\n    </tr>\n  </tbody>\n</table>\n</div>"
     },
     "metadata": {},
     "execution_count": 83
    }
   ],
   "source": [
    "from_cbs.head()"
   ]
  },
  {
   "cell_type": "code",
   "execution_count": 84,
   "metadata": {},
   "outputs": [
    {
     "output_type": "execute_result",
     "data": {
      "text/plain": [
       "   Id    Measure ValueAttribute   Value  Perioden  \\\n",
       "0   0  3000795_1           None  7771.0  2003KW01   \n",
       "1   1  3000795_1           None  7782.0  2003KW02   \n",
       "2   2  3000795_1           None  7809.0  2003KW03   \n",
       "3   3  3000795_1           None  7770.0  2003KW04   \n",
       "4   4  3000795_1           None  7783.0  2003JJ00   \n",
       "\n",
       "  BedrijfstakkenBranchesSBI2008 Persoonskenmerken Geslacht  \n",
       "0                       T001081           T009002  T001038  \n",
       "1                       T001081           T009002  T001038  \n",
       "2                       T001081           T009002  T001038  \n",
       "3                       T001081           T009002  T001038  \n",
       "4                       T001081           T009002  T001038  "
      ],
      "text/html": "<div>\n<style scoped>\n    .dataframe tbody tr th:only-of-type {\n        vertical-align: middle;\n    }\n\n    .dataframe tbody tr th {\n        vertical-align: top;\n    }\n\n    .dataframe thead th {\n        text-align: right;\n    }\n</style>\n<table border=\"1\" class=\"dataframe\">\n  <thead>\n    <tr style=\"text-align: right;\">\n      <th></th>\n      <th>Id</th>\n      <th>Measure</th>\n      <th>ValueAttribute</th>\n      <th>Value</th>\n      <th>Perioden</th>\n      <th>BedrijfstakkenBranchesSBI2008</th>\n      <th>Persoonskenmerken</th>\n      <th>Geslacht</th>\n    </tr>\n  </thead>\n  <tbody>\n    <tr>\n      <th>0</th>\n      <td>0</td>\n      <td>3000795_1</td>\n      <td>None</td>\n      <td>7771.0</td>\n      <td>2003KW01</td>\n      <td>T001081</td>\n      <td>T009002</td>\n      <td>T001038</td>\n    </tr>\n    <tr>\n      <th>1</th>\n      <td>1</td>\n      <td>3000795_1</td>\n      <td>None</td>\n      <td>7782.0</td>\n      <td>2003KW02</td>\n      <td>T001081</td>\n      <td>T009002</td>\n      <td>T001038</td>\n    </tr>\n    <tr>\n      <th>2</th>\n      <td>2</td>\n      <td>3000795_1</td>\n      <td>None</td>\n      <td>7809.0</td>\n      <td>2003KW03</td>\n      <td>T001081</td>\n      <td>T009002</td>\n      <td>T001038</td>\n    </tr>\n    <tr>\n      <th>3</th>\n      <td>3</td>\n      <td>3000795_1</td>\n      <td>None</td>\n      <td>7770.0</td>\n      <td>2003KW04</td>\n      <td>T001081</td>\n      <td>T009002</td>\n      <td>T001038</td>\n    </tr>\n    <tr>\n      <th>4</th>\n      <td>4</td>\n      <td>3000795_1</td>\n      <td>None</td>\n      <td>7783.0</td>\n      <td>2003JJ00</td>\n      <td>T001081</td>\n      <td>T009002</td>\n      <td>T001038</td>\n    </tr>\n  </tbody>\n</table>\n</div>"
     },
     "metadata": {},
     "execution_count": 84
    }
   ],
   "source": [
    "from_pq.head()"
   ]
  },
  {
   "cell_type": "code",
   "execution_count": 87,
   "metadata": {},
   "outputs": [
    {
     "output_type": "execute_result",
     "data": {
      "text/plain": [
       "           Id  Measure  ValueAttribute  Value  Perioden  \\\n",
       "0        True     True            True   True      True   \n",
       "0       False     True            True  False      True   \n",
       "0       False     True            True  False     False   \n",
       "0       False     True            True  False     False   \n",
       "0       False     True            True  False     False   \n",
       "...       ...      ...             ...    ...       ...   \n",
       "481765  False    False           False  False     False   \n",
       "481766  False    False           False  False     False   \n",
       "481767  False    False           False  False     False   \n",
       "481768  False    False           False  False     False   \n",
       "481769  False    False           False  False     False   \n",
       "\n",
       "        BedrijfstakkenBranchesSBI2008  Persoonskenmerken  Geslacht  \n",
       "0                                True               True      True  \n",
       "0                               False              False      True  \n",
       "0                               False              False     False  \n",
       "0                                True              False     False  \n",
       "0                               False              False     False  \n",
       "...                               ...                ...       ...  \n",
       "481765                          False              False     False  \n",
       "481766                          False              False     False  \n",
       "481767                          False              False     False  \n",
       "481768                          False              False     False  \n",
       "481769                          False              False     False  \n",
       "\n",
       "[863540 rows x 8 columns]"
      ],
      "text/html": "<div>\n<style scoped>\n    .dataframe tbody tr th:only-of-type {\n        vertical-align: middle;\n    }\n\n    .dataframe tbody tr th {\n        vertical-align: top;\n    }\n\n    .dataframe thead th {\n        text-align: right;\n    }\n</style>\n<table border=\"1\" class=\"dataframe\">\n  <thead>\n    <tr style=\"text-align: right;\">\n      <th></th>\n      <th>Id</th>\n      <th>Measure</th>\n      <th>ValueAttribute</th>\n      <th>Value</th>\n      <th>Perioden</th>\n      <th>BedrijfstakkenBranchesSBI2008</th>\n      <th>Persoonskenmerken</th>\n      <th>Geslacht</th>\n    </tr>\n  </thead>\n  <tbody>\n    <tr>\n      <th>0</th>\n      <td>True</td>\n      <td>True</td>\n      <td>True</td>\n      <td>True</td>\n      <td>True</td>\n      <td>True</td>\n      <td>True</td>\n      <td>True</td>\n    </tr>\n    <tr>\n      <th>0</th>\n      <td>False</td>\n      <td>True</td>\n      <td>True</td>\n      <td>False</td>\n      <td>True</td>\n      <td>False</td>\n      <td>False</td>\n      <td>True</td>\n    </tr>\n    <tr>\n      <th>0</th>\n      <td>False</td>\n      <td>True</td>\n      <td>True</td>\n      <td>False</td>\n      <td>False</td>\n      <td>False</td>\n      <td>False</td>\n      <td>False</td>\n    </tr>\n    <tr>\n      <th>0</th>\n      <td>False</td>\n      <td>True</td>\n      <td>True</td>\n      <td>False</td>\n      <td>False</td>\n      <td>True</td>\n      <td>False</td>\n      <td>False</td>\n    </tr>\n    <tr>\n      <th>0</th>\n      <td>False</td>\n      <td>True</td>\n      <td>True</td>\n      <td>False</td>\n      <td>False</td>\n      <td>False</td>\n      <td>False</td>\n      <td>False</td>\n    </tr>\n    <tr>\n      <th>...</th>\n      <td>...</td>\n      <td>...</td>\n      <td>...</td>\n      <td>...</td>\n      <td>...</td>\n      <td>...</td>\n      <td>...</td>\n      <td>...</td>\n    </tr>\n    <tr>\n      <th>481765</th>\n      <td>False</td>\n      <td>False</td>\n      <td>False</td>\n      <td>False</td>\n      <td>False</td>\n      <td>False</td>\n      <td>False</td>\n      <td>False</td>\n    </tr>\n    <tr>\n      <th>481766</th>\n      <td>False</td>\n      <td>False</td>\n      <td>False</td>\n      <td>False</td>\n      <td>False</td>\n      <td>False</td>\n      <td>False</td>\n      <td>False</td>\n    </tr>\n    <tr>\n      <th>481767</th>\n      <td>False</td>\n      <td>False</td>\n      <td>False</td>\n      <td>False</td>\n      <td>False</td>\n      <td>False</td>\n      <td>False</td>\n      <td>False</td>\n    </tr>\n    <tr>\n      <th>481768</th>\n      <td>False</td>\n      <td>False</td>\n      <td>False</td>\n      <td>False</td>\n      <td>False</td>\n      <td>False</td>\n      <td>False</td>\n      <td>False</td>\n    </tr>\n    <tr>\n      <th>481769</th>\n      <td>False</td>\n      <td>False</td>\n      <td>False</td>\n      <td>False</td>\n      <td>False</td>\n      <td>False</td>\n      <td>False</td>\n      <td>False</td>\n    </tr>\n  </tbody>\n</table>\n<p>863540 rows × 8 columns</p>\n</div>"
     },
     "metadata": {},
     "execution_count": 87
    }
   ],
   "source": [
    "from_pq.eq(from_cbs)"
   ]
  },
  {
   "cell_type": "code",
   "execution_count": null,
   "metadata": {},
   "outputs": [],
   "source": []
  },
  {
   "source": [
    "### Check if dataframe loaded from Parquet file written after Dask Bag implementation is same as original\n",
    "______"
   ],
   "cell_type": "markdown",
   "metadata": {}
  },
  {
   "cell_type": "code",
   "execution_count": null,
   "metadata": {},
   "outputs": [],
   "source": []
  },
  {
   "cell_type": "code",
   "execution_count": 96,
   "metadata": {},
   "outputs": [],
   "source": [
    "table = bag\n",
    "file_name = 'test'\n",
    "out_dir = Path('../temp/test/')"
   ]
  },
  {
   "cell_type": "code",
   "execution_count": 98,
   "metadata": {},
   "outputs": [],
   "source": [
    "# File path to dump table as ndjson\n",
    "ndjson_path = Path(f\"{temp_ndjson_dir}/{file_name}.ndjson\")\n",
    "# File path to create as parquet file\n",
    "pq_path = Path(f\"{out_dir}/{file_name}.parquet\")"
   ]
  },
  {
   "cell_type": "code",
   "execution_count": 97,
   "metadata": {},
   "outputs": [
    {
     "output_type": "execute_result",
     "data": {
      "text/plain": [
       "PosixPath('../temp/test')"
      ]
     },
     "metadata": {},
     "execution_count": 97
    }
   ],
   "source": [
    "# create directories to store files\n",
    "out_dir = Path(out_dir)\n",
    "temp_ndjson_dir = Path(\"./temp/ndjson\")\n",
    "create_dir(temp_ndjson_dir)\n",
    "create_dir(out_dir)"
   ]
  },
  {
   "cell_type": "code",
   "execution_count": 99,
   "metadata": {},
   "outputs": [
    {
     "output_type": "stream",
     "name": "stdout",
     "text": [
      "{'Id': 0, 'Measure': '3000795_1', 'ValueAttribute': 'None', 'Value': 7771.0, 'Perioden': '2003KW01', 'BedrijfstakkenBranchesSBI2008': 'T001081', 'Persoonskenmerken': 'T009002', 'Geslacht': 'T001038'}\n<class 'dict'>\n"
     ]
    }
   ],
   "source": [
    "# Dump as ndjson format  # TODO -> how to lazily iterage over a Bag to generate a single .ndjson file\n",
    "with open(ndjson_path, 'w+') as ndjson:\n",
    "    for record in table:\n",
    "        print(record)\n",
    "        print(type(record))\n",
    "        break\n",
    "        # ndjson.write(json.dumps(record) + \"\\n\")"
   ]
  },
  {
   "cell_type": "code",
   "execution_count": 104,
   "metadata": {},
   "outputs": [],
   "source": [
    "delayed = table.to_delayed()"
   ]
  },
  {
   "cell_type": "code",
   "execution_count": 108,
   "metadata": {},
   "outputs": [
    {
     "output_type": "execute_result",
     "data": {
      "text/plain": [
       "(Delayed(('from_sequence-e777cdd1a8a10054bfb99adce15d8dbf', 1)),\n",
       " Delayed(('from_sequence-e777cdd1a8a10054bfb99adce15d8dbf', 0)))"
      ]
     },
     "metadata": {},
     "execution_count": 108
    }
   ],
   "source": [
    "delayed[1], delayed[0]"
   ]
  },
  {
   "cell_type": "code",
   "execution_count": 112,
   "metadata": {},
   "outputs": [
    {
     "output_type": "execute_result",
     "data": {
      "text/plain": [
       "['/Users/tslilstrauss/Projects/nimbletl/nimbletl/temp/ndjson/00.json',\n",
       " '/Users/tslilstrauss/Projects/nimbletl/nimbletl/temp/ndjson/01.json',\n",
       " '/Users/tslilstrauss/Projects/nimbletl/nimbletl/temp/ndjson/02.json',\n",
       " '/Users/tslilstrauss/Projects/nimbletl/nimbletl/temp/ndjson/03.json',\n",
       " '/Users/tslilstrauss/Projects/nimbletl/nimbletl/temp/ndjson/04.json',\n",
       " '/Users/tslilstrauss/Projects/nimbletl/nimbletl/temp/ndjson/05.json',\n",
       " '/Users/tslilstrauss/Projects/nimbletl/nimbletl/temp/ndjson/06.json',\n",
       " '/Users/tslilstrauss/Projects/nimbletl/nimbletl/temp/ndjson/07.json',\n",
       " '/Users/tslilstrauss/Projects/nimbletl/nimbletl/temp/ndjson/08.json',\n",
       " '/Users/tslilstrauss/Projects/nimbletl/nimbletl/temp/ndjson/09.json',\n",
       " '/Users/tslilstrauss/Projects/nimbletl/nimbletl/temp/ndjson/10.json',\n",
       " '/Users/tslilstrauss/Projects/nimbletl/nimbletl/temp/ndjson/11.json',\n",
       " '/Users/tslilstrauss/Projects/nimbletl/nimbletl/temp/ndjson/12.json',\n",
       " '/Users/tslilstrauss/Projects/nimbletl/nimbletl/temp/ndjson/13.json',\n",
       " '/Users/tslilstrauss/Projects/nimbletl/nimbletl/temp/ndjson/14.json',\n",
       " '/Users/tslilstrauss/Projects/nimbletl/nimbletl/temp/ndjson/15.json',\n",
       " '/Users/tslilstrauss/Projects/nimbletl/nimbletl/temp/ndjson/16.json',\n",
       " '/Users/tslilstrauss/Projects/nimbletl/nimbletl/temp/ndjson/17.json',\n",
       " '/Users/tslilstrauss/Projects/nimbletl/nimbletl/temp/ndjson/18.json',\n",
       " '/Users/tslilstrauss/Projects/nimbletl/nimbletl/temp/ndjson/19.json',\n",
       " '/Users/tslilstrauss/Projects/nimbletl/nimbletl/temp/ndjson/20.json',\n",
       " '/Users/tslilstrauss/Projects/nimbletl/nimbletl/temp/ndjson/21.json',\n",
       " '/Users/tslilstrauss/Projects/nimbletl/nimbletl/temp/ndjson/22.json',\n",
       " '/Users/tslilstrauss/Projects/nimbletl/nimbletl/temp/ndjson/23.json',\n",
       " '/Users/tslilstrauss/Projects/nimbletl/nimbletl/temp/ndjson/24.json',\n",
       " '/Users/tslilstrauss/Projects/nimbletl/nimbletl/temp/ndjson/25.json',\n",
       " '/Users/tslilstrauss/Projects/nimbletl/nimbletl/temp/ndjson/26.json',\n",
       " '/Users/tslilstrauss/Projects/nimbletl/nimbletl/temp/ndjson/27.json',\n",
       " '/Users/tslilstrauss/Projects/nimbletl/nimbletl/temp/ndjson/28.json',\n",
       " '/Users/tslilstrauss/Projects/nimbletl/nimbletl/temp/ndjson/29.json',\n",
       " '/Users/tslilstrauss/Projects/nimbletl/nimbletl/temp/ndjson/30.json',\n",
       " '/Users/tslilstrauss/Projects/nimbletl/nimbletl/temp/ndjson/31.json',\n",
       " '/Users/tslilstrauss/Projects/nimbletl/nimbletl/temp/ndjson/32.json',\n",
       " '/Users/tslilstrauss/Projects/nimbletl/nimbletl/temp/ndjson/33.json',\n",
       " '/Users/tslilstrauss/Projects/nimbletl/nimbletl/temp/ndjson/34.json',\n",
       " '/Users/tslilstrauss/Projects/nimbletl/nimbletl/temp/ndjson/35.json',\n",
       " '/Users/tslilstrauss/Projects/nimbletl/nimbletl/temp/ndjson/36.json',\n",
       " '/Users/tslilstrauss/Projects/nimbletl/nimbletl/temp/ndjson/37.json',\n",
       " '/Users/tslilstrauss/Projects/nimbletl/nimbletl/temp/ndjson/38.json',\n",
       " '/Users/tslilstrauss/Projects/nimbletl/nimbletl/temp/ndjson/39.json',\n",
       " '/Users/tslilstrauss/Projects/nimbletl/nimbletl/temp/ndjson/40.json',\n",
       " '/Users/tslilstrauss/Projects/nimbletl/nimbletl/temp/ndjson/41.json',\n",
       " '/Users/tslilstrauss/Projects/nimbletl/nimbletl/temp/ndjson/42.json',\n",
       " '/Users/tslilstrauss/Projects/nimbletl/nimbletl/temp/ndjson/43.json',\n",
       " '/Users/tslilstrauss/Projects/nimbletl/nimbletl/temp/ndjson/44.json',\n",
       " '/Users/tslilstrauss/Projects/nimbletl/nimbletl/temp/ndjson/45.json',\n",
       " '/Users/tslilstrauss/Projects/nimbletl/nimbletl/temp/ndjson/46.json',\n",
       " '/Users/tslilstrauss/Projects/nimbletl/nimbletl/temp/ndjson/47.json',\n",
       " '/Users/tslilstrauss/Projects/nimbletl/nimbletl/temp/ndjson/48.json',\n",
       " '/Users/tslilstrauss/Projects/nimbletl/nimbletl/temp/ndjson/49.json',\n",
       " '/Users/tslilstrauss/Projects/nimbletl/nimbletl/temp/ndjson/50.json',\n",
       " '/Users/tslilstrauss/Projects/nimbletl/nimbletl/temp/ndjson/51.json',\n",
       " '/Users/tslilstrauss/Projects/nimbletl/nimbletl/temp/ndjson/52.json',\n",
       " '/Users/tslilstrauss/Projects/nimbletl/nimbletl/temp/ndjson/53.json',\n",
       " '/Users/tslilstrauss/Projects/nimbletl/nimbletl/temp/ndjson/54.json',\n",
       " '/Users/tslilstrauss/Projects/nimbletl/nimbletl/temp/ndjson/55.json',\n",
       " '/Users/tslilstrauss/Projects/nimbletl/nimbletl/temp/ndjson/56.json',\n",
       " '/Users/tslilstrauss/Projects/nimbletl/nimbletl/temp/ndjson/57.json',\n",
       " '/Users/tslilstrauss/Projects/nimbletl/nimbletl/temp/ndjson/58.json',\n",
       " '/Users/tslilstrauss/Projects/nimbletl/nimbletl/temp/ndjson/59.json',\n",
       " '/Users/tslilstrauss/Projects/nimbletl/nimbletl/temp/ndjson/60.json',\n",
       " '/Users/tslilstrauss/Projects/nimbletl/nimbletl/temp/ndjson/61.json',\n",
       " '/Users/tslilstrauss/Projects/nimbletl/nimbletl/temp/ndjson/62.json',\n",
       " '/Users/tslilstrauss/Projects/nimbletl/nimbletl/temp/ndjson/63.json',\n",
       " '/Users/tslilstrauss/Projects/nimbletl/nimbletl/temp/ndjson/64.json',\n",
       " '/Users/tslilstrauss/Projects/nimbletl/nimbletl/temp/ndjson/65.json',\n",
       " '/Users/tslilstrauss/Projects/nimbletl/nimbletl/temp/ndjson/66.json',\n",
       " '/Users/tslilstrauss/Projects/nimbletl/nimbletl/temp/ndjson/67.json',\n",
       " '/Users/tslilstrauss/Projects/nimbletl/nimbletl/temp/ndjson/68.json',\n",
       " '/Users/tslilstrauss/Projects/nimbletl/nimbletl/temp/ndjson/69.json',\n",
       " '/Users/tslilstrauss/Projects/nimbletl/nimbletl/temp/ndjson/70.json',\n",
       " '/Users/tslilstrauss/Projects/nimbletl/nimbletl/temp/ndjson/71.json',\n",
       " '/Users/tslilstrauss/Projects/nimbletl/nimbletl/temp/ndjson/72.json',\n",
       " '/Users/tslilstrauss/Projects/nimbletl/nimbletl/temp/ndjson/73.json',\n",
       " '/Users/tslilstrauss/Projects/nimbletl/nimbletl/temp/ndjson/74.json',\n",
       " '/Users/tslilstrauss/Projects/nimbletl/nimbletl/temp/ndjson/75.json',\n",
       " '/Users/tslilstrauss/Projects/nimbletl/nimbletl/temp/ndjson/76.json',\n",
       " '/Users/tslilstrauss/Projects/nimbletl/nimbletl/temp/ndjson/77.json',\n",
       " '/Users/tslilstrauss/Projects/nimbletl/nimbletl/temp/ndjson/78.json',\n",
       " '/Users/tslilstrauss/Projects/nimbletl/nimbletl/temp/ndjson/79.json',\n",
       " '/Users/tslilstrauss/Projects/nimbletl/nimbletl/temp/ndjson/80.json',\n",
       " '/Users/tslilstrauss/Projects/nimbletl/nimbletl/temp/ndjson/81.json',\n",
       " '/Users/tslilstrauss/Projects/nimbletl/nimbletl/temp/ndjson/82.json',\n",
       " '/Users/tslilstrauss/Projects/nimbletl/nimbletl/temp/ndjson/83.json',\n",
       " '/Users/tslilstrauss/Projects/nimbletl/nimbletl/temp/ndjson/84.json',\n",
       " '/Users/tslilstrauss/Projects/nimbletl/nimbletl/temp/ndjson/85.json',\n",
       " '/Users/tslilstrauss/Projects/nimbletl/nimbletl/temp/ndjson/86.json',\n",
       " '/Users/tslilstrauss/Projects/nimbletl/nimbletl/temp/ndjson/87.json',\n",
       " '/Users/tslilstrauss/Projects/nimbletl/nimbletl/temp/ndjson/88.json',\n",
       " '/Users/tslilstrauss/Projects/nimbletl/nimbletl/temp/ndjson/89.json',\n",
       " '/Users/tslilstrauss/Projects/nimbletl/nimbletl/temp/ndjson/90.json',\n",
       " '/Users/tslilstrauss/Projects/nimbletl/nimbletl/temp/ndjson/91.json',\n",
       " '/Users/tslilstrauss/Projects/nimbletl/nimbletl/temp/ndjson/92.json',\n",
       " '/Users/tslilstrauss/Projects/nimbletl/nimbletl/temp/ndjson/93.json',\n",
       " '/Users/tslilstrauss/Projects/nimbletl/nimbletl/temp/ndjson/94.json',\n",
       " '/Users/tslilstrauss/Projects/nimbletl/nimbletl/temp/ndjson/95.json',\n",
       " '/Users/tslilstrauss/Projects/nimbletl/nimbletl/temp/ndjson/96.json',\n",
       " '/Users/tslilstrauss/Projects/nimbletl/nimbletl/temp/ndjson/97.json',\n",
       " '/Users/tslilstrauss/Projects/nimbletl/nimbletl/temp/ndjson/98.json',\n",
       " '/Users/tslilstrauss/Projects/nimbletl/nimbletl/temp/ndjson/99.json']"
      ]
     },
     "metadata": {},
     "execution_count": 112
    }
   ],
   "source": [
    "table.map(json.dumps).to_textfiles(temp_ndjson_dir/\"*.json\")"
   ]
  },
  {
   "cell_type": "code",
   "execution_count": 144,
   "metadata": {},
   "outputs": [],
   "source": [
    "filenames = sorted(glob(str(temp_ndjson_dir)+\"/*.json\"))"
   ]
  },
  {
   "cell_type": "code",
   "execution_count": 140,
   "metadata": {},
   "outputs": [],
   "source": [
    "from glob import glob\n",
    "filenames = sorted(glob(str(temp_ndjson_dir)+\"/*.json\"))\n",
    "with open(temp_ndjson_dir/'outfile.json', 'w') as out:\n",
    "    for fn in filenames:\n",
    "        with open(fn) as f:\n",
    "            out.write(f.read())"
   ]
  },
  {
   "cell_type": "code",
   "execution_count": 146,
   "metadata": {},
   "outputs": [
    {
     "output_type": "execute_result",
     "data": {
      "text/plain": [
       "'https://odata4.cbs.nl/CBS/82807NED/Observations'"
      ]
     },
     "metadata": {},
     "execution_count": 146
    }
   ],
   "source": [
    "target_url"
   ]
  },
  {
   "cell_type": "code",
   "execution_count": 147,
   "metadata": {},
   "outputs": [],
   "source": [
    "df_from_cbs = get_odata_pd(target_url)"
   ]
  },
  {
   "cell_type": "code",
   "execution_count": 149,
   "metadata": {},
   "outputs": [],
   "source": [
    "df_from_parquet = pd.read_parquet(\"/Users/tslilstrauss/Projects/nimbletl/temp/20201111/parquet/cbs.82807NED_Observations.parquet\")"
   ]
  },
  {
   "cell_type": "code",
   "execution_count": 148,
   "metadata": {},
   "outputs": [
    {
     "output_type": "execute_result",
     "data": {
      "text/plain": [
       "   Id    Measure ValueAttribute   Value  Perioden  \\\n",
       "0   0  3000795_1           None  7771.0  2003KW01   \n",
       "1   1  3000795_1           None  7782.0  2003KW02   \n",
       "2   2  3000795_1           None  7809.0  2003KW03   \n",
       "3   3  3000795_1           None  7770.0  2003KW04   \n",
       "4   4  3000795_1           None  7783.0  2003JJ00   \n",
       "\n",
       "  BedrijfstakkenBranchesSBI2008 Persoonskenmerken Geslacht  \n",
       "0                       T001081           T009002  T001038  \n",
       "1                       T001081           T009002  T001038  \n",
       "2                       T001081           T009002  T001038  \n",
       "3                       T001081           T009002  T001038  \n",
       "4                       T001081           T009002  T001038  "
      ],
      "text/html": "<div>\n<style scoped>\n    .dataframe tbody tr th:only-of-type {\n        vertical-align: middle;\n    }\n\n    .dataframe tbody tr th {\n        vertical-align: top;\n    }\n\n    .dataframe thead th {\n        text-align: right;\n    }\n</style>\n<table border=\"1\" class=\"dataframe\">\n  <thead>\n    <tr style=\"text-align: right;\">\n      <th></th>\n      <th>Id</th>\n      <th>Measure</th>\n      <th>ValueAttribute</th>\n      <th>Value</th>\n      <th>Perioden</th>\n      <th>BedrijfstakkenBranchesSBI2008</th>\n      <th>Persoonskenmerken</th>\n      <th>Geslacht</th>\n    </tr>\n  </thead>\n  <tbody>\n    <tr>\n      <th>0</th>\n      <td>0</td>\n      <td>3000795_1</td>\n      <td>None</td>\n      <td>7771.0</td>\n      <td>2003KW01</td>\n      <td>T001081</td>\n      <td>T009002</td>\n      <td>T001038</td>\n    </tr>\n    <tr>\n      <th>1</th>\n      <td>1</td>\n      <td>3000795_1</td>\n      <td>None</td>\n      <td>7782.0</td>\n      <td>2003KW02</td>\n      <td>T001081</td>\n      <td>T009002</td>\n      <td>T001038</td>\n    </tr>\n    <tr>\n      <th>2</th>\n      <td>2</td>\n      <td>3000795_1</td>\n      <td>None</td>\n      <td>7809.0</td>\n      <td>2003KW03</td>\n      <td>T001081</td>\n      <td>T009002</td>\n      <td>T001038</td>\n    </tr>\n    <tr>\n      <th>3</th>\n      <td>3</td>\n      <td>3000795_1</td>\n      <td>None</td>\n      <td>7770.0</td>\n      <td>2003KW04</td>\n      <td>T001081</td>\n      <td>T009002</td>\n      <td>T001038</td>\n    </tr>\n    <tr>\n      <th>4</th>\n      <td>4</td>\n      <td>3000795_1</td>\n      <td>None</td>\n      <td>7783.0</td>\n      <td>2003JJ00</td>\n      <td>T001081</td>\n      <td>T009002</td>\n      <td>T001038</td>\n    </tr>\n  </tbody>\n</table>\n</div>"
     },
     "metadata": {},
     "execution_count": 148
    }
   ],
   "source": [
    "df_from_cbs.head()"
   ]
  },
  {
   "cell_type": "code",
   "execution_count": 151,
   "metadata": {},
   "outputs": [
    {
     "output_type": "execute_result",
     "data": {
      "text/plain": [
       "                  Id          Value\n",
       "count  481770.000000  481770.000000\n",
       "mean   246339.821782      89.966609\n",
       "std    143092.089111     317.879557\n",
       "min         0.000000       0.000000\n",
       "25%    120442.250000       1.000000\n",
       "50%    245654.500000       9.000000\n",
       "75%    370866.750000      50.000000\n",
       "max    496079.000000    8862.000000"
      ],
      "text/html": "<div>\n<style scoped>\n    .dataframe tbody tr th:only-of-type {\n        vertical-align: middle;\n    }\n\n    .dataframe tbody tr th {\n        vertical-align: top;\n    }\n\n    .dataframe thead th {\n        text-align: right;\n    }\n</style>\n<table border=\"1\" class=\"dataframe\">\n  <thead>\n    <tr style=\"text-align: right;\">\n      <th></th>\n      <th>Id</th>\n      <th>Value</th>\n    </tr>\n  </thead>\n  <tbody>\n    <tr>\n      <th>count</th>\n      <td>481770.000000</td>\n      <td>481770.000000</td>\n    </tr>\n    <tr>\n      <th>mean</th>\n      <td>246339.821782</td>\n      <td>89.966609</td>\n    </tr>\n    <tr>\n      <th>std</th>\n      <td>143092.089111</td>\n      <td>317.879557</td>\n    </tr>\n    <tr>\n      <th>min</th>\n      <td>0.000000</td>\n      <td>0.000000</td>\n    </tr>\n    <tr>\n      <th>25%</th>\n      <td>120442.250000</td>\n      <td>1.000000</td>\n    </tr>\n    <tr>\n      <th>50%</th>\n      <td>245654.500000</td>\n      <td>9.000000</td>\n    </tr>\n    <tr>\n      <th>75%</th>\n      <td>370866.750000</td>\n      <td>50.000000</td>\n    </tr>\n    <tr>\n      <th>max</th>\n      <td>496079.000000</td>\n      <td>8862.000000</td>\n    </tr>\n  </tbody>\n</table>\n</div>"
     },
     "metadata": {},
     "execution_count": 151
    }
   ],
   "source": [
    "df_from_parquet.describe()"
   ]
  },
  {
   "cell_type": "code",
   "execution_count": null,
   "metadata": {},
   "outputs": [],
   "source": []
  },
  {
   "cell_type": "code",
   "execution_count": 153,
   "metadata": {},
   "outputs": [
    {
     "output_type": "execute_result",
     "data": {
      "text/plain": [
       "           Id  Measure  ValueAttribute  Value  Perioden  \\\n",
       "0        True     True            True   True      True   \n",
       "0       False     True            True  False      True   \n",
       "0       False     True            True  False     False   \n",
       "0       False     True            True  False     False   \n",
       "0       False     True            True  False     False   \n",
       "...       ...      ...             ...    ...       ...   \n",
       "481765  False    False           False  False     False   \n",
       "481766  False    False           False  False     False   \n",
       "481767  False    False           False  False     False   \n",
       "481768  False    False           False  False     False   \n",
       "481769  False    False           False  False     False   \n",
       "\n",
       "        BedrijfstakkenBranchesSBI2008  Persoonskenmerken  Geslacht  \n",
       "0                                True               True      True  \n",
       "0                               False              False      True  \n",
       "0                               False              False     False  \n",
       "0                                True              False     False  \n",
       "0                               False              False     False  \n",
       "...                               ...                ...       ...  \n",
       "481765                          False              False     False  \n",
       "481766                          False              False     False  \n",
       "481767                          False              False     False  \n",
       "481768                          False              False     False  \n",
       "481769                          False              False     False  \n",
       "\n",
       "[863540 rows x 8 columns]"
      ],
      "text/html": "<div>\n<style scoped>\n    .dataframe tbody tr th:only-of-type {\n        vertical-align: middle;\n    }\n\n    .dataframe tbody tr th {\n        vertical-align: top;\n    }\n\n    .dataframe thead th {\n        text-align: right;\n    }\n</style>\n<table border=\"1\" class=\"dataframe\">\n  <thead>\n    <tr style=\"text-align: right;\">\n      <th></th>\n      <th>Id</th>\n      <th>Measure</th>\n      <th>ValueAttribute</th>\n      <th>Value</th>\n      <th>Perioden</th>\n      <th>BedrijfstakkenBranchesSBI2008</th>\n      <th>Persoonskenmerken</th>\n      <th>Geslacht</th>\n    </tr>\n  </thead>\n  <tbody>\n    <tr>\n      <th>0</th>\n      <td>True</td>\n      <td>True</td>\n      <td>True</td>\n      <td>True</td>\n      <td>True</td>\n      <td>True</td>\n      <td>True</td>\n      <td>True</td>\n    </tr>\n    <tr>\n      <th>0</th>\n      <td>False</td>\n      <td>True</td>\n      <td>True</td>\n      <td>False</td>\n      <td>True</td>\n      <td>False</td>\n      <td>False</td>\n      <td>True</td>\n    </tr>\n    <tr>\n      <th>0</th>\n      <td>False</td>\n      <td>True</td>\n      <td>True</td>\n      <td>False</td>\n      <td>False</td>\n      <td>False</td>\n      <td>False</td>\n      <td>False</td>\n    </tr>\n    <tr>\n      <th>0</th>\n      <td>False</td>\n      <td>True</td>\n      <td>True</td>\n      <td>False</td>\n      <td>False</td>\n      <td>True</td>\n      <td>False</td>\n      <td>False</td>\n    </tr>\n    <tr>\n      <th>0</th>\n      <td>False</td>\n      <td>True</td>\n      <td>True</td>\n      <td>False</td>\n      <td>False</td>\n      <td>False</td>\n      <td>False</td>\n      <td>False</td>\n    </tr>\n    <tr>\n      <th>...</th>\n      <td>...</td>\n      <td>...</td>\n      <td>...</td>\n      <td>...</td>\n      <td>...</td>\n      <td>...</td>\n      <td>...</td>\n      <td>...</td>\n    </tr>\n    <tr>\n      <th>481765</th>\n      <td>False</td>\n      <td>False</td>\n      <td>False</td>\n      <td>False</td>\n      <td>False</td>\n      <td>False</td>\n      <td>False</td>\n      <td>False</td>\n    </tr>\n    <tr>\n      <th>481766</th>\n      <td>False</td>\n      <td>False</td>\n      <td>False</td>\n      <td>False</td>\n      <td>False</td>\n      <td>False</td>\n      <td>False</td>\n      <td>False</td>\n    </tr>\n    <tr>\n      <th>481767</th>\n      <td>False</td>\n      <td>False</td>\n      <td>False</td>\n      <td>False</td>\n      <td>False</td>\n      <td>False</td>\n      <td>False</td>\n      <td>False</td>\n    </tr>\n    <tr>\n      <th>481768</th>\n      <td>False</td>\n      <td>False</td>\n      <td>False</td>\n      <td>False</td>\n      <td>False</td>\n      <td>False</td>\n      <td>False</td>\n      <td>False</td>\n    </tr>\n    <tr>\n      <th>481769</th>\n      <td>False</td>\n      <td>False</td>\n      <td>False</td>\n      <td>False</td>\n      <td>False</td>\n      <td>False</td>\n      <td>False</td>\n      <td>False</td>\n    </tr>\n  </tbody>\n</table>\n<p>863540 rows × 8 columns</p>\n</div>"
     },
     "metadata": {},
     "execution_count": 153
    }
   ],
   "source": [
    "df_from_cbs.eq(df_from_parquet)"
   ]
  },
  {
   "cell_type": "code",
   "execution_count": 154,
   "metadata": {},
   "outputs": [
    {
     "output_type": "execute_result",
     "data": {
      "text/plain": [
       "Id                                 int64\n",
       "Measure                           object\n",
       "ValueAttribute                    object\n",
       "Value                            float64\n",
       "Perioden                          object\n",
       "BedrijfstakkenBranchesSBI2008     object\n",
       "Persoonskenmerken                 object\n",
       "Geslacht                          object\n",
       "dtype: object"
      ]
     },
     "metadata": {},
     "execution_count": 154
    }
   ],
   "source": [
    "df_from_parquet.dtypes"
   ]
  },
  {
   "cell_type": "code",
   "execution_count": null,
   "metadata": {},
   "outputs": [],
   "source": [
    "df_from_parquet.head()"
   ]
  },
  {
   "source": [
    "## Check if /n is added when parsin bag to json file"
   ],
   "cell_type": "markdown",
   "metadata": {}
  },
  {
   "cell_type": "code",
   "execution_count": 17,
   "metadata": {},
   "outputs": [],
   "source": [
    "url = table_url+\"/Dimensions\""
   ]
  },
  {
   "cell_type": "code",
   "execution_count": 23,
   "metadata": {},
   "outputs": [],
   "source": [
    "bag = get_odata_bag(target_url)"
   ]
  },
  {
   "cell_type": "code",
   "execution_count": 25,
   "metadata": {},
   "outputs": [
    {
     "output_type": "execute_result",
     "data": {
      "text/plain": [
       "ss/Projects/nimbletl/nimbletl/temp/193.json',\n",
       " '/Users/tslilstrauss/Projects/nimbletl/nimbletl/temp/194.json',\n",
       " '/Users/tslilstrauss/Projects/nimbletl/nimbletl/temp/195.json',\n",
       " '/Users/tslilstrauss/Projects/nimbletl/nimbletl/temp/196.json',\n",
       " '/Users/tslilstrauss/Projects/nimbletl/nimbletl/temp/197.json',\n",
       " '/Users/tslilstrauss/Projects/nimbletl/nimbletl/temp/198.json',\n",
       " '/Users/tslilstrauss/Projects/nimbletl/nimbletl/temp/199.json',\n",
       " '/Users/tslilstrauss/Projects/nimbletl/nimbletl/temp/200.json',\n",
       " '/Users/tslilstrauss/Projects/nimbletl/nimbletl/temp/201.json',\n",
       " '/Users/tslilstrauss/Projects/nimbletl/nimbletl/temp/202.json',\n",
       " '/Users/tslilstrauss/Projects/nimbletl/nimbletl/temp/203.json',\n",
       " '/Users/tslilstrauss/Projects/nimbletl/nimbletl/temp/204.json',\n",
       " '/Users/tslilstrauss/Projects/nimbletl/nimbletl/temp/205.json',\n",
       " '/Users/tslilstrauss/Projects/nimbletl/nimbletl/temp/206.json',\n",
       " '/Users/tslilstrauss/Projects/nimbletl/nimbletl/temp/207.json',\n",
       " '/Users/tslilstrauss/Projects/nimbletl/nimbletl/temp/208.json',\n",
       " '/Users/tslilstrauss/Projects/nimbletl/nimbletl/temp/209.json',\n",
       " '/Users/tslilstrauss/Projects/nimbletl/nimbletl/temp/210.json',\n",
       " '/Users/tslilstrauss/Projects/nimbletl/nimbletl/temp/211.json',\n",
       " '/Users/tslilstrauss/Projects/nimbletl/nimbletl/temp/212.json',\n",
       " '/Users/tslilstrauss/Projects/nimbletl/nimbletl/temp/213.json',\n",
       " '/Users/tslilstrauss/Projects/nimbletl/nimbletl/temp/214.json',\n",
       " '/Users/tslilstrauss/Projects/nimbletl/nimbletl/temp/215.json',\n",
       " '/Users/tslilstrauss/Projects/nimbletl/nimbletl/temp/216.json',\n",
       " '/Users/tslilstrauss/Projects/nimbletl/nimbletl/temp/217.json',\n",
       " '/Users/tslilstrauss/Projects/nimbletl/nimbletl/temp/218.json',\n",
       " '/Users/tslilstrauss/Projects/nimbletl/nimbletl/temp/219.json',\n",
       " '/Users/tslilstrauss/Projects/nimbletl/nimbletl/temp/220.json',\n",
       " '/Users/tslilstrauss/Projects/nimbletl/nimbletl/temp/221.json',\n",
       " '/Users/tslilstrauss/Projects/nimbletl/nimbletl/temp/222.json',\n",
       " '/Users/tslilstrauss/Projects/nimbletl/nimbletl/temp/223.json',\n",
       " '/Users/tslilstrauss/Projects/nimbletl/nimbletl/temp/224.json',\n",
       " '/Users/tslilstrauss/Projects/nimbletl/nimbletl/temp/225.json',\n",
       " '/Users/tslilstrauss/Projects/nimbletl/nimbletl/temp/226.json',\n",
       " '/Users/tslilstrauss/Projects/nimbletl/nimbletl/temp/227.json',\n",
       " '/Users/tslilstrauss/Projects/nimbletl/nimbletl/temp/228.json',\n",
       " '/Users/tslilstrauss/Projects/nimbletl/nimbletl/temp/229.json',\n",
       " '/Users/tslilstrauss/Projects/nimbletl/nimbletl/temp/230.json',\n",
       " '/Users/tslilstrauss/Projects/nimbletl/nimbletl/temp/231.json',\n",
       " '/Users/tslilstrauss/Projects/nimbletl/nimbletl/temp/232.json',\n",
       " '/Users/tslilstrauss/Projects/nimbletl/nimbletl/temp/233.json',\n",
       " '/Users/tslilstrauss/Projects/nimbletl/nimbletl/temp/234.json',\n",
       " '/Users/tslilstrauss/Projects/nimbletl/nimbletl/temp/235.json',\n",
       " '/Users/tslilstrauss/Projects/nimbletl/nimbletl/temp/236.json',\n",
       " '/Users/tslilstrauss/Projects/nimbletl/nimbletl/temp/237.json',\n",
       " '/Users/tslilstrauss/Projects/nimbletl/nimbletl/temp/238.json',\n",
       " '/Users/tslilstrauss/Projects/nimbletl/nimbletl/temp/239.json',\n",
       " '/Users/tslilstrauss/Projects/nimbletl/nimbletl/temp/240.json',\n",
       " '/Users/tslilstrauss/Projects/nimbletl/nimbletl/temp/241.json',\n",
       " '/Users/tslilstrauss/Projects/nimbletl/nimbletl/temp/242.json',\n",
       " '/Users/tslilstrauss/Projects/nimbletl/nimbletl/temp/243.json',\n",
       " '/Users/tslilstrauss/Projects/nimbletl/nimbletl/temp/244.json',\n",
       " '/Users/tslilstrauss/Projects/nimbletl/nimbletl/temp/245.json',\n",
       " '/Users/tslilstrauss/Projects/nimbletl/nimbletl/temp/246.json',\n",
       " '/Users/tslilstrauss/Projects/nimbletl/nimbletl/temp/247.json',\n",
       " '/Users/tslilstrauss/Projects/nimbletl/nimbletl/temp/248.json',\n",
       " '/Users/tslilstrauss/Projects/nimbletl/nimbletl/temp/249.json',\n",
       " '/Users/tslilstrauss/Projects/nimbletl/nimbletl/temp/250.json',\n",
       " '/Users/tslilstrauss/Projects/nimbletl/nimbletl/temp/251.json',\n",
       " '/Users/tslilstrauss/Projects/nimbletl/nimbletl/temp/252.json',\n",
       " '/Users/tslilstrauss/Projects/nimbletl/nimbletl/temp/253.json',\n",
       " '/Users/tslilstrauss/Projects/nimbletl/nimbletl/temp/254.json',\n",
       " '/Users/tslilstrauss/Projects/nimbletl/nimbletl/temp/255.json',\n",
       " '/Users/tslilstrauss/Projects/nimbletl/nimbletl/temp/256.json',\n",
       " '/Users/tslilstrauss/Projects/nimbletl/nimbletl/temp/257.json',\n",
       " '/Users/tslilstrauss/Projects/nimbletl/nimbletl/temp/258.json',\n",
       " '/Users/tslilstrauss/Projects/nimbletl/nimbletl/temp/259.json',\n",
       " '/Users/tslilstrauss/Projects/nimbletl/nimbletl/temp/260.json',\n",
       " '/Users/tslilstrauss/Projects/nimbletl/nimbletl/temp/261.json',\n",
       " '/Users/tslilstrauss/Projects/nimbletl/nimbletl/temp/262.json',\n",
       " '/Users/tslilstrauss/Projects/nimbletl/nimbletl/temp/263.json',\n",
       " '/Users/tslilstrauss/Projects/nimbletl/nimbletl/temp/264.json',\n",
       " '/Users/tslilstrauss/Projects/nimbletl/nimbletl/temp/265.json',\n",
       " '/Users/tslilstrauss/Projects/nimbletl/nimbletl/temp/266.json',\n",
       " '/Users/tslilstrauss/Projects/nimbletl/nimbletl/temp/267.json',\n",
       " '/Users/tslilstrauss/Projects/nimbletl/nimbletl/temp/268.json',\n",
       " '/Users/tslilstrauss/Projects/nimbletl/nimbletl/temp/269.json',\n",
       " '/Users/tslilstrauss/Projects/nimbletl/nimbletl/temp/270.json',\n",
       " '/Users/tslilstrauss/Projects/nimbletl/nimbletl/temp/271.json',\n",
       " '/Users/tslilstrauss/Projects/nimbletl/nimbletl/temp/272.json',\n",
       " '/Users/tslilstrauss/Projects/nimbletl/nimbletl/temp/273.json',\n",
       " '/Users/tslilstrauss/Projects/nimbletl/nimbletl/temp/274.json',\n",
       " '/Users/tslilstrauss/Projects/nimbletl/nimbletl/temp/275.json',\n",
       " '/Users/tslilstrauss/Projects/nimbletl/nimbletl/temp/276.json',\n",
       " '/Users/tslilstrauss/Projects/nimbletl/nimbletl/temp/277.json',\n",
       " '/Users/tslilstrauss/Projects/nimbletl/nimbletl/temp/278.json',\n",
       " '/Users/tslilstrauss/Projects/nimbletl/nimbletl/temp/279.json',\n",
       " '/Users/tslilstrauss/Projects/nimbletl/nimbletl/temp/280.json',\n",
       " '/Users/tslilstrauss/Projects/nimbletl/nimbletl/temp/281.json',\n",
       " '/Users/tslilstrauss/Projects/nimbletl/nimbletl/temp/282.json',\n",
       " '/Users/tslilstrauss/Projects/nimbletl/nimbletl/temp/283.json',\n",
       " '/Users/tslilstrauss/Projects/nimbletl/nimbletl/temp/284.json',\n",
       " '/Users/tslilstrauss/Projects/nimbletl/nimbletl/temp/285.json',\n",
       " '/Users/tslilstrauss/Projects/nimbletl/nimbletl/temp/286.json',\n",
       " '/Users/tslilstrauss/Projects/nimbletl/nimbletl/temp/287.json',\n",
       " '/Users/tslilstrauss/Projects/nimbletl/nimbletl/temp/288.json',\n",
       " '/Users/tslilstrauss/Projects/nimbletl/nimbletl/temp/289.json',\n",
       " '/Users/tslilstrauss/Projects/nimbletl/nimbletl/temp/290.json',\n",
       " '/Users/tslilstrauss/Projects/nimbletl/nimbletl/temp/291.json',\n",
       " '/Users/tslilstrauss/Projects/nimbletl/nimbletl/temp/292.json',\n",
       " '/Users/tslilstrauss/Projects/nimbletl/nimbletl/temp/293.json',\n",
       " '/Users/tslilstrauss/Projects/nimbletl/nimbletl/temp/294.json',\n",
       " '/Users/tslilstrauss/Projects/nimbletl/nimbletl/temp/295.json',\n",
       " '/Users/tslilstrauss/Projects/nimbletl/nimbletl/temp/296.json',\n",
       " '/Users/tslilstrauss/Projects/nimbletl/nimbletl/temp/297.json',\n",
       " '/Users/tslilstrauss/Projects/nimbletl/nimbletl/temp/298.json',\n",
       " '/Users/tslilstrauss/Projects/nimbletl/nimbletl/temp/299.json',\n",
       " '/Users/tslilstrauss/Projects/nimbletl/nimbletl/temp/300.json',\n",
       " '/Users/tslilstrauss/Projects/nimbletl/nimbletl/temp/301.json',\n",
       " '/Users/tslilstrauss/Projects/nimbletl/nimbletl/temp/302.json',\n",
       " '/Users/tslilstrauss/Projects/nimbletl/nimbletl/temp/303.json',\n",
       " '/Users/tslilstrauss/Projects/nimbletl/nimbletl/temp/304.json',\n",
       " '/Users/tslilstrauss/Projects/nimbletl/nimbletl/temp/305.json',\n",
       " '/Users/tslilstrauss/Projects/nimbletl/nimbletl/temp/306.json',\n",
       " '/Users/tslilstrauss/Projects/nimbletl/nimbletl/temp/307.json',\n",
       " '/Users/tslilstrauss/Projects/nimbletl/nimbletl/temp/308.json',\n",
       " '/Users/tslilstrauss/Projects/nimbletl/nimbletl/temp/309.json',\n",
       " '/Users/tslilstrauss/Projects/nimbletl/nimbletl/temp/310.json',\n",
       " '/Users/tslilstrauss/Projects/nimbletl/nimbletl/temp/311.json',\n",
       " '/Users/tslilstrauss/Projects/nimbletl/nimbletl/temp/312.json',\n",
       " '/Users/tslilstrauss/Projects/nimbletl/nimbletl/temp/313.json',\n",
       " '/Users/tslilstrauss/Projects/nimbletl/nimbletl/temp/314.json',\n",
       " '/Users/tslilstrauss/Projects/nimbletl/nimbletl/temp/315.json',\n",
       " '/Users/tslilstrauss/Projects/nimbletl/nimbletl/temp/316.json',\n",
       " '/Users/tslilstrauss/Projects/nimbletl/nimbletl/temp/317.json',\n",
       " '/Users/tslilstrauss/Projects/nimbletl/nimbletl/temp/318.json',\n",
       " '/Users/tslilstrauss/Projects/nimbletl/nimbletl/temp/319.json',\n",
       " '/Users/tslilstrauss/Projects/nimbletl/nimbletl/temp/320.json',\n",
       " '/Users/tslilstrauss/Projects/nimbletl/nimbletl/temp/321.json',\n",
       " '/Users/tslilstrauss/Projects/nimbletl/nimbletl/temp/322.json',\n",
       " '/Users/tslilstrauss/Projects/nimbletl/nimbletl/temp/323.json',\n",
       " '/Users/tslilstrauss/Projects/nimbletl/nimbletl/temp/324.json',\n",
       " '/Users/tslilstrauss/Projects/nimbletl/nimbletl/temp/325.json',\n",
       " '/Users/tslilstrauss/Projects/nimbletl/nimbletl/temp/326.json',\n",
       " '/Users/tslilstrauss/Projects/nimbletl/nimbletl/temp/327.json',\n",
       " '/Users/tslilstrauss/Projects/nimbletl/nimbletl/temp/328.json',\n",
       " '/Users/tslilstrauss/Projects/nimbletl/nimbletl/temp/329.json',\n",
       " '/Users/tslilstrauss/Projects/nimbletl/nimbletl/temp/330.json',\n",
       " '/Users/tslilstrauss/Projects/nimbletl/nimbletl/temp/331.json',\n",
       " '/Users/tslilstrauss/Projects/nimbletl/nimbletl/temp/332.json',\n",
       " '/Users/tslilstrauss/Projects/nimbletl/nimbletl/temp/333.json',\n",
       " '/Users/tslilstrauss/Projects/nimbletl/nimbletl/temp/334.json',\n",
       " '/Users/tslilstrauss/Projects/nimbletl/nimbletl/temp/335.json',\n",
       " '/Users/tslilstrauss/Projects/nimbletl/nimbletl/temp/336.json',\n",
       " '/Users/tslilstrauss/Projects/nimbletl/nimbletl/temp/337.json',\n",
       " '/Users/tslilstrauss/Projects/nimbletl/nimbletl/temp/338.json',\n",
       " '/Users/tslilstrauss/Projects/nimbletl/nimbletl/temp/339.json',\n",
       " '/Users/tslilstrauss/Projects/nimbletl/nimbletl/temp/340.json',\n",
       " '/Users/tslilstrauss/Projects/nimbletl/nimbletl/temp/341.json',\n",
       " '/Users/tslilstrauss/Projects/nimbletl/nimbletl/temp/342.json',\n",
       " '/Users/tslilstrauss/Projects/nimbletl/nimbletl/temp/343.json',\n",
       " '/Users/tslilstrauss/Projects/nimbletl/nimbletl/temp/344.json',\n",
       " '/Users/tslilstrauss/Projects/nimbletl/nimbletl/temp/345.json',\n",
       " '/Users/tslilstrauss/Projects/nimbletl/nimbletl/temp/346.json',\n",
       " '/Users/tslilstrauss/Projects/nimbletl/nimbletl/temp/347.json',\n",
       " '/Users/tslilstrauss/Projects/nimbletl/nimbletl/temp/348.json',\n",
       " '/Users/tslilstrauss/Projects/nimbletl/nimbletl/temp/349.json',\n",
       " '/Users/tslilstrauss/Projects/nimbletl/nimbletl/temp/350.json',\n",
       " '/Users/tslilstrauss/Projects/nimbletl/nimbletl/temp/351.json',\n",
       " '/Users/tslilstrauss/Projects/nimbletl/nimbletl/temp/352.json',\n",
       " '/Users/tslilstrauss/Projects/nimbletl/nimbletl/temp/353.json',\n",
       " '/Users/tslilstrauss/Projects/nimbletl/nimbletl/temp/354.json',\n",
       " '/Users/tslilstrauss/Projects/nimbletl/nimbletl/temp/355.json',\n",
       " '/Users/tslilstrauss/Projects/nimbletl/nimbletl/temp/356.json',\n",
       " '/Users/tslilstrauss/Projects/nimbletl/nimbletl/temp/357.json',\n",
       " '/Users/tslilstrauss/Projects/nimbletl/nimbletl/temp/358.json',\n",
       " '/Users/tslilstrauss/Projects/nimbletl/nimbletl/temp/359.json',\n",
       " '/Users/tslilstrauss/Projects/nimbletl/nimbletl/temp/360.json',\n",
       " '/Users/tslilstrauss/Projects/nimbletl/nimbletl/temp/361.json',\n",
       " '/Users/tslilstrauss/Projects/nimbletl/nimbletl/temp/362.json',\n",
       " '/Users/tslilstrauss/Projects/nimbletl/nimbletl/temp/363.json',\n",
       " '/Users/tslilstrauss/Projects/nimbletl/nimbletl/temp/364.json',\n",
       " '/Users/tslilstrauss/Projects/nimbletl/nimbletl/temp/365.json',\n",
       " '/Users/tslilstrauss/Projects/nimbletl/nimbletl/temp/366.json',\n",
       " '/Users/tslilstrauss/Projects/nimbletl/nimbletl/temp/367.json',\n",
       " '/Users/tslilstrauss/Projects/nimbletl/nimbletl/temp/368.json',\n",
       " '/Users/tslilstrauss/Projects/nimbletl/nimbletl/temp/369.json',\n",
       " '/Users/tslilstrauss/Projects/nimbletl/nimbletl/temp/370.json',\n",
       " '/Users/tslilstrauss/Projects/nimbletl/nimbletl/temp/371.json',\n",
       " '/Users/tslilstrauss/Projects/nimbletl/nimbletl/temp/372.json',\n",
       " '/Users/tslilstrauss/Projects/nimbletl/nimbletl/temp/373.json',\n",
       " '/Users/tslilstrauss/Projects/nimbletl/nimbletl/temp/374.json',\n",
       " '/Users/tslilstrauss/Projects/nimbletl/nimbletl/temp/375.json',\n",
       " '/Users/tslilstrauss/Projects/nimbletl/nimbletl/temp/376.json',\n",
       " '/Users/tslilstrauss/Projects/nimbletl/nimbletl/temp/377.json',\n",
       " '/Users/tslilstrauss/Projects/nimbletl/nimbletl/temp/378.json',\n",
       " '/Users/tslilstrauss/Projects/nimbletl/nimbletl/temp/379.json',\n",
       " '/Users/tslilstrauss/Projects/nimbletl/nimbletl/temp/380.json',\n",
       " '/Users/tslilstrauss/Projects/nimbletl/nimbletl/temp/381.json',\n",
       " '/Users/tslilstrauss/Projects/nimbletl/nimbletl/temp/382.json',\n",
       " '/Users/tslilstrauss/Projects/nimbletl/nimbletl/temp/383.json',\n",
       " '/Users/tslilstrauss/Projects/nimbletl/nimbletl/temp/384.json',\n",
       " '/Users/tslilstrauss/Projects/nimbletl/nimbletl/temp/385.json',\n",
       " '/Users/tslilstrauss/Projects/nimbletl/nimbletl/temp/386.json',\n",
       " '/Users/tslilstrauss/Projects/nimbletl/nimbletl/temp/387.json',\n",
       " '/Users/tslilstrauss/Projects/nimbletl/nimbletl/temp/388.json',\n",
       " '/Users/tslilstrauss/Projects/nimbletl/nimbletl/temp/389.json',\n",
       " '/Users/tslilstrauss/Projects/nimbletl/nimbletl/temp/390.json',\n",
       " '/Users/tslilstrauss/Projects/nimbletl/nimbletl/temp/391.json',\n",
       " '/Users/tslilstrauss/Projects/nimbletl/nimbletl/temp/392.json',\n",
       " '/Users/tslilstrauss/Projects/nimbletl/nimbletl/temp/393.json',\n",
       " '/Users/tslilstrauss/Projects/nimbletl/nimbletl/temp/394.json',\n",
       " '/Users/tslilstrauss/Projects/nimbletl/nimbletl/temp/395.json',\n",
       " '/Users/tslilstrauss/Projects/nimbletl/nimbletl/temp/396.json',\n",
       " '/Users/tslilstrauss/Projects/nimbletl/nimbletl/temp/397.json',\n",
       " '/Users/tslilstrauss/Projects/nimbletl/nimbletl/temp/398.json',\n",
       " '/Users/tslilstrauss/Projects/nimbletl/nimbletl/temp/399.json',\n",
       " '/Users/tslilstrauss/Projects/nimbletl/nimbletl/temp/400.json',\n",
       " '/Users/tslilstrauss/Projects/nimbletl/nimbletl/temp/401.json',\n",
       " '/Users/tslilstrauss/Projects/nimbletl/nimbletl/temp/402.json',\n",
       " '/Users/tslilstrauss/Projects/nimbletl/nimbletl/temp/403.json',\n",
       " '/Users/tslilstrauss/Projects/nimbletl/nimbletl/temp/404.json',\n",
       " '/Users/tslilstrauss/Projects/nimbletl/nimbletl/temp/405.json',\n",
       " '/Users/tslilstrauss/Projects/nimbletl/nimbletl/temp/406.json',\n",
       " '/Users/tslilstrauss/Projects/nimbletl/nimbletl/temp/407.json',\n",
       " '/Users/tslilstrauss/Projects/nimbletl/nimbletl/temp/408.json',\n",
       " '/Users/tslilstrauss/Projects/nimbletl/nimbletl/temp/409.json',\n",
       " '/Users/tslilstrauss/Projects/nimbletl/nimbletl/temp/410.json',\n",
       " '/Users/tslilstrauss/Projects/nimbletl/nimbletl/temp/411.json',\n",
       " '/Users/tslilstrauss/Projects/nimbletl/nimbletl/temp/412.json',\n",
       " '/Users/tslilstrauss/Projects/nimbletl/nimbletl/temp/413.json',\n",
       " '/Users/tslilstrauss/Projects/nimbletl/nimbletl/temp/414.json',\n",
       " '/Users/tslilstrauss/Projects/nimbletl/nimbletl/temp/415.json',\n",
       " '/Users/tslilstrauss/Projects/nimbletl/nimbletl/temp/416.json',\n",
       " '/Users/tslilstrauss/Projects/nimbletl/nimbletl/temp/417.json',\n",
       " '/Users/tslilstrauss/Projects/nimbletl/nimbletl/temp/418.json',\n",
       " '/Users/tslilstrauss/Projects/nimbletl/nimbletl/temp/419.json',\n",
       " '/Users/tslilstrauss/Projects/nimbletl/nimbletl/temp/420.json',\n",
       " '/Users/tslilstrauss/Projects/nimbletl/nimbletl/temp/421.json',\n",
       " '/Users/tslilstrauss/Projects/nimbletl/nimbletl/temp/422.json',\n",
       " '/Users/tslilstrauss/Projects/nimbletl/nimbletl/temp/423.json',\n",
       " '/Users/tslilstrauss/Projects/nimbletl/nimbletl/temp/424.json',\n",
       " '/Users/tslilstrauss/Projects/nimbletl/nimbletl/temp/425.json',\n",
       " '/Users/tslilstrauss/Projects/nimbletl/nimbletl/temp/426.json',\n",
       " '/Users/tslilstrauss/Projects/nimbletl/nimbletl/temp/427.json',\n",
       " '/Users/tslilstrauss/Projects/nimbletl/nimbletl/temp/428.json',\n",
       " '/Users/tslilstrauss/Projects/nimbletl/nimbletl/temp/429.json',\n",
       " '/Users/tslilstrauss/Projects/nimbletl/nimbletl/temp/430.json',\n",
       " '/Users/tslilstrauss/Projects/nimbletl/nimbletl/temp/431.json',\n",
       " '/Users/tslilstrauss/Projects/nimbletl/nimbletl/temp/432.json',\n",
       " '/Users/tslilstrauss/Projects/nimbletl/nimbletl/temp/433.json',\n",
       " '/Users/tslilstrauss/Projects/nimbletl/nimbletl/temp/434.json',\n",
       " '/Users/tslilstrauss/Projects/nimbletl/nimbletl/temp/435.json',\n",
       " '/Users/tslilstrauss/Projects/nimbletl/nimbletl/temp/436.json',\n",
       " '/Users/tslilstrauss/Projects/nimbletl/nimbletl/temp/437.json',\n",
       " '/Users/tslilstrauss/Projects/nimbletl/nimbletl/temp/438.json',\n",
       " '/Users/tslilstrauss/Projects/nimbletl/nimbletl/temp/439.json',\n",
       " '/Users/tslilstrauss/Projects/nimbletl/nimbletl/temp/440.json',\n",
       " '/Users/tslilstrauss/Projects/nimbletl/nimbletl/temp/441.json',\n",
       " '/Users/tslilstrauss/Projects/nimbletl/nimbletl/temp/442.json',\n",
       " '/Users/tslilstrauss/Projects/nimbletl/nimbletl/temp/443.json',\n",
       " '/Users/tslilstrauss/Projects/nimbletl/nimbletl/temp/444.json',\n",
       " '/Users/tslilstrauss/Projects/nimbletl/nimbletl/temp/445.json',\n",
       " '/Users/tslilstrauss/Projects/nimbletl/nimbletl/temp/446.json',\n",
       " '/Users/tslilstrauss/Projects/nimbletl/nimbletl/temp/447.json',\n",
       " '/Users/tslilstrauss/Projects/nimbletl/nimbletl/temp/448.json',\n",
       " '/Users/tslilstrauss/Projects/nimbletl/nimbletl/temp/449.json',\n",
       " '/Users/tslilstrauss/Projects/nimbletl/nimbletl/temp/450.json',\n",
       " '/Users/tslilstrauss/Projects/nimbletl/nimbletl/temp/451.json',\n",
       " '/Users/tslilstrauss/Projects/nimbletl/nimbletl/temp/452.json',\n",
       " '/Users/tslilstrauss/Projects/nimbletl/nimbletl/temp/453.json',\n",
       " '/Users/tslilstrauss/Projects/nimbletl/nimbletl/temp/454.json',\n",
       " '/Users/tslilstrauss/Projects/nimbletl/nimbletl/temp/455.json',\n",
       " '/Users/tslilstrauss/Projects/nimbletl/nimbletl/temp/456.json',\n",
       " '/Users/tslilstrauss/Projects/nimbletl/nimbletl/temp/457.json',\n",
       " '/Users/tslilstrauss/Projects/nimbletl/nimbletl/temp/458.json',\n",
       " '/Users/tslilstrauss/Projects/nimbletl/nimbletl/temp/459.json',\n",
       " '/Users/tslilstrauss/Projects/nimbletl/nimbletl/temp/460.json',\n",
       " '/Users/tslilstrauss/Projects/nimbletl/nimbletl/temp/461.json',\n",
       " '/Users/tslilstrauss/Projects/nimbletl/nimbletl/temp/462.json',\n",
       " '/Users/tslilstrauss/Projects/nimbletl/nimbletl/temp/463.json',\n",
       " '/Users/tslilstrauss/Projects/nimbletl/nimbletl/temp/464.json',\n",
       " '/Users/tslilstrauss/Projects/nimbletl/nimbletl/temp/465.json',\n",
       " '/Users/tslilstrauss/Projects/nimbletl/nimbletl/temp/466.json',\n",
       " '/Users/tslilstrauss/Projects/nimbletl/nimbletl/temp/467.json',\n",
       " '/Users/tslilstrauss/Projects/nimbletl/nimbletl/temp/468.json',\n",
       " '/Users/tslilstrauss/Projects/nimbletl/nimbletl/temp/469.json',\n",
       " '/Users/tslilstrauss/Projects/nimbletl/nimbletl/temp/470.json',\n",
       " '/Users/tslilstrauss/Projects/nimbletl/nimbletl/temp/471.json',\n",
       " '/Users/tslilstrauss/Projects/nimbletl/nimbletl/temp/472.json',\n",
       " '/Users/tslilstrauss/Projects/nimbletl/nimbletl/temp/473.json',\n",
       " '/Users/tslilstrauss/Projects/nimbletl/nimbletl/temp/474.json',\n",
       " '/Users/tslilstrauss/Projects/nimbletl/nimbletl/temp/475.json',\n",
       " '/Users/tslilstrauss/Projects/nimbletl/nimbletl/temp/476.json',\n",
       " '/Users/tslilstrauss/Projects/nimbletl/nimbletl/temp/477.json',\n",
       " '/Users/tslilstrauss/Projects/nimbletl/nimbletl/temp/478.json',\n",
       " '/Users/tslilstrauss/Projects/nimbletl/nimbletl/temp/479.json',\n",
       " '/Users/tslilstrauss/Projects/nimbletl/nimbletl/temp/480.json',\n",
       " '/Users/tslilstrauss/Projects/nimbletl/nimbletl/temp/481.json',\n",
       " '/Users/tslilstrauss/Projects/nimbletl/nimbletl/temp/482.json',\n",
       " '/Users/tslilstrauss/Projects/nimbletl/nimbletl/temp/483.json',\n",
       " '/Users/tslilstrauss/Projects/nimbletl/nimbletl/temp/484.json',\n",
       " '/Users/tslilstrauss/Projects/nimbletl/nimbletl/temp/485.json',\n",
       " '/Users/tslilstrauss/Projects/nimbletl/nimbletl/temp/486.json',\n",
       " '/Users/tslilstrauss/Projects/nimbletl/nimbletl/temp/487.json',\n",
       " '/Users/tslilstrauss/Projects/nimbletl/nimbletl/temp/488.json',\n",
       " '/Users/tslilstrauss/Projects/nimbletl/nimbletl/temp/489.json',\n",
       " '/Users/tslilstrauss/Projects/nimbletl/nimbletl/temp/490.json',\n",
       " '/Users/tslilstrauss/Projects/nimbletl/nimbletl/temp/491.json',\n",
       " '/Users/tslilstrauss/Projects/nimbletl/nimbletl/temp/492.json',\n",
       " '/Users/tslilstrauss/Projects/nimbletl/nimbletl/temp/493.json',\n",
       " '/Users/tslilstrauss/Projects/nimbletl/nimbletl/temp/494.json',\n",
       " '/Users/tslilstrauss/Projects/nimbletl/nimbletl/temp/495.json',\n",
       " '/Users/tslilstrauss/Projects/nimbletl/nimbletl/temp/496.json',\n",
       " '/Users/tslilstrauss/Projects/nimbletl/nimbletl/temp/497.json',\n",
       " '/Users/tslilstrauss/Projects/nimbletl/nimbletl/temp/498.json',\n",
       " '/Users/tslilstrauss/Projects/nimbletl/nimbletl/temp/499.json',\n",
       " '/Users/tslilstrauss/Projects/nimbletl/nimbletl/temp/500.json']"
      ]
     },
     "metadata": {},
     "execution_count": 25
    }
   ],
   "source": [
    "bag.map(json.dumps).to_textfiles(\"./temp/*.json\")"
   ]
  },
  {
   "cell_type": "code",
   "execution_count": null,
   "metadata": {},
   "outputs": [],
   "source": []
  }
 ]
}